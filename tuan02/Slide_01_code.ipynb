{
  "nbformat": 4,
  "nbformat_minor": 0,
  "metadata": {
    "colab": {
      "provenance": []
    },
    "kernelspec": {
      "name": "python3",
      "display_name": "Python 3"
    },
    "language_info": {
      "name": "python"
    }
  },
  "cells": [
    {
      "cell_type": "markdown",
      "source": [
        "#Ngôn ngữ Python"
      ],
      "metadata": {
        "id": "EeDO3FxoaN4-"
      }
    },
    {
      "cell_type": "markdown",
      "source": [
        "###Nhập và Xuất dữ liệu"
      ],
      "metadata": {
        "id": "0Hvx4EQpbRm9"
      }
    },
    {
      "cell_type": "code",
      "source": [
        "print(42)\n",
        "\n",
        "a=3\n",
        "print(\"a = \", a)\n",
        "b=4\n",
        "print(\"a = \\n\", b)\n",
        "\n",
        "print(\"a\",\"b\")\n",
        "\n",
        "print(\"a\",\"b\",sep=\"\")\n",
        "\n",
        "print(192,168,178,42,sep=\".\")\n",
        "\n",
        "print(\"a\",\"b\",sep=\":-)\")"
      ],
      "metadata": {
        "colab": {
          "base_uri": "https://localhost:8080/"
        },
        "id": "-EL4OfjaajJF",
        "outputId": "b2ef76d1-87c9-4bfb-e76c-fc7f79c750dd"
      },
      "execution_count": null,
      "outputs": [
        {
          "output_type": "stream",
          "name": "stdout",
          "text": [
            "42\n",
            "a =  3\n",
            "a = \n",
            " 4\n",
            "a b\n",
            "ab\n",
            "192.168.178.42\n",
            "a:-)b\n"
          ]
        }
      ]
    },
    {
      "cell_type": "markdown",
      "source": [
        "###VD: Giải phương trình bậc 2"
      ],
      "metadata": {
        "id": "odfafihHbxS7"
      }
    },
    {
      "cell_type": "code",
      "source": [
        "a = float(input(\"A = \"))\n",
        "b = float(input(\"B = \"))\n",
        "c = float(input(\"C = \"))\n",
        "delta = b*b-4*a*c\n",
        "\n",
        "if delta==0:\n",
        "    print(\"Nghiem kep: x = \", str(-b/2/a))\n",
        "\n",
        "if delta<0:\n",
        "    print(\"Phuong trinh vo nghiem\")\n",
        "\n",
        "if delta>0:\n",
        "    print(\"X1 = \" + str((-b+delta**0.5)/2/a))\n",
        "    print(\"X2 = \" + str((-b-delta**0.5)/2/a))"
      ],
      "metadata": {
        "colab": {
          "base_uri": "https://localhost:8080/"
        },
        "id": "jgnWXUnXb1cR",
        "outputId": "4102344f-c243-4f70-c513-eea8a7b75ba3"
      },
      "execution_count": null,
      "outputs": [
        {
          "output_type": "stream",
          "name": "stdout",
          "text": [
            "A = 2\n",
            "B = 3\n",
            "C = 4\n",
            "Phuong trinh vo nghiem\n"
          ]
        }
      ]
    },
    {
      "cell_type": "markdown",
      "source": [
        "###Kiểu dữ liệu & phép toán liên quan"
      ],
      "metadata": {
        "id": "DVi67FVdcNjH"
      }
    },
    {
      "cell_type": "code",
      "source": [
        "A = 1234 # hệ cơ số 10\n",
        "print(type(A))\n"
      ],
      "metadata": {
        "colab": {
          "base_uri": "https://localhost:8080/"
        },
        "id": "7DGN2C_XcQEf",
        "outputId": "845e11ed-2e49-4ad2-a728-6dbe00da6f02"
      },
      "execution_count": null,
      "outputs": [
        {
          "output_type": "stream",
          "name": "stdout",
          "text": [
            "<class 'int'>\n"
          ]
        }
      ]
    },
    {
      "cell_type": "markdown",
      "source": [
        "###Cấu trúc rẽ nhánh"
      ],
      "metadata": {
        "id": "oyf5Za0ncuIh"
      }
    },
    {
      "cell_type": "code",
      "source": [
        "name = input(\"What's your name? \")\n",
        "print(\"Nice to meet you \" + name + \"!\")\n",
        "age = int(input(\"Your age? \"))\n",
        "print(\"You are already\", age, \"years old,\",\n",
        "name, \"!\")\n",
        "if age>=18:\n",
        "\n",
        "  print(\"Đủ tuổi đi bầu cử\")\n",
        "  if age>100:\n",
        "\n",
        "    print(\"Có vẻ sai sai!\")\n",
        "\n",
        "else:\n",
        "\n",
        "  print(\"Nhỏ quá\")"
      ],
      "metadata": {
        "colab": {
          "base_uri": "https://localhost:8080/"
        },
        "id": "AbKTcJ-dcvR8",
        "outputId": "ee4101e9-1d00-4b5a-c174-e92d3f770b37"
      },
      "execution_count": null,
      "outputs": [
        {
          "output_type": "stream",
          "name": "stdout",
          "text": [
            "What's your name? phu\n",
            "Nice to meet you phu!\n",
            "Your age? 18\n",
            "You are already 18 years old, phu !\n",
            "Đủ tuổi đi bầu cử\n"
          ]
        }
      ]
    },
    {
      "cell_type": "markdown",
      "source": [
        "###Vòng lặp"
      ],
      "metadata": {
        "id": "6wzc1TEBc3Iy"
      }
    },
    {
      "cell_type": "code",
      "source": [
        "for d in range(10,20): # in các số từ 10 đến 19\n",
        "  print(\"d=\",d)\n",
        "\n",
        "print('-------------------------------')\n",
        "for a in range(20,10,-1): # in các số từ 20 đến 11\n",
        "  print(\"a=\",a)"
      ],
      "metadata": {
        "colab": {
          "base_uri": "https://localhost:8080/"
        },
        "id": "CAsAQwMPdQR5",
        "outputId": "361c39f2-41dc-4eab-a3fa-790268d3151c"
      },
      "execution_count": null,
      "outputs": [
        {
          "output_type": "stream",
          "name": "stdout",
          "text": [
            "d= 10\n",
            "d= 11\n",
            "d= 12\n",
            "d= 13\n",
            "d= 14\n",
            "d= 15\n",
            "d= 16\n",
            "d= 17\n",
            "d= 18\n",
            "d= 19\n",
            "-------------------------------\n",
            "a= 20\n",
            "a= 19\n",
            "a= 18\n",
            "a= 17\n",
            "a= 16\n",
            "a= 15\n",
            "a= 14\n",
            "a= 13\n",
            "a= 12\n",
            "a= 11\n"
          ]
        }
      ]
    },
    {
      "cell_type": "markdown",
      "source": [
        "###Hàm"
      ],
      "metadata": {
        "id": "uhy_8SIEcv6e"
      }
    },
    {
      "cell_type": "code",
      "source": [
        "def tich(a, b = 1):\n",
        "  return a*b\n",
        "print(tich(10, 20))"
      ],
      "metadata": {
        "colab": {
          "base_uri": "https://localhost:8080/"
        },
        "id": "_NRCM8adcwZN",
        "outputId": "64350815-1ad6-4dd5-84e2-1fedc81021af"
      },
      "execution_count": null,
      "outputs": [
        {
          "output_type": "stream",
          "name": "stdout",
          "text": [
            "200\n"
          ]
        }
      ]
    },
    {
      "cell_type": "markdown",
      "source": [
        "###Chuỗi"
      ],
      "metadata": {
        "id": "48ruDCe7d2GG"
      }
    },
    {
      "cell_type": "markdown",
      "source": [
        "####Cắt chuỗi"
      ],
      "metadata": {
        "id": "lzBwUxq4d4zd"
      }
    },
    {
      "cell_type": "code",
      "source": [
        "s = '0123456789'\n",
        "print(s[3:6])# 345\n",
        "print(s[3:])# 3456789\n",
        "print(s[:6])# 012345\n",
        "print(s[-7:-4])# 345\n",
        "print(s[-4:-7])\n",
        "print(s[-4:-7:-1]) # 654\n",
        "print(s[:len(s)])# 0123456789\n",
        "print(s[:len(s)-1])# 012345678\n",
        "print(s[:])# 0123456789\n",
        "print(s[len(s)::-1]) # 9876543210\n",
        "print(s[len(s)-1::-1])# 9876543210\n",
        "print(s[len(s)-2::-1])# 876543210"
      ],
      "metadata": {
        "colab": {
          "base_uri": "https://localhost:8080/"
        },
        "id": "vSHfNjxNd9IW",
        "outputId": "b74bbdce-9503-472c-e61c-287db68308d8"
      },
      "execution_count": null,
      "outputs": [
        {
          "output_type": "stream",
          "name": "stdout",
          "text": [
            "345\n",
            "3456789\n",
            "012345\n",
            "345\n",
            "\n",
            "654\n",
            "0123456789\n",
            "012345678\n",
            "0123456789\n",
            "9876543210\n",
            "9876543210\n",
            "876543210\n"
          ]
        }
      ]
    },
    {
      "cell_type": "markdown",
      "source": [
        "###Định dạng chuỗi"
      ],
      "metadata": {
        "id": "XZyY3s57egSd"
      }
    },
    {
      "cell_type": "code",
      "source": [
        "\"Chao %s, gio la %d gio\" % ('txnam', 10)\n",
        "\"Can bac 2 cua 2 = %f\" % (2**0.5)\n",
        "\"Can bac 2 cua 2 = %10.3f\" % (2**0.5)\n",
        "\"Can bac 2 cua 2 = %10f\" % (2**0.5)\n",
        "\"Can bac 2 cua 2 = %.7f\" % (2**0.5)"
      ],
      "metadata": {
        "colab": {
          "base_uri": "https://localhost:8080/",
          "height": 36
        },
        "id": "99_Ty9Ciei_C",
        "outputId": "d60c6566-96b0-467b-b49e-4ccb5bc5f342"
      },
      "execution_count": null,
      "outputs": [
        {
          "output_type": "execute_result",
          "data": {
            "text/plain": [
              "'Can bac 2 cua 2 = 1.4142136'"
            ],
            "application/vnd.google.colaboratory.intrinsic+json": {
              "type": "string"
            }
          },
          "metadata": {},
          "execution_count": 17
        }
      ]
    },
    {
      "cell_type": "code",
      "source": [
        "myname = 'DHNTT'\n",
        "s = f'This is {myname}.' # 'This is DHNTT.'\n",
        "print(s)\n",
        "w = f'{s} {myname}' # 'This is DHNTT. DHNTT '\n",
        "print(w)\n",
        "z = f'{{s}} {s}' # '{s} This is DHNTT.‘\n",
        "print(z)"
      ],
      "metadata": {
        "colab": {
          "base_uri": "https://localhost:8080/"
        },
        "id": "onGCeP_Veo1A",
        "outputId": "fd4ed4cf-7778-4525-9887-b8014bce2d7c"
      },
      "execution_count": null,
      "outputs": [
        {
          "output_type": "stream",
          "name": "stdout",
          "text": [
            "This is DHNTT.\n",
            "This is DHNTT. DHNTT\n",
            "{s} This is DHNTT.\n"
          ]
        }
      ]
    },
    {
      "cell_type": "code",
      "source": [
        "# điền lần lượt từng giá trị vào giữa cặp ngoặc nhọn\n",
        "'a: {}, b: {}, c: {}'.format(1, 2, 3)\n",
        "# điền nhưng không lần lượt\n",
        "'a: {1}, b: {2}, c: {0}'.format('one', 'two', 'three')\n",
        "'two same values: {0}, {0}'.format(1, 2)\n",
        "# điền và chỉ định từng giá trị\n",
        "'1: {one}, 2: {two}'.format(one=111, two=222)\n",
        "# căn giữa: ' aaaa '\n",
        "'{:^10}'.format('aaaa')\n",
        "# căn lề trái: 'aaaa '\n",
        "'{:<10}'.format('aaaa')\n",
        "# căn lề phải ' aaaa'\n",
        "'{:>10}'.format('aaaa')\n",
        "# căn lề phải, thay khoảng trắng bằng -: '------aaaa'\n",
        "'{:->10}'.format('aaaa')\n",
        "# căn lề trái, thay khoảng trắng *: 'aaa******'\n",
        "'{:*<10}'.format('aaaa')\n",
        "# căn giữa, thay khoảng trắng bằng +: '+++aaaa+++'\n",
        "'{:+^10}'.format('aaaa')"
      ],
      "metadata": {
        "colab": {
          "base_uri": "https://localhost:8080/",
          "height": 36
        },
        "id": "8ILd3eogeyhg",
        "outputId": "a24db212-b2fc-428b-aff5-133d84a58df4"
      },
      "execution_count": null,
      "outputs": [
        {
          "output_type": "execute_result",
          "data": {
            "text/plain": [
              "'+++aaaa+++'"
            ],
            "application/vnd.google.colaboratory.intrinsic+json": {
              "type": "string"
            }
          },
          "metadata": {},
          "execution_count": 20
        }
      ]
    },
    {
      "cell_type": "markdown",
      "source": [
        "###List"
      ],
      "metadata": {
        "id": "i4uAHqy2e_li"
      }
    },
    {
      "cell_type": "code",
      "source": [
        "l1 = list([1, 2, 3, 4])\n",
        "l1[-1] = list('abc')\n",
        "print(l1)"
      ],
      "metadata": {
        "colab": {
          "base_uri": "https://localhost:8080/"
        },
        "id": "Utm-9m8PfB-w",
        "outputId": "254f233d-dc2f-451b-e5c2-449ff76a2c5f"
      },
      "execution_count": null,
      "outputs": [
        {
          "output_type": "stream",
          "name": "stdout",
          "text": [
            "[1, 2, 3, ['a', 'b', 'c']]\n"
          ]
        }
      ]
    },
    {
      "cell_type": "markdown",
      "source": [
        "###Tuple (hàng)"
      ],
      "metadata": {
        "id": "Q_dE7EhqfDbX"
      }
    },
    {
      "cell_type": "code",
      "source": [
        "(1, 2, 3, 4, 5) # tuple 5 số nguyên\n",
        "('a', 'b', 'c', 'd') # tuple 4 chuỗi\n",
        "(1, 'one', [2, 'two']) # tuple hỗ hợp\n",
        "(1,) # tuple 1 phần tử\n",
        "() # tuple rỗng"
      ],
      "metadata": {
        "colab": {
          "base_uri": "https://localhost:8080/"
        },
        "id": "ygPtb7bifGBH",
        "outputId": "b4a8aee2-cc9c-4c53-b873-7600be56416b"
      },
      "execution_count": null,
      "outputs": [
        {
          "output_type": "execute_result",
          "data": {
            "text/plain": [
              "()"
            ]
          },
          "metadata": {},
          "execution_count": 22
        }
      ]
    },
    {
      "cell_type": "markdown",
      "source": [
        "###Set (tập hợp) và Frozenset (tập hợp tĩnh)"
      ],
      "metadata": {
        "id": "P0q_rD4OfPAp"
      }
    },
    {
      "cell_type": "code",
      "source": [
        "basket = {'apple','orange','apple','pear'}\n",
        "print(basket)"
      ],
      "metadata": {
        "colab": {
          "base_uri": "https://localhost:8080/"
        },
        "id": "OvWh2gNefTNL",
        "outputId": "ac5c210b-0a28-4ecf-d48e-693cac86a89a"
      },
      "execution_count": null,
      "outputs": [
        {
          "output_type": "stream",
          "name": "stdout",
          "text": [
            "{'pear', 'orange', 'apple'}\n"
          ]
        }
      ]
    },
    {
      "cell_type": "code",
      "source": [
        "a = {5,2,3,1,4}\n",
        "print(\"a=\", a) #a = {1, 2, 3, 4, 5}"
      ],
      "metadata": {
        "colab": {
          "base_uri": "https://localhost:8080/"
        },
        "id": "tmJVilJffYYg",
        "outputId": "7d9d73dd-8df6-4c79-de0d-f8ce6fee1d13"
      },
      "execution_count": null,
      "outputs": [
        {
          "output_type": "stream",
          "name": "stdout",
          "text": [
            "a= {1, 2, 3, 4, 5}\n"
          ]
        }
      ]
    },
    {
      "cell_type": "code",
      "source": [
        "s1 = set([1, 2, 3, 4]) # {1, 2, 3, 4}\n",
        "print(\"s1= \",s1)\n",
        "s2 = set((1, 1, 1)) # {1}\n",
        "print(\"s2= \",s2)\n",
        "s3 = s1 - s2 # {2, 3, 4}\n",
        "print(\"s3= \",s3)\n",
        "s4 = set(range(1,100)) # {1, 2, 3,..., 98, 99}\n",
        "print(\"s4= \",s4)"
      ],
      "metadata": {
        "colab": {
          "base_uri": "https://localhost:8080/"
        },
        "id": "XkBbXWH0fd6t",
        "outputId": "bd138839-9073-4d30-cad4-ad08d82d503b"
      },
      "execution_count": null,
      "outputs": [
        {
          "output_type": "stream",
          "name": "stdout",
          "text": [
            "s1=  {1, 2, 3, 4}\n",
            "s2=  {1}\n",
            "s3=  {2, 3, 4}\n",
            "s4=  {1, 2, 3, 4, 5, 6, 7, 8, 9, 10, 11, 12, 13, 14, 15, 16, 17, 18, 19, 20, 21, 22, 23, 24, 25, 26, 27, 28, 29, 30, 31, 32, 33, 34, 35, 36, 37, 38, 39, 40, 41, 42, 43, 44, 45, 46, 47, 48, 49, 50, 51, 52, 53, 54, 55, 56, 57, 58, 59, 60, 61, 62, 63, 64, 65, 66, 67, 68, 69, 70, 71, 72, 73, 74, 75, 76, 77, 78, 79, 80, 81, 82, 83, 84, 85, 86, 87, 88, 89, 90, 91, 92, 93, 94, 95, 96, 97, 98, 99}\n"
          ]
        }
      ]
    },
    {
      "cell_type": "markdown",
      "source": [
        "###Set"
      ],
      "metadata": {
        "id": "QRjmuXLhfTem"
      }
    },
    {
      "cell_type": "code",
      "source": [
        "my_set = {1,3}\n",
        "my_set.add(2) #thêm\n",
        "my_set.update([2,3,4]) # Cập nhật\n",
        "my_set.update([4,5], {1,6,8}) # Cập nhật set\n",
        "print(my_set)"
      ],
      "metadata": {
        "colab": {
          "base_uri": "https://localhost:8080/"
        },
        "id": "WnBcB9aLfT0r",
        "outputId": "1cdee261-f445-496e-877a-14c76dba2b6b"
      },
      "execution_count": null,
      "outputs": [
        {
          "output_type": "stream",
          "name": "stdout",
          "text": [
            "{1, 2, 3, 4, 5, 6, 8}\n"
          ]
        }
      ]
    },
    {
      "cell_type": "markdown",
      "source": [
        "###các phép toán trên Set"
      ],
      "metadata": {
        "id": "u3_a1dNPfzQj"
      }
    },
    {
      "cell_type": "code",
      "source": [
        "a = set('abracadabra') # {'d', 'r', 'c', 'b', 'a'}\n",
        "b = set('alacazam') # {'z', 'c', 'm', 'l', 'a'}\n",
        "# Phép Hiệu: thuộc a nhưng không thuộc b\n",
        "print(a - b) # {'r', 'd', 'b'}\n",
        "\n",
        "# Phép Hợp: thuộc a hoặc b\n",
        "# {'a', 'c', 'r', 'd', 'b', 'm', 'z', 'l'}\n",
        "\n",
        "print(a | b)\n",
        "\n",
        "# Phép Giao: thuộc cả a và b\n",
        "\n",
        "print(a & b) # {'a', 'c'}\n",
        "\n",
        "# Phép Xor: thuộc hoặc a, hoặc b nhưng không phải cả 2\n",
        "# {'r', 'd', 'b', 'm', 'z', 'l'}\n",
        "print(a ^ b)"
      ],
      "metadata": {
        "colab": {
          "base_uri": "https://localhost:8080/"
        },
        "id": "S-G1wBqHf2Sh",
        "outputId": "56cb0f77-3f1b-47b6-97e2-b0b60bbec86a"
      },
      "execution_count": null,
      "outputs": [
        {
          "output_type": "stream",
          "name": "stdout",
          "text": [
            "{'r', 'b', 'd'}\n",
            "{'r', 'l', 'a', 'm', 'b', 'c', 'z', 'd'}\n",
            "{'c', 'a'}\n",
            "{'l', 'm', 'b', 'r', 'z', 'd'}\n"
          ]
        }
      ]
    },
    {
      "cell_type": "markdown",
      "source": [
        "###Các phương thức của set"
      ],
      "metadata": {
        "id": "gjOFGFIef9sT"
      }
    },
    {
      "cell_type": "code",
      "source": [
        "num = {1,3,5,6,8,20,7,8,29,33}\n",
        "print(\"Số lớn nhất là :\", max(num))"
      ],
      "metadata": {
        "colab": {
          "base_uri": "https://localhost:8080/"
        },
        "id": "o6Z8QcHygA69",
        "outputId": "11af1e81-ba5c-49ac-b292-1a3b09276ae0"
      },
      "execution_count": null,
      "outputs": [
        {
          "output_type": "stream",
          "name": "stdout",
          "text": [
            "Số lớn nhất là : 33\n"
          ]
        }
      ]
    },
    {
      "cell_type": "markdown",
      "source": [
        "###Vòng lặp for của set()"
      ],
      "metadata": {
        "id": "1k4JrZrHgEDN"
      }
    },
    {
      "cell_type": "code",
      "source": [
        "setFruits = {'lemon','orange','apple','pear'}\n",
        "for x in setFruits:\n",
        "  print(x)"
      ],
      "metadata": {
        "colab": {
          "base_uri": "https://localhost:8080/"
        },
        "id": "CCP0NJyggH-1",
        "outputId": "71b78932-5ce4-4cc4-bc83-8518a6de558e"
      },
      "execution_count": null,
      "outputs": [
        {
          "output_type": "stream",
          "name": "stdout",
          "text": [
            "pear\n",
            "lemon\n",
            "orange\n",
            "apple\n"
          ]
        }
      ]
    },
    {
      "cell_type": "code",
      "source": [
        "#vd\n",
        "for letter in set(\"chivuong\"):\n",
        "  print(letter)"
      ],
      "metadata": {
        "colab": {
          "base_uri": "https://localhost:8080/"
        },
        "id": "gQ-YYBZ_gOTN",
        "outputId": "6016baea-c4d9-49ef-d990-1c0e49608cc2"
      },
      "execution_count": null,
      "outputs": [
        {
          "output_type": "stream",
          "name": "stdout",
          "text": [
            "g\n",
            "o\n",
            "n\n",
            "i\n",
            "h\n",
            "v\n",
            "u\n",
            "c\n"
          ]
        }
      ]
    },
    {
      "cell_type": "markdown",
      "source": [
        "###Dictionary (từ điển)\n",
        "\n",
        "\n"
      ],
      "metadata": {
        "id": "q1-K33S9iBvd"
      }
    },
    {
      "cell_type": "code",
      "source": [
        "dict = {1:'one',2:'two',3:'three'}\n",
        "print(dict[1]) #'one'\n",
        "dict[4]='four'\n",
        "print(dict)"
      ],
      "metadata": {
        "colab": {
          "base_uri": "https://localhost:8080/"
        },
        "id": "DWHNzN3riJbf",
        "outputId": "745fbd6e-6c75-4627-a342-82d64cea674f"
      },
      "execution_count": null,
      "outputs": [
        {
          "output_type": "stream",
          "name": "stdout",
          "text": [
            "one\n",
            "{1: 'one', 2: 'two', 3: 'three', 4: 'four'}\n"
          ]
        }
      ]
    },
    {
      "cell_type": "code",
      "source": [
        "l1 = [\"a\",\"b\",\"c\"]\n",
        "l2 = [1,2,3]\n",
        "c = zip(l1, l2)\n",
        "for i in c:\n",
        "  print(i)"
      ],
      "metadata": {
        "colab": {
          "base_uri": "https://localhost:8080/"
        },
        "id": "uxe1PndaiYmN",
        "outputId": "2db1b74b-e6ef-4e18-d602-e4293c3f7df9"
      },
      "execution_count": null,
      "outputs": [
        {
          "output_type": "stream",
          "name": "stdout",
          "text": [
            "('a', 1)\n",
            "('b', 2)\n",
            "('c', 3)\n"
          ]
        }
      ]
    },
    {
      "cell_type": "code",
      "source": [
        "Dict = {1: 'Nguyen', 2: 'Van', 3: 'An'}\n",
        "print(Dict)"
      ],
      "metadata": {
        "colab": {
          "base_uri": "https://localhost:8080/"
        },
        "id": "qZplv6qZi3On",
        "outputId": "7164d2c5-87ab-4acd-a7d6-bcbce87be886"
      },
      "execution_count": null,
      "outputs": [
        {
          "output_type": "stream",
          "name": "stdout",
          "text": [
            "{1: 'Nguyen', 2: 'Van', 3: 'An'}\n"
          ]
        }
      ]
    },
    {
      "cell_type": "code",
      "source": [
        "Dict = {'Name': 'dict', 1: [1, 2, 3, 4]}\n",
        "print(Dict)"
      ],
      "metadata": {
        "colab": {
          "base_uri": "https://localhost:8080/"
        },
        "id": "7w1P4kaFi3L8",
        "outputId": "9c79002b-718c-49f5-e6dd-4519a2f71910"
      },
      "execution_count": null,
      "outputs": [
        {
          "output_type": "stream",
          "name": "stdout",
          "text": [
            "{'Name': 'dict', 1: [1, 2, 3, 4]}\n"
          ]
        }
      ]
    },
    {
      "cell_type": "code",
      "source": [
        "Dict = {}\n",
        "# thêm các giá trị\n",
        "Dict[0] = 'Xin chao'\n",
        "Dict[1] = 'lop hoc Khoa học du lieu'\n",
        "print(Dict)"
      ],
      "metadata": {
        "colab": {
          "base_uri": "https://localhost:8080/"
        },
        "id": "2Dg1eINSi3Iv",
        "outputId": "627ef812-3000-4b45-b65d-e81484deb287"
      },
      "execution_count": null,
      "outputs": [
        {
          "output_type": "stream",
          "name": "stdout",
          "text": [
            "{0: 'Xin chao', 1: 'lop hoc Khoa học du lieu'}\n"
          ]
        }
      ]
    },
    {
      "cell_type": "code",
      "source": [
        "Dict = {1: 'Lớp', 2: 'Khoa học', 3: 'Dữ liệu'}\n",
        "# truy cập theo cách thông thường\n",
        "print(Dict[1])\n",
        "# Lớp\n",
        "# truy cập bằng phương thức get()\n",
        "print(Dict.get(3))\n"
      ],
      "metadata": {
        "colab": {
          "base_uri": "https://localhost:8080/"
        },
        "id": "YL-BPBd3i3Cm",
        "outputId": "f983aec4-90c7-42c6-afd6-b85c44dc30f3"
      },
      "execution_count": null,
      "outputs": [
        {
          "output_type": "stream",
          "name": "stdout",
          "text": [
            "Lớp\n",
            "Dữ liệu\n"
          ]
        }
      ]
    },
    {
      "cell_type": "code",
      "source": [
        "Dict = {'Ten':'An','Tuoi':20};\n",
        "print(f\"Chuỗi tương đương là : {Dict}\")"
      ],
      "metadata": {
        "colab": {
          "base_uri": "https://localhost:8080/"
        },
        "id": "L8ROxTtyi25C",
        "outputId": "8f719909-820f-4025-fd2c-e34d1c098b43"
      },
      "execution_count": null,
      "outputs": [
        {
          "output_type": "stream",
          "name": "stdout",
          "text": [
            "Chuỗi tương đương là : {'Ten': 'An', 'Tuoi': 20}\n"
          ]
        }
      ]
    },
    {
      "cell_type": "code",
      "source": [
        "Dict = {'Cúc':18, 'Lan':19, 'Hồng':20, 'Mai':27}\n",
        "Dict.update({'Lan':21}) #cập nhật tuổi cho Lan\n",
        "Dict.update({'Đào':25}) #thêm một phần tử mới là Đào\n",
        "print(Dict)"
      ],
      "metadata": {
        "colab": {
          "base_uri": "https://localhost:8080/"
        },
        "id": "_SVyp8J0i2sh",
        "outputId": "dd18e92f-cc76-4c35-f0b1-54f5da4597b8"
      },
      "execution_count": null,
      "outputs": [
        {
          "output_type": "stream",
          "name": "stdout",
          "text": [
            "{'Cúc': 18, 'Lan': 21, 'Hồng': 20, 'Mai': 27, 'Đào': 25}\n"
          ]
        }
      ]
    },
    {
      "cell_type": "markdown",
      "source": [
        "###Module và Package"
      ],
      "metadata": {
        "id": "_eudhEeeiL7L"
      }
    },
    {
      "cell_type": "markdown",
      "source": [
        "##Thư viện NumPy"
      ],
      "metadata": {
        "id": "AZEsojTskNL2"
      }
    },
    {
      "cell_type": "markdown",
      "source": [
        "###Một số gói python cho Data Science"
      ],
      "metadata": {
        "id": "epdJ2Ay8kgqn"
      }
    },
    {
      "cell_type": "markdown",
      "source": [
        "###Giới thiệu về NumPy"
      ],
      "metadata": {
        "id": "aq3sL2e3kgj-"
      }
    },
    {
      "cell_type": "markdown",
      "source": [
        "###Khởi tạo mảng và chỉ số"
      ],
      "metadata": {
        "id": "MR8fs1Whksrl"
      }
    },
    {
      "cell_type": "code",
      "source": [
        "import numpy as np\n",
        "\n",
        "a = np.array([1, 2, 3]) # tạo mảng 1 chiều\n",
        "print(type(a)) # in \"<class 'numpy.ndarray'>\"\n",
        "print(a.shape) # in \"(3,)\"\n",
        "print(a[0], a[1], a[2]) # in \"1 2 3\"\n",
        "a[0] = 5\n",
        "print(a) # in \"[5, 2, 3]\"\n",
        "b = np.array([[1, 2, 3],[4, 5, 6]]) # tạo mảng 2 chiều\n",
        "print(b.shape) # in \"(2, 3)\"\n",
        "print(b[0, 0], b[0, 1], b[1, 0]) # in \"1 2 4\"\n",
        "print(np.diag([1, 3, 4])) # in ra cái gì?"
      ],
      "metadata": {
        "colab": {
          "base_uri": "https://localhost:8080/"
        },
        "id": "V9Bd8L0zkxjt",
        "outputId": "93109f9c-1dc7-41f1-d169-44c247f18715"
      },
      "execution_count": null,
      "outputs": [
        {
          "output_type": "stream",
          "name": "stdout",
          "text": [
            "<class 'numpy.ndarray'>\n",
            "(3,)\n",
            "1 2 3\n",
            "[5 2 3]\n",
            "(2, 3)\n",
            "1 2 4\n",
            "[[1 0 0]\n",
            " [0 3 0]\n",
            " [0 0 4]]\n"
          ]
        }
      ]
    },
    {
      "cell_type": "markdown",
      "source": [
        "###Truy cập theo chỉ số (slicing)"
      ],
      "metadata": {
        "id": "5xJxahuxksbh"
      }
    },
    {
      "cell_type": "code",
      "source": [
        "import numpy as np\n",
        "# mảng 3x4\n",
        "a = np.array([[1, 2, 3, 4], [5, 6, 7, 8], [9, 10, 11, 12]])\n",
        "# mảng 2x2 trích xuất từ a, dòng 0+1, cột 1+2\n",
        "b = a[:2, 1:3]\n",
        "# chú ý: mảng của numpy tham chiếu chứ không copy dữ liệu\n",
        "print(a[0, 1]) # in \"2\"\n",
        "b[0, 0] = 77 # b[0, 0] cũng là a[0, 1]\n",
        "print(a[0, 1]) # in \"77\""
      ],
      "metadata": {
        "colab": {
          "base_uri": "https://localhost:8080/"
        },
        "id": "-DLFGIXhj2o4",
        "outputId": "63af1660-c8a6-4d7e-840f-f705362599da"
      },
      "execution_count": null,
      "outputs": [
        {
          "output_type": "stream",
          "name": "stdout",
          "text": [
            "2\n",
            "77\n"
          ]
        }
      ]
    },
    {
      "cell_type": "code",
      "source": [
        "row_r1 = a[1, :] # mảng 1 chiều độ dài 4\n",
        "row_r2 = a[1:2, :] # mảng 2 chiều 1x4\n",
        "print(row_r1, row_r1.shape) # in ra \"[5 6 7 8] (4,)\"\n",
        "print(row_r2, row_r2.shape) # in ra \"[[5 6 7 8]] (1, 4)\"\n",
        "col_r1 = a[:, 1] # mảng 1 chiều độ dài 3\n",
        "col_r2 = a[:, 1:2] # mảng 2 chiều 3x1\n",
        "print(col_r1, col_r1.shape) # in ra \"[ 2 6 10] (3,)\"\n",
        "print(col_r2, col_r2.shape)"
      ],
      "metadata": {
        "colab": {
          "base_uri": "https://localhost:8080/"
        },
        "id": "TnaNQBrNlWtV",
        "outputId": "5fc3e39f-6923-42e0-86b1-f93f61986d48"
      },
      "execution_count": null,
      "outputs": [
        {
          "output_type": "stream",
          "name": "stdout",
          "text": [
            "[5 6 7 8] (4,)\n",
            "[[5 6 7 8]] (1, 4)\n",
            "[77  6 10] (3,)\n",
            "[[77]\n",
            " [ 6]\n",
            " [10]] (3, 1)\n"
          ]
        }
      ]
    },
    {
      "cell_type": "markdown",
      "source": [
        "##Các phép toán trên mảng"
      ],
      "metadata": {
        "id": "mmlluD1slaT-"
      }
    },
    {
      "cell_type": "code",
      "source": [
        "import numpy as np\n",
        "\n",
        "x = np.array([[1, 2], [3, 4]], dtype=np.float64)\n",
        "y = np.array([[5, 6], [7, 8]], dtype=np.float64)\n",
        "print(x + y) # print(np.add(x, y)), xử lý khác list\n",
        "print(x - y) # print(np.subtract(x, y))\n",
        "print(x * y) # print(np.multiply(x, y))\n",
        "print(x / y) # print(np.divide(x, y))\n",
        "print(np.sqrt(x)) # khai căn tất cả các phần tử\n",
        "print(2**x)"
      ],
      "metadata": {
        "colab": {
          "base_uri": "https://localhost:8080/"
        },
        "id": "EPNHIpKMlq8Z",
        "outputId": "86271d89-fb1d-424c-d2ac-e70a3a1046b4"
      },
      "execution_count": null,
      "outputs": [
        {
          "output_type": "stream",
          "name": "stdout",
          "text": [
            "[[ 6.  8.]\n",
            " [10. 12.]]\n",
            "[[-4. -4.]\n",
            " [-4. -4.]]\n",
            "[[ 5. 12.]\n",
            " [21. 32.]]\n",
            "[[0.2        0.33333333]\n",
            " [0.42857143 0.5       ]]\n",
            "[[1.         1.41421356]\n",
            " [1.73205081 2.        ]]\n",
            "[[ 2.  4.]\n",
            " [ 8. 16.]]\n"
          ]
        }
      ]
    },
    {
      "cell_type": "markdown",
      "source": [
        "###Nhân ma trận (dot) và nghịch đảo"
      ],
      "metadata": {
        "id": "5uI7AQb3lt0Z"
      }
    },
    {
      "cell_type": "code",
      "source": [
        "import numpy as np\n",
        "\n",
        "x = np.array([[1, 2],[3, 4]])\n",
        "y = np.array([[5, 6],[7, 8]])\n",
        "v = np.array([9, 10])\n",
        "w = np.array([11, 12])\n",
        "print(v.dot(w)) # tương tự print(np.dot(v, w))\n",
        "print(x.dot(v)) # tương tự print(np.dot(x, v))\n",
        "print(x.dot(y)) # tương tự print(np.dot(x, y))\n",
        "print(np.linalg.inv(x)) # tính và in nghịch đảo của x"
      ],
      "metadata": {
        "colab": {
          "base_uri": "https://localhost:8080/"
        },
        "id": "bbBZFRmpl2EZ",
        "outputId": "ea24b61f-6f0f-4bab-aa10-d19d7af23ea5"
      },
      "execution_count": null,
      "outputs": [
        {
          "output_type": "stream",
          "name": "stdout",
          "text": [
            "219\n",
            "[29 67]\n",
            "[[19 22]\n",
            " [43 50]]\n",
            "[[-2.   1. ]\n",
            " [ 1.5 -0.5]]\n"
          ]
        }
      ]
    },
    {
      "cell_type": "markdown",
      "source": [
        "###Ma trận chuyển vị"
      ],
      "metadata": {
        "id": "w7FRg4zllzbB"
      }
    },
    {
      "cell_type": "code",
      "source": [
        "import numpy as np\n",
        "x = np.array([[1, 2], [3, 4]])\n",
        "print(x) # in ra \"[[1 2]\n",
        "# [3 4]]\"\n",
        "print(x.T) # in ra \"[[1 3]\n",
        "# [2 4]]\"\n",
        "# chú ý: mảng 1 chiều không có chuyển vị\n",
        "y = np.array([1, 2, 3])\n",
        "print(y) # in ra \"[1 2 3]\"\n",
        "print(y.T) # in ra \"[1 2 3]\"\n",
        "z = np.array([[1, 2, 3]])\n",
        "print(z.T) # đoán xem in ra cái gì?"
      ],
      "metadata": {
        "colab": {
          "base_uri": "https://localhost:8080/"
        },
        "id": "lXBzK72_l69G",
        "outputId": "2d1ecc59-ab15-45cc-f48c-f10af4716173"
      },
      "execution_count": null,
      "outputs": [
        {
          "output_type": "stream",
          "name": "stdout",
          "text": [
            "[[1 2]\n",
            " [3 4]]\n",
            "[[1 3]\n",
            " [2 4]]\n",
            "[1 2 3]\n",
            "[1 2 3]\n",
            "[[1]\n",
            " [2]\n",
            " [3]]\n"
          ]
        }
      ]
    },
    {
      "cell_type": "markdown",
      "source": [
        "##Một số thao tác thông dụng"
      ],
      "metadata": {
        "id": "6UTjRshElzW3"
      }
    },
    {
      "cell_type": "markdown",
      "source": [
        "###Đọc dữ liệu từ file"
      ],
      "metadata": {
        "id": "5fuJExD1mBkZ"
      }
    },
    {
      "cell_type": "markdown",
      "source": [
        "###Cơ chế broadcasting"
      ],
      "metadata": {
        "id": "pXGkPwAxmSjB"
      }
    },
    {
      "cell_type": "code",
      "source": [
        "import numpy as np\n",
        "\n",
        "x = np.array([[1, 2, 3], [4, 5, 6], [7, 8, 9], [10, 11,\n",
        "12]])\n",
        "v = np.array([1, 0, 1])\n",
        "y = x + v\n",
        "print(y)"
      ],
      "metadata": {
        "colab": {
          "base_uri": "https://localhost:8080/"
        },
        "id": "G2LXdMk9mQ8G",
        "outputId": "b9b75020-541e-441e-acd4-4bd6f2224ca7"
      },
      "execution_count": null,
      "outputs": [
        {
          "output_type": "stream",
          "name": "stdout",
          "text": [
            "[[ 2  2  4]\n",
            " [ 5  5  7]\n",
            " [ 8  8 10]\n",
            " [11 11 13]]\n"
          ]
        }
      ]
    },
    {
      "cell_type": "markdown",
      "source": [
        "###Tính tổng theo các trục"
      ],
      "metadata": {
        "id": "LCl3qJOpltg8"
      }
    },
    {
      "cell_type": "code",
      "source": [
        "import numpy as np\n",
        "\n",
        "x = np.array([[1, 2], [3, 4]])\n",
        "\n",
        "print(np.sum(x)) # tính tổng toàn bộ x, in \"10“\n",
        "print(np.sum(x, axis=0)) # tính tổng mỗi cột, in \"[4 6]“\n",
        "print(np.sum(x, axis=1)) # tính tổng mỗi hàng, in \"[3 7]\""
      ],
      "metadata": {
        "colab": {
          "base_uri": "https://localhost:8080/"
        },
        "id": "d-HQbAv9ltcK",
        "outputId": "7437e765-efb7-4fa8-de0e-6fe9476547bf"
      },
      "execution_count": null,
      "outputs": [
        {
          "output_type": "stream",
          "name": "stdout",
          "text": [
            "10\n",
            "[4 6]\n",
            "[3 7]\n"
          ]
        }
      ]
    },
    {
      "cell_type": "markdown",
      "source": [
        "###Trích xuất dữ liệu theo dãy"
      ],
      "metadata": {
        "id": "dINQnBt-ltMK"
      }
    },
    {
      "cell_type": "code",
      "source": [
        "import numpy as np\n",
        "a = np.array([[1,2], [3, 4], [5, 6]])\n",
        "# Prints \"[1 4 5]\"\n",
        "print(a[[0, 1, 2], [0, 1, 0]])\n",
        "# Prints \"[1 4 5]\"\n",
        "print(np.array([a[0, 0], a[1, 1], a[2, 0]]))\n",
        "# Prints \"[2 2]\"\n",
        "print(a[[0, 0], [1, 1]])\n",
        "# Prints \"[2 2]\"\n",
        "print(np.array([a[0, 1], a[0, 1]]))"
      ],
      "metadata": {
        "colab": {
          "base_uri": "https://localhost:8080/"
        },
        "id": "2xC7pq8KltID",
        "outputId": "64911f81-4714-4175-e8d2-6fe3fe5d389a"
      },
      "execution_count": null,
      "outputs": [
        {
          "output_type": "stream",
          "name": "stdout",
          "text": [
            "[1 4 5]\n",
            "[1 4 5]\n",
            "[2 2]\n",
            "[2 2]\n"
          ]
        }
      ]
    },
    {
      "cell_type": "markdown",
      "source": [
        "###Lọc phần tử theo chỉ số"
      ],
      "metadata": {
        "id": "FJsR-DLxltDl"
      }
    },
    {
      "cell_type": "code",
      "source": [
        "import numpy as np\n",
        "\n",
        "a = np.array([[1, 2, 3], [4, 5, 6], [7, 8, 9], [10, 11, 12]])\n",
        "b = np.array([0, 2, 0, 1]) # b là mảng các chỉ số\n",
        "print(a[np.arange(4), b]) # in ra \"[1 6 7 11]\"\n",
        "# cộng tất cả các phần tử được lọc thêm 10\n",
        "a[np.arange(4), b] += 10\n",
        "print(a)"
      ],
      "metadata": {
        "colab": {
          "base_uri": "https://localhost:8080/"
        },
        "id": "sdvLAKApls_Q",
        "outputId": "10a39a91-8b39-4e55-f1af-28ed9399927d"
      },
      "execution_count": null,
      "outputs": [
        {
          "output_type": "stream",
          "name": "stdout",
          "text": [
            "[ 1  6  7 11]\n",
            "[[11  2  3]\n",
            " [ 4  5 16]\n",
            " [17  8  9]\n",
            " [10 21 12]]\n"
          ]
        }
      ]
    },
    {
      "cell_type": "markdown",
      "source": [
        "###Lọc dữ liệu theo điều kiện"
      ],
      "metadata": {
        "id": "aMH__fSels6j"
      }
    },
    {
      "cell_type": "code",
      "source": [
        "import numpy as np\n",
        "\n",
        "a = np.array([[1, 2], [3, 4], [5, 6]])\n",
        "bool_idx = (a > 2)\n",
        "print(bool_idx) # in ra \"[[False False]\n",
        "# [ True True]\n",
        "# [ True True]]\"\n",
        "# lọc dữ liệu trong a, trả về một dãy\n",
        "print(a[bool_idx]) # Prints \"[3 4 5 6]\"\n",
        "# có thể viết trực tiếp điều kiện (ngắn gọn hơn)\n",
        "print(a[a > 2]) # Prints \"[3 4 5 6]\""
      ],
      "metadata": {
        "colab": {
          "base_uri": "https://localhost:8080/"
        },
        "id": "F1R4LjOvls17",
        "outputId": "210d8004-61b5-4ad9-9dc3-281016b6784c"
      },
      "execution_count": null,
      "outputs": [
        {
          "output_type": "stream",
          "name": "stdout",
          "text": [
            "[[False False]\n",
            " [ True  True]\n",
            " [ True  True]]\n",
            "[3 4 5 6]\n",
            "[3 4 5 6]\n"
          ]
        }
      ]
    },
    {
      "cell_type": "markdown",
      "source": [
        "###Điều chỉnh cỡ ma trận"
      ],
      "metadata": {
        "id": "POPcE3IBlsw9"
      }
    },
    {
      "cell_type": "code",
      "source": [
        "x = np.array([[1, 3], [4, 4], [4, 2]])\n",
        "x.shape\n",
        "#(3, 2)\n",
        "x = np.array([[1, 3], [4, 4], [4, 2]])\n",
        "\n",
        "x= x.reshape(2, 3)\n",
        "\n",
        "#array([[1, 3, 4], [4, 4, 2]])\n",
        "x = np.array([[1, 3], [4, 4], [4, 2]])\n",
        "x = x.reshape(2, -1)\n",
        "#array([[1, 3, 4], [4, 4, 2]])"
      ],
      "metadata": {
        "id": "XVrZEB1olssQ"
      },
      "execution_count": null,
      "outputs": []
    },
    {
      "cell_type": "markdown",
      "source": [
        "###Sinh mảng ngẫu nhiên"
      ],
      "metadata": {
        "id": "Kpmw0VyilsnJ"
      }
    },
    {
      "cell_type": "markdown",
      "source": [
        "###Các hàm thống kê"
      ],
      "metadata": {
        "id": "ZyWeMVxFojR7"
      }
    },
    {
      "cell_type": "code",
      "source": [
        "import numpy as np\n",
        "a = np.random.randn(3, 4)\n",
        "# tính trung bình của cả ma trận a\n",
        "print(np.mean(a))\n",
        "# tính trung vị của cột đầu tiên\n",
        "print(np.median(a[:,0]))\n",
        "# tính độ lệch chuẩn của từng dòng\n",
        "print(a.std(axis=0))\n",
        "# tính phương sai của từng cột\n",
        "print(a.var(axis=1))"
      ],
      "metadata": {
        "colab": {
          "base_uri": "https://localhost:8080/"
        },
        "id": "d-wv7hjYogH_",
        "outputId": "f3740a6e-298b-445a-a38b-9243967294c1"
      },
      "execution_count": null,
      "outputs": [
        {
          "output_type": "stream",
          "name": "stdout",
          "text": [
            "-0.2716873114716774\n",
            "-0.24982545149402194\n",
            "[0.69702777 0.46126081 0.55980034 0.42495368]\n",
            "[0.10120506 0.11323067 0.25434486]\n"
          ]
        }
      ]
    },
    {
      "cell_type": "markdown",
      "source": [
        "##Vẽ biểu đồ đơn giản"
      ],
      "metadata": {
        "id": "wxLUf0sMlsZx"
      }
    },
    {
      "cell_type": "markdown",
      "source": [
        "###Ví dụ: vẽ biểu đồ y = x2"
      ],
      "metadata": {
        "id": "CeMy1iuiooc-"
      }
    },
    {
      "cell_type": "code",
      "source": [
        "import numpy as np # thư viện numpy\n",
        "import matplotlib.pyplot as plt # thư viện pyplot\n",
        "\n",
        "# chia đoạn từ -20 đến 20 thành 1000 đoạn\n",
        "x = np.linspace(-20, 20, 1000)\n",
        "# tính y\n",
        "y = x * x\n",
        "# vẽ biểu đồ tương quan giữa x và y\n",
        "plt.plot(x, y)\n",
        "# hiển thị biểu đồ\n",
        "plt.show()"
      ],
      "metadata": {
        "colab": {
          "base_uri": "https://localhost:8080/",
          "height": 430
        },
        "id": "HJiwMvzRlsSV",
        "outputId": "6f0f8b8f-43b0-424b-e2c3-ab840288129a"
      },
      "execution_count": null,
      "outputs": [
        {
          "output_type": "display_data",
          "data": {
            "text/plain": [
              "<Figure size 640x480 with 1 Axes>"
            ],
            "image/png": "[encoded data removed]"
          },
          "metadata": {}
        }
      ]
    },
    {
      "cell_type": "markdown",
      "source": [
        "###Ví dụ: Vẽ biểu đồ hình sin"
      ],
      "metadata": {
        "id": "h0t55H1qlr_p"
      }
    },
    {
      "cell_type": "code",
      "source": [
        "import numpy as np # thư viện numpy\n",
        "import matplotlib.pyplot as plt # thư viện pyplot\n",
        "\n",
        "# chia đoạn từ 0 đến 3π thành\n",
        "#các đoạn con 0.1\n",
        "x = np.arange(0, 3 * np.pi, 0.1)\n",
        "# tính sin tương ứng với từng phần tử của x\n",
        "y = np.sin(x)\n",
        "# vẽ biểu đồ tương quan giữa x và y\n",
        "plt.plot(x, y)\n",
        "# hiển thị biểu đồ\n",
        "plt.show()"
      ],
      "metadata": {
        "colab": {
          "base_uri": "https://localhost:8080/",
          "height": 430
        },
        "id": "Q7f84e4OlrsL",
        "outputId": "0ef1061a-6830-4cb3-de87-1fb97b5a8fea"
      },
      "execution_count": null,
      "outputs": [
        {
          "output_type": "display_data",
          "data": {
            "text/plain": [
              "<Figure size 640x480 with 1 Axes>"
            ],
            "image/png": "[encoded data removed]"
          },
          "metadata": {}
        }
      ]
    },
    {
      "cell_type": "markdown",
      "source": [
        "###Ví dụ: Biểu đồ cả SIN và COS"
      ],
      "metadata": {
        "id": "1hAY4e2PlraT"
      }
    },
    {
      "cell_type": "code",
      "source": [
        "import numpy as np\n",
        "import matplotlib.pyplot as plt\n",
        "\n",
        "x = np.arange(0, 3 * np.pi, 0.1)\n",
        "y_sin = np.sin(x)\n",
        "y_cos = np.cos(x)\n",
        "plt.plot(x, y_sin)\n",
        "plt.plot(x, y_cos)\n",
        "plt.xlabel('Trục X')\n",
        "plt.ylabel('Trục Y')\n",
        "plt.title('Hàm SIN và COS trong khoảng 0 đến 3pi')\n",
        "plt.legend(['SIN(x)', 'COS(x)'])\n",
        "plt.show()"
      ],
      "metadata": {
        "colab": {
          "base_uri": "https://localhost:8080/",
          "height": 473
        },
        "id": "J15Q3yPupCq7",
        "outputId": "8564b056-3192-4c16-b736-2e0e348ae1e8"
      },
      "execution_count": null,
      "outputs": [
        {
          "output_type": "display_data",
          "data": {
            "text/plain": [
              "<Figure size 640x480 with 1 Axes>"
            ],
            "image/png": "[encoded data removed]"
          },
          "metadata": {}
        }
      ]
    },
    {
      "cell_type": "markdown",
      "source": [
        "##Một số loại biểu đồ thông dụng trong matplotlib"
      ],
      "metadata": {
        "id": "cMbyQAmMpJZe"
      }
    },
    {
      "cell_type": "markdown",
      "source": [
        "####Biểu đồ dạng đường (line plot)"
      ],
      "metadata": {
        "id": "khWSq2v7pazj"
      }
    },
    {
      "cell_type": "code",
      "source": [
        "import numpy as np\n",
        "import matplotlib.pyplot as plt\n",
        "# chia đoạn 0-5 thành các bước 0.2\n",
        "\n",
        "t = np.arange(0., 5., 0.2)\n",
        "# Vẽ 3 đường: #- màu đỏ nét đứt: y =x\n",
        "#- màu xanh dương, đánh dấu ô vuông:\n",
        "y = t**2\n",
        "y = t**3\n",
        "plt.plot(t, t, 'r--', t, t**2, 'bs',t, t**3, 'g^')\n",
        "plt.show()"
      ],
      "metadata": {
        "colab": {
          "base_uri": "https://localhost:8080/",
          "height": 430
        },
        "id": "4hUo6Iy9pg0r",
        "outputId": "70d7c32a-390a-4fae-9f85-d615420273b7"
      },
      "execution_count": null,
      "outputs": [
        {
          "output_type": "display_data",
          "data": {
            "text/plain": [
              "<Figure size 640x480 with 1 Axes>"
            ],
            "image/png": "[encoded data removed]"
          },
          "metadata": {}
        }
      ]
    },
    {
      "cell_type": "markdown",
      "source": [
        "###Biểu đồ dạng cột (bar plot)\n"
      ],
      "metadata": {
        "id": "WIHMUSOhpcx_"
      }
    },
    {
      "cell_type": "markdown",
      "source": [
        "####Biểu đồ dạng cột chiều đứng"
      ],
      "metadata": {
        "id": "X6ylAEvHsP0z"
      }
    },
    {
      "cell_type": "code",
      "source": [
        "import matplotlib.pyplot as plt\n",
        "D = { 'Dược học': 3000,\n",
        "'KT-NH': 900,\n",
        "'QTKD': 2000,\n",
        "'CNTT': 1200,\n",
        "'CK-Oto': 1500,\n",
        "'NN': 500 }\n",
        "plt.bar(range(len(D)), D.values(),\n",
        "align='center')\n",
        "plt.xticks(range(len(D)),\n",
        "D.keys())\n",
        "plt.title('Các ngành tuyển sinh của Đại học Nguyễn Tất Thành')\n",
        "plt.show()"
      ],
      "metadata": {
        "id": "hFwcYkrEpXoT",
        "colab": {
          "base_uri": "https://localhost:8080/",
          "height": 454
        },
        "outputId": "af7f14da-6ca2-45a5-fad1-e36cd7faed6e"
      },
      "execution_count": null,
      "outputs": [
        {
          "output_type": "display_data",
          "data": {
            "text/plain": [
              "<Figure size 640x480 with 1 Axes>"
            ],
            "image/png": "[encoded data removed]"
          },
          "metadata": {}
        }
      ]
    },
    {
      "cell_type": "markdown",
      "source": [
        "####Biểu đồ dạng cột chiều ngang"
      ],
      "metadata": {
        "id": "HXIy5k4fsg0d"
      }
    },
    {
      "cell_type": "code",
      "source": [
        "import matplotlib.pyplot as plt\n",
        "D = { 'Dược học': 3000,\n",
        "'KT-NH': 900,\n",
        "'QTKD': 2000,\n",
        "'CNTT': 1200,\n",
        "'CK-Oto': 1500,\n",
        "'NN': 500 }\n",
        "plt.bar(range(len(D)),\n",
        "D.values(), align='center')\n",
        "plt.xticks(range(len(D)),\n",
        "D.keys())\n",
        "plt.title('Các ngành tuyển sinh của Đại học Nguyễn Tất Thành')\n",
        "plt.show()"
      ],
      "metadata": {
        "colab": {
          "base_uri": "https://localhost:8080/",
          "height": 454
        },
        "id": "SIyljDLEsi6_",
        "outputId": "c0dd7c76-6866-4231-b125-405bd2d12278"
      },
      "execution_count": null,
      "outputs": [
        {
          "output_type": "display_data",
          "data": {
            "text/plain": [
              "<Figure size 640x480 with 1 Axes>"
            ],
            "image/png": "[encoded data removed]"
          },
          "metadata": {}
        }
      ]
    },
    {
      "cell_type": "markdown",
      "source": [
        "####Có thể ghép 2 biểu đồ"
      ],
      "metadata": {
        "id": "9HfvuspGsi1Y"
      }
    },
    {
      "cell_type": "code",
      "source": [
        "import matplotlib.pyplot as plt\n",
        "\n",
        "plt.bar([1,3,5,7,9],[5,2,7,8,2],\n",
        "label=\"One\")\n",
        "plt.bar([2,4,6,8,10],[8,6,2,5,6], label=\"Two\", color='g')\n",
        "plt.legend()\n",
        "plt.xlabel('bar number')\n",
        "plt.ylabel('bar height')\n",
        "plt.title('Ghép 2 biểu đồ')\n",
        "plt.show()"
      ],
      "metadata": {
        "colab": {
          "base_uri": "https://localhost:8080/",
          "height": 474
        },
        "id": "MDYmJWfUsiwN",
        "outputId": "355ef790-82a9-4b0a-e51f-7a3789e0cf52"
      },
      "execution_count": null,
      "outputs": [
        {
          "output_type": "display_data",
          "data": {
            "text/plain": [
              "<Figure size 640x480 with 1 Axes>"
            ],
            "image/png": "[encoded data removed]"
          },
          "metadata": {}
        }
      ]
    },
    {
      "cell_type": "markdown",
      "source": [
        "###Biểu đồ bánh (pie chart)\n"
      ],
      "metadata": {
        "id": "ZP3oXUojsip5"
      }
    },
    {
      "cell_type": "code",
      "source": [
        "import matplotlib.pyplot as plt\n",
        "D = { 'Dược học': 3000,\n",
        "'KT-NH': 900,\n",
        "'QTKD': 2000,\n",
        "'CNTT': 1200,\n",
        "'CK-Oto': 1500,\n",
        "'NN': 500 }\n",
        "plt.pie(D.values(),\n",
        "labels=D.keys(), autopct='%1.1f%%')\n",
        "plt.axis('equal') # trục x = trục y\n",
        "plt.show()"
      ],
      "metadata": {
        "colab": {
          "base_uri": "https://localhost:8080/",
          "height": 408
        },
        "id": "sci-oiLKsijK",
        "outputId": "c7bf878e-3cc5-4a3c-830e-678b91a490fb"
      },
      "execution_count": null,
      "outputs": [
        {
          "output_type": "display_data",
          "data": {
            "text/plain": [
              "<Figure size 640x480 with 1 Axes>"
            ],
            "image/png": "[encoded data removed]"
          },
          "metadata": {}
        }
      ]
    },
    {
      "cell_type": "markdown",
      "source": [
        "###Một số chức năng hữu ích"
      ],
      "metadata": {
        "id": "N02mkcwBsibU"
      }
    },
    {
      "cell_type": "code",
      "source": [
        "import numpy as np\n",
        "import matplotlib.pyplot as plt\n",
        "x = np.arange(0, 3 * np.pi, 0.1)\n",
        "y_sin = np.sin(x)\n",
        "y_cos = np.cos(x)\n",
        "plt.subplot(2, 1, 1) # biểu đồ 1\n",
        "plt.plot(x, y_sin)\n",
        "plt.title('SIN(x)')\n",
        "plt.subplot(2, 1, 2) # biểu đồ 2\n",
        "plt.plot(x, y_cos)\n",
        "plt.title('COS(x)')\n",
        "plt.show()"
      ],
      "metadata": {
        "colab": {
          "base_uri": "https://localhost:8080/",
          "height": 452
        },
        "id": "LzWzYLHdsiIc",
        "outputId": "257ea5bb-4ba4-45fd-b840-e216ace841c3"
      },
      "execution_count": null,
      "outputs": [
        {
          "output_type": "display_data",
          "data": {
            "text/plain": [
              "<Figure size 640x480 with 2 Axes>"
            ],
            "image/png": "[encoded data removed]"
          },
          "metadata": {}
        }
      ]
    },
    {
      "cell_type": "code",
      "source": [
        "import numpy as np\n",
        "import matplotlib.pyplot as plt\n",
        "\n",
        "x1 = np.linspace(0.0, 5.0)\n",
        "x2 = np.linspace(0.0, 2.0)\n",
        "y1 = np.cos(2 * np.pi * x1) *np.exp(-x1)\n",
        "y2 = np.cos(2 * np.pi * x2)\n",
        "plt.subplot(2, 1, 1)\n",
        "plt.plot(x1, y1, 'o-')\n",
        "plt.subplot(2, 1, 2)\n",
        "plt.plot(x2, y2, '.-')\n",
        "plt.show()"
      ],
      "metadata": {
        "colab": {
          "base_uri": "https://localhost:8080/",
          "height": 430
        },
        "id": "i6oJz_MMtmcy",
        "outputId": "f55674b5-41bb-409b-9ac2-013bc4d4e632"
      },
      "execution_count": null,
      "outputs": [
        {
          "output_type": "display_data",
          "data": {
            "text/plain": [
              "<Figure size 640x480 with 2 Axes>"
            ],
            "image/png": "[encoded data removed]"
          },
          "metadata": {}
        }
      ]
    },
    {
      "cell_type": "markdown",
      "source": [
        "####Nạp ảnh (png_jpg)"
      ],
      "metadata": {
        "id": "jnOi9vNhtzC7"
      }
    },
    {
      "cell_type": "code",
      "source": [
        "import matplotlib.pyplot as plt\n",
        "import matplotlib.image as mpimg\n",
        "\n",
        "image = mpimg.imread(“hoahong.jpg\")\n",
        "fig, axs = plt.subplots(2, 2, figsize=(5, 5))\n",
        "axs[0, 0].imshow(image)\n",
        "axs[1, 0].imshow(image)\n",
        "axs[0, 1].imshow(image)\n",
        "axs[1, 1].imshow(image\n",
        "\n",
        "plt.savefig('1.jpg')\n",
        "plt.savefig('1.pdf')"
      ],
      "metadata": {
        "id": "yOZbSZl4uBxS"
      },
      "execution_count": null,
      "outputs": []
    },
    {
      "cell_type": "markdown",
      "source": [
        "###Thư viện Panda"
      ],
      "metadata": {
        "id": "W46R2UwPuD4J"
      }
    },
    {
      "cell_type": "markdown",
      "source": [
        "###Làm việc với series\n"
      ],
      "metadata": {
        "id": "EH0aIUUjuk83"
      }
    },
    {
      "cell_type": "code",
      "source": [
        "import pandas as pd\n",
        "import numpy as np\n",
        "\n",
        "S = pd.Series(np.random.randint(100, size = 4))\n",
        "print(S)\n",
        "print(S.index)\n",
        "print(S.values)"
      ],
      "metadata": {
        "colab": {
          "base_uri": "https://localhost:8080/"
        },
        "id": "SpNktTamuHeU",
        "outputId": "07ce1a37-d55f-4839-9817-ca78f35787ed"
      },
      "execution_count": 22,
      "outputs": [
        {
          "output_type": "stream",
          "name": "stdout",
          "text": [
            "0    52\n",
            "1    13\n",
            "2    79\n",
            "3    80\n",
            "dtype: int64\n",
            "RangeIndex(start=0, stop=4, step=1)\n",
            "[52 13 79 80]\n"
          ]
        }
      ]
    },
    {
      "cell_type": "code",
      "source": [
        "import pandas as pd\n",
        "import numpy as np\n",
        "\n",
        "chi_so = [\"Ke toan\", \"KT\", \"CNTT\", \"Co khi\"]\n",
        "gia_tri = [310, 360, 580, 340]\n",
        "S = pd.Series(gia_tri, index=chi_so)\n",
        "print(S)\n",
        "print(S.index)\n",
        "print(S.values)"
      ],
      "metadata": {
        "colab": {
          "base_uri": "https://localhost:8080/"
        },
        "id": "OvbVmeYlupr_",
        "outputId": "a83483a4-b75d-42a1-af48-4e84cf0e9349"
      },
      "execution_count": null,
      "outputs": [
        {
          "output_type": "stream",
          "name": "stdout",
          "text": [
            "Ke toan    310\n",
            "KT         360\n",
            "CNTT       580\n",
            "Co khi     340\n",
            "dtype: int64\n",
            "Index(['Ke toan', 'KT', 'CNTT', 'Co khi'], dtype='object')\n",
            "[310 360 580 340]\n"
          ]
        }
      ]
    },
    {
      "cell_type": "code",
      "source": [
        "import pandas as pd\n",
        "import numpy as np\n",
        "\n",
        "chi_so = [\"KT\", \"KT\", \"CNTT\", \"Co khi\"] # trùng nhau\n",
        "gia_tri = [310, 360, 580, 340]\n",
        "S = pd.Series(gia_tri, index=chi_so)\n",
        "print(S)\n",
        "print(S.index)\n",
        "print(S.values)"
      ],
      "metadata": {
        "colab": {
          "base_uri": "https://localhost:8080/"
        },
        "id": "_XAbnXv4u-tG",
        "outputId": "63c0720d-1dfd-4496-f11e-7d5a9cf36b75"
      },
      "execution_count": null,
      "outputs": [
        {
          "output_type": "stream",
          "name": "stdout",
          "text": [
            "KT        310\n",
            "KT        360\n",
            "CNTT      580\n",
            "Co khi    340\n",
            "dtype: int64\n",
            "Index(['KT', 'KT', 'CNTT', 'Co khi'], dtype='object')\n",
            "[310 360 580 340]\n"
          ]
        }
      ]
    },
    {
      "cell_type": "markdown",
      "source": [
        "###Phép toán trên series"
      ],
      "metadata": {
        "id": "S0bxojrTvGt_"
      }
    },
    {
      "cell_type": "code",
      "source": [
        "import pandas as pd\n",
        "import numpy as np\n",
        "\n",
        "chi_so = [\"Ke toan\", \"khi\"]\n",
        "gia_tri = [310, 360] # Corrected to match the length of chi_so\n",
        "# chỉ số giống nhau thì tính gộp, nếu không thì NaN\n",
        "S = pd.Series(gia_tri, index=chi_so)\n",
        "P = pd.Series([100, 100], ['CNTT','PM'])\n",
        "Y = S + P\n",
        "print(Y)"
      ],
      "metadata": {
        "colab": {
          "base_uri": "https://localhost:8080/"
        },
        "id": "pKMrxXCYvJUA",
        "outputId": "f65d0054-ce9d-4ad2-fce2-518f76f99b4c"
      },
      "execution_count": null,
      "outputs": [
        {
          "output_type": "stream",
          "name": "stdout",
          "text": [
            "CNTT      NaN\n",
            "Ke toan   NaN\n",
            "PM        NaN\n",
            "khi       NaN\n",
            "dtype: float64\n"
          ]
        }
      ]
    },
    {
      "cell_type": "markdown",
      "source": [
        "##Làm việc với dataframe"
      ],
      "metadata": {
        "id": "UaUhPylYwf80"
      }
    },
    {
      "cell_type": "markdown",
      "source": [
        "####Tạo dataframe từ list\n"
      ],
      "metadata": {
        "id": "EuTivmVJwmrg"
      }
    },
    {
      "cell_type": "code",
      "source": [
        "crimes_rates = {\n",
        "\"Year\":[1960,1961,1962,1963,1964],\n",
        "\"Population\":[179323175,182992000,185771000,188483000,\n",
        "191141000],\n",
        "\"Total\":[3384200,3488000,3752200,4109500,4564600],\n",
        "\"Violent\":[288460,289390,301510,316970,364220]\n",
        "}\n",
        "crimes_dataframe = pd.DataFrame(crimes_rates)\n",
        "print(crimes_dataframe)"
      ],
      "metadata": {
        "colab": {
          "base_uri": "https://localhost:8080/"
        },
        "id": "1GsE8HWQwl8D",
        "outputId": "64bdb580-a27b-4e62-e365-01a2fe0adeb8"
      },
      "execution_count": null,
      "outputs": [
        {
          "output_type": "stream",
          "name": "stdout",
          "text": [
            "   Year  Population    Total  Violent\n",
            "0  1960   179323175  3384200   288460\n",
            "1  1961   182992000  3488000   289390\n",
            "2  1962   185771000  3752200   301510\n",
            "3  1963   188483000  4109500   316970\n",
            "4  1964   191141000  4564600   364220\n"
          ]
        }
      ]
    },
    {
      "cell_type": "markdown",
      "source": [
        "####Tạo dataframe từ list các dictionary"
      ],
      "metadata": {
        "id": "cBF2D8ZdHPQo"
      }
    },
    {
      "cell_type": "code",
      "source": [
        "import pandas as pd\n",
        "data = [\n",
        "{'MIT': 5000, 'Stanford': 4500, \"DHTL\":15000},\n",
        "{'MIT': 1, 'Stanford': 2, \"DHTL\":200}]\n",
        "df = pd.DataFrame(data, index=['NumOfStudents', \"ranking\"])\n",
        "print(df)\n",
        "print(df.DHTL.dtype)"
      ],
      "metadata": {
        "colab": {
          "base_uri": "https://localhost:8080/"
        },
        "id": "i1CxRFkoG8-7",
        "outputId": "abf4e48e-a3e4-451b-95c1-6d952680ca45"
      },
      "execution_count": 2,
      "outputs": [
        {
          "output_type": "stream",
          "name": "stdout",
          "text": [
            "                MIT  Stanford   DHTL\n",
            "NumOfStudents  5000      4500  15000\n",
            "ranking           1         2    200\n",
            "int64\n"
          ]
        }
      ]
    },
    {
      "cell_type": "code",
      "source": [
        "data = {\n",
        "\"one\": pd.Series([1,23,45], index = [1,2,3]),\n",
        "\"two\": pd.Series([1000,2400,1132,3434], index =\n",
        "[1,2,3,4])\n",
        "}\n",
        "df = pd.DataFrame(data)\n",
        "print(df)"
      ],
      "metadata": {
        "colab": {
          "base_uri": "https://localhost:8080/"
        },
        "id": "tS3mHfqRHSiV",
        "outputId": "81d956cc-f20c-479f-e0fd-96e831388086"
      },
      "execution_count": 3,
      "outputs": [
        {
          "output_type": "stream",
          "name": "stdout",
          "text": [
            "    one   two\n",
            "1   1.0  1000\n",
            "2  23.0  2400\n",
            "3  45.0  1132\n",
            "4   NaN  3434\n"
          ]
        }
      ]
    },
    {
      "cell_type": "markdown",
      "source": [
        "##Chọn và nhóm phần tử"
      ],
      "metadata": {
        "id": "YBnClTLRFRB6"
      }
    },
    {
      "cell_type": "code",
      "source": [
        "df3 = pd.DataFrame({'X' : ['A', 'B', 'A', 'B'], 'Y' :\n",
        "[1, 4, 3, 2]})\n",
        "df3.groupby(['X']).get_group('A')\n",
        "\n",
        "df3.groupby(['X']).get_group('B')"
      ],
      "metadata": {
        "colab": {
          "base_uri": "https://localhost:8080/",
          "height": 205
        },
        "id": "E2vkWtiXIse8",
        "outputId": "7c9bd8fe-4e45-458b-d600-ae06a5e7fa25"
      },
      "execution_count": 8,
      "outputs": [
        {
          "output_type": "stream",
          "name": "stderr",
          "text": [
            "/tmp/ipython-input-1326016233.py:3: FutureWarning: When grouping with a length-1 list-like, you will need to pass a length-1 tuple to get_group in a future version of pandas. Pass `(name,)` instead of `name` to silence this warning.\n",
            "  df3.groupby(['X']).get_group('A')\n",
            "/tmp/ipython-input-1326016233.py:5: FutureWarning: When grouping with a length-1 list-like, you will need to pass a length-1 tuple to get_group in a future version of pandas. Pass `(name,)` instead of `name` to silence this warning.\n",
            "  df3.groupby(['X']).get_group('B')\n"
          ]
        },
        {
          "output_type": "execute_result",
          "data": {
            "text/plain": [
              "   X  Y\n",
              "1  B  4\n",
              "3  B  2"
            ],
            "text/html": [
              "\n",
              "  <div id=\"df-6e0b5ad8-7833-4ee8-9ded-590994001bbe\" class=\"colab-df-container\">\n",
              "    <div>\n",
              "<style scoped>\n",
              "    .dataframe tbody tr th:only-of-type {\n",
              "        vertical-align: middle;\n",
              "    }\n",
              "\n",
              "    .dataframe tbody tr th {\n",
              "        vertical-align: top;\n",
              "    }\n",
              "\n",
              "    .dataframe thead th {\n",
              "        text-align: right;\n",
              "    }\n",
              "</style>\n",
              "<table border=\"1\" class=\"dataframe\">\n",
              "  <thead>\n",
              "    <tr style=\"text-align: right;\">\n",
              "      <th></th>\n",
              "      <th>X</th>\n",
              "      <th>Y</th>\n",
              "    </tr>\n",
              "  </thead>\n",
              "  <tbody>\n",
              "    <tr>\n",
              "      <th>1</th>\n",
              "      <td>B</td>\n",
              "      <td>4</td>\n",
              "    </tr>\n",
              "    <tr>\n",
              "      <th>3</th>\n",
              "      <td>B</td>\n",
              "      <td>2</td>\n",
              "    </tr>\n",
              "  </tbody>\n",
              "</table>\n",
              "</div>\n",
              "    <div class=\"colab-df-buttons\">\n",
              "\n",
              "  <div class=\"colab-df-container\">\n",
              "    <button class=\"colab-df-convert\" onclick=\"convertToInteractive('df-6e0b5ad8-7833-4ee8-9ded-590994001bbe')\"\n",
              "            title=\"Convert this dataframe to an interactive table.\"\n",
              "            style=\"display:none;\">\n",
              "\n",
              "  <svg xmlns=\"http://www.w3.org/2000/svg\" height=\"24px\" viewBox=\"0 -960 960 960\">\n",
              "    <path d=\"M120-120v-720h720v720H120Zm60-500h600v-160H180v160Zm220 220h160v-160H400v160Zm0 220h160v-160H400v160ZM180-400h160v-160H180v160Zm440 0h160v-160H620v160ZM180-180h160v-160H180v160Zm440 0h160v-160H620v160Z\"/>\n",
              "  </svg>\n",
              "    </button>\n",
              "\n",
              "  <style>\n",
              "    .colab-df-container {\n",
              "      display:flex;\n",
              "      gap: 12px;\n",
              "    }\n",
              "\n",
              "    .colab-df-convert {\n",
              "      background-color: #E8F0FE;\n",
              "      border: none;\n",
              "      border-radius: 50%;\n",
              "      cursor: pointer;\n",
              "      display: none;\n",
              "      fill: #1967D2;\n",
              "      height: 32px;\n",
              "      padding: 0 0 0 0;\n",
              "      width: 32px;\n",
              "    }\n",
              "\n",
              "    .colab-df-convert:hover {\n",
              "      background-color: #E2EBFA;\n",
              "      box-shadow: 0px 1px 2px rgba(60, 64, 67, 0.3), 0px 1px 3px 1px rgba(60, 64, 67, 0.15);\n",
              "      fill: #174EA6;\n",
              "    }\n",
              "\n",
              "    .colab-df-buttons div {\n",
              "      margin-bottom: 4px;\n",
              "    }\n",
              "\n",
              "    [theme=dark] .colab-df-convert {\n",
              "      background-color: #3B4455;\n",
              "      fill: #D2E3FC;\n",
              "    }\n",
              "\n",
              "    [theme=dark] .colab-df-convert:hover {\n",
              "      background-color: #434B5C;\n",
              "      box-shadow: 0px 1px 3px 1px rgba(0, 0, 0, 0.15);\n",
              "      filter: drop-shadow(0px 1px 2px rgba(0, 0, 0, 0.3));\n",
              "      fill: #FFFFFF;\n",
              "    }\n",
              "  </style>\n",
              "\n",
              "    <script>\n",
              "      const buttonEl =\n",
              "        document.querySelector('#df-6e0b5ad8-7833-4ee8-9ded-590994001bbe button.colab-df-convert');\n",
              "      buttonEl.style.display =\n",
              "        google.colab.kernel.accessAllowed ? 'block' : 'none';\n",
              "\n",
              "      async function convertToInteractive(key) {\n",
              "        const element = document.querySelector('#df-6e0b5ad8-7833-4ee8-9ded-590994001bbe');\n",
              "        const dataTable =\n",
              "          await google.colab.kernel.invokeFunction('convertToInteractive',\n",
              "                                                    [key], {});\n",
              "        if (!dataTable) return;\n",
              "\n",
              "        const docLinkHtml = 'Like what you see? Visit the ' +\n",
              "          '<a target=\"_blank\" href=https://colab.research.google.com/notebooks/data_table.ipynb>data table notebook</a>'\n",
              "          + ' to learn more about interactive tables.';\n",
              "        element.innerHTML = '';\n",
              "        dataTable['output_type'] = 'display_data';\n",
              "        await google.colab.output.renderOutput(dataTable, element);\n",
              "        const docLink = document.createElement('div');\n",
              "        docLink.innerHTML = docLinkHtml;\n",
              "        element.appendChild(docLink);\n",
              "      }\n",
              "    </script>\n",
              "  </div>\n",
              "\n",
              "\n",
              "    <div id=\"df-810fc6a2-ebd7-46e3-986b-0570c4fbe6f0\">\n",
              "      <button class=\"colab-df-quickchart\" onclick=\"quickchart('df-810fc6a2-ebd7-46e3-986b-0570c4fbe6f0')\"\n",
              "                title=\"Suggest charts\"\n",
              "                style=\"display:none;\">\n",
              "\n",
              "<svg xmlns=\"http://www.w3.org/2000/svg\" height=\"24px\"viewBox=\"0 0 24 24\"\n",
              "     width=\"24px\">\n",
              "    <g>\n",
              "        <path d=\"M19 3H5c-1.1 0-2 .9-2 2v14c0 1.1.9 2 2 2h14c1.1 0 2-.9 2-2V5c0-1.1-.9-2-2-2zM9 17H7v-7h2v7zm4 0h-2V7h2v10zm4 0h-2v-4h2v4z\"/>\n",
              "    </g>\n",
              "</svg>\n",
              "      </button>\n",
              "\n",
              "<style>\n",
              "  .colab-df-quickchart {\n",
              "      --bg-color: #E8F0FE;\n",
              "      --fill-color: #1967D2;\n",
              "      --hover-bg-color: #E2EBFA;\n",
              "      --hover-fill-color: #174EA6;\n",
              "      --disabled-fill-color: #AAA;\n",
              "      --disabled-bg-color: #DDD;\n",
              "  }\n",
              "\n",
              "  [theme=dark] .colab-df-quickchart {\n",
              "      --bg-color: #3B4455;\n",
              "      --fill-color: #D2E3FC;\n",
              "      --hover-bg-color: #434B5C;\n",
              "      --hover-fill-color: #FFFFFF;\n",
              "      --disabled-bg-color: #3B4455;\n",
              "      --disabled-fill-color: #666;\n",
              "  }\n",
              "\n",
              "  .colab-df-quickchart {\n",
              "    background-color: var(--bg-color);\n",
              "    border: none;\n",
              "    border-radius: 50%;\n",
              "    cursor: pointer;\n",
              "    display: none;\n",
              "    fill: var(--fill-color);\n",
              "    height: 32px;\n",
              "    padding: 0;\n",
              "    width: 32px;\n",
              "  }\n",
              "\n",
              "  .colab-df-quickchart:hover {\n",
              "    background-color: var(--hover-bg-color);\n",
              "    box-shadow: 0 1px 2px rgba(60, 64, 67, 0.3), 0 1px 3px 1px rgba(60, 64, 67, 0.15);\n",
              "    fill: var(--button-hover-fill-color);\n",
              "  }\n",
              "\n",
              "  .colab-df-quickchart-complete:disabled,\n",
              "  .colab-df-quickchart-complete:disabled:hover {\n",
              "    background-color: var(--disabled-bg-color);\n",
              "    fill: var(--disabled-fill-color);\n",
              "    box-shadow: none;\n",
              "  }\n",
              "\n",
              "  .colab-df-spinner {\n",
              "    border: 2px solid var(--fill-color);\n",
              "    border-color: transparent;\n",
              "    border-bottom-color: var(--fill-color);\n",
              "    animation:\n",
              "      spin 1s steps(1) infinite;\n",
              "  }\n",
              "\n",
              "  @keyframes spin {\n",
              "    0% {\n",
              "      border-color: transparent;\n",
              "      border-bottom-color: var(--fill-color);\n",
              "      border-left-color: var(--fill-color);\n",
              "    }\n",
              "    20% {\n",
              "      border-color: transparent;\n",
              "      border-left-color: var(--fill-color);\n",
              "      border-top-color: var(--fill-color);\n",
              "    }\n",
              "    30% {\n",
              "      border-color: transparent;\n",
              "      border-left-color: var(--fill-color);\n",
              "      border-top-color: var(--fill-color);\n",
              "      border-right-color: var(--fill-color);\n",
              "    }\n",
              "    40% {\n",
              "      border-color: transparent;\n",
              "      border-right-color: var(--fill-color);\n",
              "      border-top-color: var(--fill-color);\n",
              "    }\n",
              "    60% {\n",
              "      border-color: transparent;\n",
              "      border-right-color: var(--fill-color);\n",
              "    }\n",
              "    80% {\n",
              "      border-color: transparent;\n",
              "      border-right-color: var(--fill-color);\n",
              "      border-bottom-color: var(--fill-color);\n",
              "    }\n",
              "    90% {\n",
              "      border-color: transparent;\n",
              "      border-bottom-color: var(--fill-color);\n",
              "    }\n",
              "  }\n",
              "</style>\n",
              "\n",
              "      <script>\n",
              "        async function quickchart(key) {\n",
              "          const quickchartButtonEl =\n",
              "            document.querySelector('#' + key + ' button');\n",
              "          quickchartButtonEl.disabled = true;  // To prevent multiple clicks.\n",
              "          quickchartButtonEl.classList.add('colab-df-spinner');\n",
              "          try {\n",
              "            const charts = await google.colab.kernel.invokeFunction(\n",
              "                'suggestCharts', [key], {});\n",
              "          } catch (error) {\n",
              "            console.error('Error during call to suggestCharts:', error);\n",
              "          }\n",
              "          quickchartButtonEl.classList.remove('colab-df-spinner');\n",
              "          quickchartButtonEl.classList.add('colab-df-quickchart-complete');\n",
              "        }\n",
              "        (() => {\n",
              "          let quickchartButtonEl =\n",
              "            document.querySelector('#df-810fc6a2-ebd7-46e3-986b-0570c4fbe6f0 button');\n",
              "          quickchartButtonEl.style.display =\n",
              "            google.colab.kernel.accessAllowed ? 'block' : 'none';\n",
              "        })();\n",
              "      </script>\n",
              "    </div>\n",
              "\n",
              "    </div>\n",
              "  </div>\n"
            ],
            "application/vnd.google.colaboratory.intrinsic+json": {
              "type": "dataframe",
              "summary": "{\n  \"name\": \"df3\",\n  \"rows\": 2,\n  \"fields\": [\n    {\n      \"column\": \"X\",\n      \"properties\": {\n        \"dtype\": \"string\",\n        \"num_unique_values\": 1,\n        \"samples\": [\n          \"B\"\n        ],\n        \"semantic_type\": \"\",\n        \"description\": \"\"\n      }\n    },\n    {\n      \"column\": \"Y\",\n      \"properties\": {\n        \"dtype\": \"number\",\n        \"std\": 1,\n        \"min\": 2,\n        \"max\": 4,\n        \"num_unique_values\": 2,\n        \"samples\": [\n          2\n        ],\n        \"semantic_type\": \"\",\n        \"description\": \"\"\n      }\n    }\n  ]\n}"
            }
          },
          "metadata": {},
          "execution_count": 8
        }
      ]
    },
    {
      "cell_type": "markdown",
      "source": [
        "####Nhóm phần tử\n"
      ],
      "metadata": {
        "id": "Xm1diV7jFQa6"
      }
    },
    {
      "cell_type": "code",
      "source": [
        "df3 = pd.DataFrame({'X' : ['A', 'B', 'A', 'B'], 'Y' :\n",
        "[1, 4, 3, 2]})\n",
        "df3.groupby(['X']).get_group('A')\n",
        "\n",
        "df3.groupby(['X']).get_group('B')"
      ],
      "metadata": {
        "colab": {
          "base_uri": "https://localhost:8080/",
          "height": 205
        },
        "id": "jB7nXTsoFQUT",
        "outputId": "201f48ea-9d96-4dd0-ebe0-1c0ef7c4e5c4"
      },
      "execution_count": 21,
      "outputs": [
        {
          "output_type": "stream",
          "name": "stderr",
          "text": [
            "/tmp/ipython-input-1326016233.py:3: FutureWarning: When grouping with a length-1 list-like, you will need to pass a length-1 tuple to get_group in a future version of pandas. Pass `(name,)` instead of `name` to silence this warning.\n",
            "  df3.groupby(['X']).get_group('A')\n",
            "/tmp/ipython-input-1326016233.py:5: FutureWarning: When grouping with a length-1 list-like, you will need to pass a length-1 tuple to get_group in a future version of pandas. Pass `(name,)` instead of `name` to silence this warning.\n",
            "  df3.groupby(['X']).get_group('B')\n"
          ]
        },
        {
          "output_type": "execute_result",
          "data": {
            "text/plain": [
              "   X  Y\n",
              "1  B  4\n",
              "3  B  2"
            ],
            "text/html": [
              "\n",
              "  <div id=\"df-25350bd4-9176-4415-bd57-fc0a4575a3a5\" class=\"colab-df-container\">\n",
              "    <div>\n",
              "<style scoped>\n",
              "    .dataframe tbody tr th:only-of-type {\n",
              "        vertical-align: middle;\n",
              "    }\n",
              "\n",
              "    .dataframe tbody tr th {\n",
              "        vertical-align: top;\n",
              "    }\n",
              "\n",
              "    .dataframe thead th {\n",
              "        text-align: right;\n",
              "    }\n",
              "</style>\n",
              "<table border=\"1\" class=\"dataframe\">\n",
              "  <thead>\n",
              "    <tr style=\"text-align: right;\">\n",
              "      <th></th>\n",
              "      <th>X</th>\n",
              "      <th>Y</th>\n",
              "    </tr>\n",
              "  </thead>\n",
              "  <tbody>\n",
              "    <tr>\n",
              "      <th>1</th>\n",
              "      <td>B</td>\n",
              "      <td>4</td>\n",
              "    </tr>\n",
              "    <tr>\n",
              "      <th>3</th>\n",
              "      <td>B</td>\n",
              "      <td>2</td>\n",
              "    </tr>\n",
              "  </tbody>\n",
              "</table>\n",
              "</div>\n",
              "    <div class=\"colab-df-buttons\">\n",
              "\n",
              "  <div class=\"colab-df-container\">\n",
              "    <button class=\"colab-df-convert\" onclick=\"convertToInteractive('df-25350bd4-9176-4415-bd57-fc0a4575a3a5')\"\n",
              "            title=\"Convert this dataframe to an interactive table.\"\n",
              "            style=\"display:none;\">\n",
              "\n",
              "  <svg xmlns=\"http://www.w3.org/2000/svg\" height=\"24px\" viewBox=\"0 -960 960 960\">\n",
              "    <path d=\"M120-120v-720h720v720H120Zm60-500h600v-160H180v160Zm220 220h160v-160H400v160Zm0 220h160v-160H400v160ZM180-400h160v-160H180v160Zm440 0h160v-160H620v160ZM180-180h160v-160H180v160Zm440 0h160v-160H620v160Z\"/>\n",
              "  </svg>\n",
              "    </button>\n",
              "\n",
              "  <style>\n",
              "    .colab-df-container {\n",
              "      display:flex;\n",
              "      gap: 12px;\n",
              "    }\n",
              "\n",
              "    .colab-df-convert {\n",
              "      background-color: #E8F0FE;\n",
              "      border: none;\n",
              "      border-radius: 50%;\n",
              "      cursor: pointer;\n",
              "      display: none;\n",
              "      fill: #1967D2;\n",
              "      height: 32px;\n",
              "      padding: 0 0 0 0;\n",
              "      width: 32px;\n",
              "    }\n",
              "\n",
              "    .colab-df-convert:hover {\n",
              "      background-color: #E2EBFA;\n",
              "      box-shadow: 0px 1px 2px rgba(60, 64, 67, 0.3), 0px 1px 3px 1px rgba(60, 64, 67, 0.15);\n",
              "      fill: #174EA6;\n",
              "    }\n",
              "\n",
              "    .colab-df-buttons div {\n",
              "      margin-bottom: 4px;\n",
              "    }\n",
              "\n",
              "    [theme=dark] .colab-df-convert {\n",
              "      background-color: #3B4455;\n",
              "      fill: #D2E3FC;\n",
              "    }\n",
              "\n",
              "    [theme=dark] .colab-df-convert:hover {\n",
              "      background-color: #434B5C;\n",
              "      box-shadow: 0px 1px 3px 1px rgba(0, 0, 0, 0.15);\n",
              "      filter: drop-shadow(0px 1px 2px rgba(0, 0, 0, 0.3));\n",
              "      fill: #FFFFFF;\n",
              "    }\n",
              "  </style>\n",
              "\n",
              "    <script>\n",
              "      const buttonEl =\n",
              "        document.querySelector('#df-25350bd4-9176-4415-bd57-fc0a4575a3a5 button.colab-df-convert');\n",
              "      buttonEl.style.display =\n",
              "        google.colab.kernel.accessAllowed ? 'block' : 'none';\n",
              "\n",
              "      async function convertToInteractive(key) {\n",
              "        const element = document.querySelector('#df-25350bd4-9176-4415-bd57-fc0a4575a3a5');\n",
              "        const dataTable =\n",
              "          await google.colab.kernel.invokeFunction('convertToInteractive',\n",
              "                                                    [key], {});\n",
              "        if (!dataTable) return;\n",
              "\n",
              "        const docLinkHtml = 'Like what you see? Visit the ' +\n",
              "          '<a target=\"_blank\" href=https://colab.research.google.com/notebooks/data_table.ipynb>data table notebook</a>'\n",
              "          + ' to learn more about interactive tables.';\n",
              "        element.innerHTML = '';\n",
              "        dataTable['output_type'] = 'display_data';\n",
              "        await google.colab.output.renderOutput(dataTable, element);\n",
              "        const docLink = document.createElement('div');\n",
              "        docLink.innerHTML = docLinkHtml;\n",
              "        element.appendChild(docLink);\n",
              "      }\n",
              "    </script>\n",
              "  </div>\n",
              "\n",
              "\n",
              "    <div id=\"df-5c7d9b21-f924-44fd-aebb-75dfe7e267a1\">\n",
              "      <button class=\"colab-df-quickchart\" onclick=\"quickchart('df-5c7d9b21-f924-44fd-aebb-75dfe7e267a1')\"\n",
              "                title=\"Suggest charts\"\n",
              "                style=\"display:none;\">\n",
              "\n",
              "<svg xmlns=\"http://www.w3.org/2000/svg\" height=\"24px\"viewBox=\"0 0 24 24\"\n",
              "     width=\"24px\">\n",
              "    <g>\n",
              "        <path d=\"M19 3H5c-1.1 0-2 .9-2 2v14c0 1.1.9 2 2 2h14c1.1 0 2-.9 2-2V5c0-1.1-.9-2-2-2zM9 17H7v-7h2v7zm4 0h-2V7h2v10zm4 0h-2v-4h2v4z\"/>\n",
              "    </g>\n",
              "</svg>\n",
              "      </button>\n",
              "\n",
              "<style>\n",
              "  .colab-df-quickchart {\n",
              "      --bg-color: #E8F0FE;\n",
              "      --fill-color: #1967D2;\n",
              "      --hover-bg-color: #E2EBFA;\n",
              "      --hover-fill-color: #174EA6;\n",
              "      --disabled-fill-color: #AAA;\n",
              "      --disabled-bg-color: #DDD;\n",
              "  }\n",
              "\n",
              "  [theme=dark] .colab-df-quickchart {\n",
              "      --bg-color: #3B4455;\n",
              "      --fill-color: #D2E3FC;\n",
              "      --hover-bg-color: #434B5C;\n",
              "      --hover-fill-color: #FFFFFF;\n",
              "      --disabled-bg-color: #3B4455;\n",
              "      --disabled-fill-color: #666;\n",
              "  }\n",
              "\n",
              "  .colab-df-quickchart {\n",
              "    background-color: var(--bg-color);\n",
              "    border: none;\n",
              "    border-radius: 50%;\n",
              "    cursor: pointer;\n",
              "    display: none;\n",
              "    fill: var(--fill-color);\n",
              "    height: 32px;\n",
              "    padding: 0;\n",
              "    width: 32px;\n",
              "  }\n",
              "\n",
              "  .colab-df-quickchart:hover {\n",
              "    background-color: var(--hover-bg-color);\n",
              "    box-shadow: 0 1px 2px rgba(60, 64, 67, 0.3), 0 1px 3px 1px rgba(60, 64, 67, 0.15);\n",
              "    fill: var(--button-hover-fill-color);\n",
              "  }\n",
              "\n",
              "  .colab-df-quickchart-complete:disabled,\n",
              "  .colab-df-quickchart-complete:disabled:hover {\n",
              "    background-color: var(--disabled-bg-color);\n",
              "    fill: var(--disabled-fill-color);\n",
              "    box-shadow: none;\n",
              "  }\n",
              "\n",
              "  .colab-df-spinner {\n",
              "    border: 2px solid var(--fill-color);\n",
              "    border-color: transparent;\n",
              "    border-bottom-color: var(--fill-color);\n",
              "    animation:\n",
              "      spin 1s steps(1) infinite;\n",
              "  }\n",
              "\n",
              "  @keyframes spin {\n",
              "    0% {\n",
              "      border-color: transparent;\n",
              "      border-bottom-color: var(--fill-color);\n",
              "      border-left-color: var(--fill-color);\n",
              "    }\n",
              "    20% {\n",
              "      border-color: transparent;\n",
              "      border-left-color: var(--fill-color);\n",
              "      border-top-color: var(--fill-color);\n",
              "    }\n",
              "    30% {\n",
              "      border-color: transparent;\n",
              "      border-left-color: var(--fill-color);\n",
              "      border-top-color: var(--fill-color);\n",
              "      border-right-color: var(--fill-color);\n",
              "    }\n",
              "    40% {\n",
              "      border-color: transparent;\n",
              "      border-right-color: var(--fill-color);\n",
              "      border-top-color: var(--fill-color);\n",
              "    }\n",
              "    60% {\n",
              "      border-color: transparent;\n",
              "      border-right-color: var(--fill-color);\n",
              "    }\n",
              "    80% {\n",
              "      border-color: transparent;\n",
              "      border-right-color: var(--fill-color);\n",
              "      border-bottom-color: var(--fill-color);\n",
              "    }\n",
              "    90% {\n",
              "      border-color: transparent;\n",
              "      border-bottom-color: var(--fill-color);\n",
              "    }\n",
              "  }\n",
              "</style>\n",
              "\n",
              "      <script>\n",
              "        async function quickchart(key) {\n",
              "          const quickchartButtonEl =\n",
              "            document.querySelector('#' + key + ' button');\n",
              "          quickchartButtonEl.disabled = true;  // To prevent multiple clicks.\n",
              "          quickchartButtonEl.classList.add('colab-df-spinner');\n",
              "          try {\n",
              "            const charts = await google.colab.kernel.invokeFunction(\n",
              "                'suggestCharts', [key], {});\n",
              "          } catch (error) {\n",
              "            console.error('Error during call to suggestCharts:', error);\n",
              "          }\n",
              "          quickchartButtonEl.classList.remove('colab-df-spinner');\n",
              "          quickchartButtonEl.classList.add('colab-df-quickchart-complete');\n",
              "        }\n",
              "        (() => {\n",
              "          let quickchartButtonEl =\n",
              "            document.querySelector('#df-5c7d9b21-f924-44fd-aebb-75dfe7e267a1 button');\n",
              "          quickchartButtonEl.style.display =\n",
              "            google.colab.kernel.accessAllowed ? 'block' : 'none';\n",
              "        })();\n",
              "      </script>\n",
              "    </div>\n",
              "\n",
              "    </div>\n",
              "  </div>\n"
            ],
            "application/vnd.google.colaboratory.intrinsic+json": {
              "type": "dataframe",
              "summary": "{\n  \"name\": \"df3\",\n  \"rows\": 2,\n  \"fields\": [\n    {\n      \"column\": \"X\",\n      \"properties\": {\n        \"dtype\": \"string\",\n        \"num_unique_values\": 1,\n        \"samples\": [\n          \"B\"\n        ],\n        \"semantic_type\": \"\",\n        \"description\": \"\"\n      }\n    },\n    {\n      \"column\": \"Y\",\n      \"properties\": {\n        \"dtype\": \"number\",\n        \"std\": 1,\n        \"min\": 2,\n        \"max\": 4,\n        \"num_unique_values\": 2,\n        \"samples\": [\n          2\n        ],\n        \"semantic_type\": \"\",\n        \"description\": \"\"\n      }\n    }\n  ]\n}"
            }
          },
          "metadata": {},
          "execution_count": 21
        }
      ]
    },
    {
      "cell_type": "markdown",
      "source": [
        "##Sử dụng pandas trong bài toán thực tế"
      ],
      "metadata": {
        "id": "awEs18btFQLf"
      }
    },
    {
      "cell_type": "code",
      "source": [
        "import matplotlib.pyplot as plt\n",
        "import pandas as pd\n",
        "import numpy as np\n",
        "\n",
        "# đọc dữ liệu từ file csv, chuyển dữ liệu cột 1 sang date\n",
        "df = pd.read_csv(\"kqxs.csv\", index_col = 0, parse_dates=True)\n",
        "\n",
        "# xóa bỏ các dòng không có dữ liệu\n",
        "df.dropna(inplace=True)\n",
        "# thêm cột mới là 2 số cuối của giải độc đắc\n",
        "df['Cuoi'] = df.So % 100\n",
        "# trích xuất cột mới thành dữ liệu series để dễ xử lý\n",
        "s = pd.Series(df.Cuoi, dtype='int64’)\n",
        "\n",
        "# xem phân bổ dữ liệu: biểu đồ histogram, 100 nhóm\n",
        "s.plot('hist', bins=100)\n",
        "plt.show()\n",
        "\n",
        "# một dạng phân bổ dữ liệu khác: biểu đồ bar, đếm tần suất\n",
        "s.value_counts().sort_index().plot('bar')\n",
        "plt.show()"
      ],
      "metadata": {
        "colab": {
          "base_uri": "https://localhost:8080/",
          "height": 110
        },
        "id": "HweuEP_MFQCK",
        "outputId": "e839202b-7663-4177-c9b4-080a5db279c5"
      },
      "execution_count": 12,
      "outputs": [
        {
          "output_type": "error",
          "ename": "IndentationError",
          "evalue": "expected an indented block after function definition on line 5 (ipython-input-1626491136.py, line 6)",
          "traceback": [
            "\u001b[0;36m  File \u001b[0;32m\"/tmp/ipython-input-1626491136.py\"\u001b[0;36m, line \u001b[0;32m6\u001b[0m\n\u001b[0;31m    pay = len(myNums) * money\u001b[0m\n\u001b[0m    ^\u001b[0m\n\u001b[0;31mIndentationError\u001b[0m\u001b[0;31m:\u001b[0m expected an indented block after function definition on line 5\n"
          ]
        }
      ]
    },
    {
      "cell_type": "markdown",
      "source": [
        "####Viết hàm tính số tiền thu về"
      ],
      "metadata": {
        "id": "942D2SeHFP4z"
      }
    },
    {
      "cell_type": "code",
      "source": [
        "# thử bộ số myNums, kết quả về là result, số tiền chơi là money\n",
        "def one_day(myNums, result, money):\n",
        "pay = len(myNums) * money\n",
        "get = money * 70 if result in myNums else 0\n",
        "return get-pay\n",
        "# chơi nhiều ngày bộ số myNums, kết quả về là results\n",
        "def many_day(myNums, results, money):\n",
        "total = 0\n",
        "for x in results:\n",
        "total += one_day(myNums, x, money)\n",
        "return total"
      ],
      "metadata": {
        "id": "PuTkwV5FJp5B"
      },
      "execution_count": null,
      "outputs": []
    },
    {
      "cell_type": "markdown",
      "source": [
        "####Chiến lược: nuôi một số, thống kê"
      ],
      "metadata": {
        "id": "-b8WCpaHFPeI"
      }
    },
    {
      "cell_type": "code",
      "source": [
        "money = 1000\n",
        "\n",
        "# thử chiến lược chơi: nuôi một con\n",
        "print(\"Chơi con 76 toàn năm 2000:\", many_day([76],\n",
        "s[0:367], money))\n",
        "print(\"Chơi con 76 toàn bộ các năm:\", many_day([76], s,\n",
        "money))\n",
        "# thử chiến lược chơi: nuôi nhiều con\n",
        "print(\"Nuôi nhiều số toàn năm 2000:\", many_day([76, 92,\n",
        "3, 10, 51, 45], s[0:367], money))\n",
        "print(\"Nuôi nhiều số toàn bộ các năm:\", many_day([76,\n",
        "92, 3, 10, 51,45], s, money))"
      ],
      "metadata": {
        "id": "FufZsfb2JsCM"
      },
      "execution_count": null,
      "outputs": []
    },
    {
      "cell_type": "code",
      "source": [
        "# thống kê con ra nhiều nhất rồi chơi\n",
        "\n",
        "x = s[0:362].value_counts().idxmax()\n",
        "y = s.value_counts().idxmax()\n",
        "print(\"Chơi theo số ra nhiều nhất năm 2000:\", x,\n",
        "many_day([x], s, money))\n",
        "print(\"Chơi theo số ra nhiều nhất các năm:\", y,\n",
        "many_day([y], s, money))"
      ],
      "metadata": {
        "id": "ZKhybm_QFOcx"
      },
      "execution_count": null,
      "outputs": []
    },
    {
      "cell_type": "code",
      "source": [
        "# chơi ngẫu nhiên, mỗi ngày một con\n",
        "\n",
        "total = 0\n",
        "for d in s:\n",
        "total-= money\n",
        "m = np.random.randint(100)\n",
        "if (m == d): total += 70 * money\n",
        "print(\"Chơi ngẫu nhiên:\", total)"
      ],
      "metadata": {
        "id": "8LUnNO3uTcj_"
      },
      "execution_count": null,
      "outputs": []
    },
    {
      "cell_type": "markdown",
      "source": [
        "##Thư viện scikit-learn"
      ],
      "metadata": {
        "id": "6cdriaQvFORP"
      }
    },
    {
      "cell_type": "markdown",
      "source": [
        "###Mối quan hệ giữa Khoa học Dữ liệu và Học máy"
      ],
      "metadata": {
        "id": "dWG2R--sWehE"
      }
    },
    {
      "cell_type": "markdown",
      "source": [
        "###Một số loại bài toán học máy"
      ],
      "metadata": {
        "id": "hY0fMYhdWpIp"
      }
    },
    {
      "cell_type": "markdown",
      "source": [
        "###Thư viện học máy scikit-learn"
      ],
      "metadata": {
        "id": "I8QDxZxtWtrK"
      }
    },
    {
      "cell_type": "markdown",
      "source": [
        "####Dự báo sử dụng hồi quy tuyến tính"
      ],
      "metadata": {
        "id": "qR_AO4ETWyFM"
      }
    },
    {
      "cell_type": "code",
      "source": [
        "import matplotlib.pyplot as plt\n",
        "import pandas as pd\n",
        "import numpy as np\n",
        "from sklearn import linear_model, metrics\n",
        "\n",
        "# đọc dữ liệu từ file csv\n",
        "df = pd.read_csv(\"nguoi.csv\", index_col = 0)\n",
        "# vẽ biểu đồ minh họa dataset\n",
        "plt.plot(df.Cao, df.Nang, 'ro')\n",
        "plt.xlabel('Chiều cao (cm)')\n",
        "plt.ylabel('Cân nặng (kg)')\n",
        "plt.show()\n",
        "# sử dụng hồi quy tuyến tính\n",
        "X = df.loc[:, ['Cao']].values\n",
        "y = df.Nang.values\n",
        "\n",
        "# X là dữ liệu đầu vào\n",
        "# y là dữ liệu đầu ra\n",
        "# loại mô hình\n",
        "# tập huấn trên dữ liệu\n",
        "\n",
        "model = linear_model.LinearRegression()\n",
        "model.fit(X, y)\n",
        "# in một số thông tin về mô hình\n",
        "mse = metrics.mean_squared_error(model.predict(X), y)\n",
        "print(\"Tổng bình phương sai số trên tập mẫu:\", mse)\n",
        "print(\"Hệ số hồi quy:\", model.coef_)\n",
        "print(\"Sai số:\", model.intercept_)\n",
        "print(f\"Công thức: [Nặng] = {model.coef_} x [Cao] +{model.intercept_}\")\n",
        "# vẽ lại sơ đồ\n",
        "plt.scatter(X, y, c='b')\n",
        "plt.plot(X, model.predict(X))\n",
        "plt.show()\n",
        "\n",
        "# dự báo một số tình huống\n",
        "while True:\n",
        "\n",
        "  x = float(input(\"Nhập chiều cao (nhập 0 để dừng): \"))\n",
        "  if x <= 0: break\n",
        "  print(\"Người cao\", x, \"cm, dự báo cân nặng\",model.predict([[x]]))"
      ],
      "metadata": {
        "id": "1p4qLaPCY244"
      },
      "execution_count": null,
      "outputs": []
    },
    {
      "cell_type": "markdown",
      "source": [
        "####Dự báo sử dụng hồi quy tuyến tính"
      ],
      "metadata": {
        "id": "0ldJhcMtFNcO"
      }
    },
    {
      "cell_type": "code",
      "source": [
        "import matplotlib.pyplot as plt\n",
        "import pandas as pd\n",
        "import numpy as np\n",
        "from sklearn import linear_model, metrics\n",
        "\n",
        "# đọc dữ liệu từ file csv\n",
        "df = pd.read_csv(\"nguoi2.csv\", index_col = 0)\n",
        "print(df)\n",
        "# thêm cột mới, giới tính Nam = 1, giới tính Nữ = 0\n",
        "df['GT'] = df.Gioitinh.apply(lambda x: 1 if x=='Nam' else 0)\n",
        "print(df)\n",
        "# sử dụng hồi quy tuyến tính\n",
        "X = df.loc[:, ['Cao', 'GT']].values\n",
        "y = df.Nang.values\n",
        "\n",
        "# X là dữ liệu đầu vào\n",
        "# y là dữ liệu đầu ra\n",
        "model = linear_model.LinearRegression() # loại mô hình\n",
        "model.fit(X, y) # tập huấn trên dữ liệu\n",
        "\n",
        "# in một số thông tin về mô hình\n",
        "mse = metrics.mean_squared_error(model.predict(X), y)\n",
        "print(\"Tổng bình phương sai số trên tập mẫu:\", mse)\n",
        "print(\"Hệ số hồi quy:\", model.coef_)\n",
        "print(\"Sai số:\", model.intercept_)\n",
        "print(f\"Công thức: [Nặng] = {model.coef_} x [Cao, Giới tính] +\n",
        "{model.intercept_}\")\n",
        "# dự báo một số tình huống\n",
        "while True:\n",
        "  x = float(input(\"Nhập chiều cao (nhập 0 để dừng): \"))\n",
        "  if x <= 0: break\n",
        "  print(\"Nam giới cao\", x, \"cm, dự báo cân nặng\", model.predict([[x, 1]]))\n",
        "  print(\"Nữ giới cao\", x, \"cm, dự báo cân nặng\", model.predict([[x, 0]]))"
      ],
      "metadata": {
        "id": "5CRnNP2mFN1u"
      },
      "execution_count": null,
      "outputs": []
    },
    {
      "cell_type": "markdown",
      "source": [
        "#Kết Thúc\n"
      ],
      "metadata": {
        "id": "WcZabUMsaSX9"
      }
    }
  ]
}