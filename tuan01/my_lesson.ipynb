{
 "cells": [
  {
   "cell_type": "markdown",
   "id": "5828e609",
   "metadata": {},
   "source": [
    "#“Thuc hanh tri tue nhan tao Buoi 1”"
   ]
  },
  {
   "cell_type": "markdown",
   "id": "b6da8842",
   "metadata": {},
   "source": [
    "##“Noi dung thuc hanh”"
   ]
  },
  {
   "cell_type": "markdown",
   "id": "36d79556",
   "metadata": {},
   "source": [
    "###In chu ra man hinh"
   ]
  },
  {
   "cell_type": "code",
   "execution_count": 1,
   "id": "b74cec55",
   "metadata": {},
   "outputs": [
    {
     "name": "stdout",
     "output_type": "stream",
     "text": [
      "Hello, Python World!\n"
     ]
    }
   ],
   "source": [
    "# lenh 1 - xuat chu\n",
    "print(\"Hello, Python World!\")"
   ]
  },
  {
   "cell_type": "markdown",
   "id": "1090dc75",
   "metadata": {},
   "source": [
    "###Tính toán đơn giản"
   ]
  },
  {
   "cell_type": "code",
   "execution_count": 1,
   "id": "a2952854",
   "metadata": {},
   "outputs": [
    {
     "name": "stdout",
     "output_type": "stream",
     "text": [
      "Calculator Basic\n",
      "c = 2 + 3 = 5\n"
     ]
    }
   ],
   "source": [
    "%run ex1_calc.py"
   ]
  },
  {
   "cell_type": "markdown",
   "id": "f7984130",
   "metadata": {},
   "source": [
    "###Tính chu vi và diện tích hình tròn"
   ]
  },
  {
   "cell_type": "code",
   "execution_count": 2,
   "id": "553a8bff",
   "metadata": {},
   "outputs": [
    {
     "name": "stdout",
     "output_type": "stream",
     "text": [
      "Tinh chu vi va dien tich hinh tron\n",
      "Chu vi hinh tron la: 12.57\n",
      "Dien tich hinh tron la: 12.57\n"
     ]
    }
   ],
   "source": [
    "%run ex3_circle.py"
   ]
  }
 ],
 "metadata": {
  "kernelspec": {
   "display_name": "Python 3",
   "language": "python",
   "name": "python3"
  },
  "language_info": {
   "codemirror_mode": {
    "name": "ipython",
    "version": 3
   },
   "file_extension": ".py",
   "mimetype": "text/x-python",
   "name": "python",
   "nbconvert_exporter": "python",
   "pygments_lexer": "ipython3",
   "version": "3.12.10"
  }
 },
 "nbformat": 4,
 "nbformat_minor": 5
}
