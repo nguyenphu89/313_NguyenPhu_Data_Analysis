{
  "cells": [
    {
      "cell_type": "markdown",
      "source": [
        "#CHAPTER 12: Introduction to Modeling Libraries in Python"
      ],
      "metadata": {
        "id": "gQ08Q_NvCc2T"
      }
    },
    {
      "cell_type": "markdown",
      "source": [
        "##12.1 Interfacing Between pandas and Model Code"
      ],
      "metadata": {
        "id": "ygbUIICcCwds"
      }
    },
    {
      "cell_type": "code",
      "execution_count": null,
      "metadata": {
        "id": "HolxmJTuCJWQ"
      },
      "outputs": [],
      "source": [
        "import numpy as np\n",
        "import pandas as pd\n",
        "np.random.seed(12345)\n",
        "import matplotlib.pyplot as plt\n",
        "plt.rc('figure', figsize=(10, 6))\n",
        "PREVIOUS_MAX_ROWS = pd.options.display.max_rows\n",
        "pd.options.display.max_columns = 20\n",
        "pd.options.display.max_rows = 20\n",
        "pd.options.display.max_colwidth = 80\n",
        "np.set_printoptions(precision=4, suppress=True)"
      ]
    },
    {
      "cell_type": "code",
      "execution_count": null,
      "metadata": {
        "id": "kwtMizTPCJWX"
      },
      "outputs": [],
      "source": [
        "data = pd.DataFrame({\n",
        "    'x0': [1, 2, 3, 4, 5],\n",
        "    'x1': [0.01, -0.01, 0.25, -4.1, 0.],\n",
        "    'y': [-1.5, 0., 3.6, 1.3, -2.]})\n",
        "data\n",
        "data.columns\n",
        "data.to_numpy()"
      ]
    },
    {
      "cell_type": "code",
      "execution_count": null,
      "metadata": {
        "id": "EEi1iUr4CJWY"
      },
      "outputs": [],
      "source": [
        "df2 = pd.DataFrame(data.to_numpy(), columns=['one', 'two', 'three'])\n",
        "df2"
      ]
    },
    {
      "cell_type": "code",
      "execution_count": null,
      "metadata": {
        "id": "gFpUPgJ7CJWZ"
      },
      "outputs": [],
      "source": [
        "df3 = data.copy()\n",
        "df3['strings'] = ['a', 'b', 'c', 'd', 'e']\n",
        "df3\n",
        "df3.to_numpy()"
      ]
    },
    {
      "cell_type": "code",
      "execution_count": null,
      "metadata": {
        "id": "QPI37hyRCJWZ"
      },
      "outputs": [],
      "source": [
        "model_cols = ['x0', 'x1']\n",
        "data.loc[:, model_cols].to_numpy()"
      ]
    },
    {
      "cell_type": "code",
      "execution_count": null,
      "metadata": {
        "id": "w8rMq0wTCJWa"
      },
      "outputs": [],
      "source": [
        "data['category'] = pd.Categorical(['a', 'b', 'a', 'a', 'b'],\n",
        "                                  categories=['a', 'b'])\n",
        "data"
      ]
    },
    {
      "cell_type": "code",
      "execution_count": null,
      "metadata": {
        "id": "Ne5R4mfnCJWb"
      },
      "outputs": [],
      "source": [
        "dummies = pd.get_dummies(data.category, prefix='category',\n",
        "                         dtype=float)\n",
        "data_with_dummies = data.drop('category', axis=1).join(dummies)\n",
        "data_with_dummies"
      ]
    },
    {
      "cell_type": "markdown",
      "source": [
        "##12.2 Creating Model Descriptions with Patsy"
      ],
      "metadata": {
        "id": "DfhsYB9SDGKz"
      }
    },
    {
      "cell_type": "code",
      "execution_count": null,
      "metadata": {
        "id": "sbFUIoDkCJWc"
      },
      "outputs": [],
      "source": [
        "data = pd.DataFrame({\n",
        "    'x0': [1, 2, 3, 4, 5],\n",
        "    'x1': [0.01, -0.01, 0.25, -4.1, 0.],\n",
        "    'y': [-1.5, 0., 3.6, 1.3, -2.]})\n",
        "data\n",
        "import patsy\n",
        "y, X = patsy.dmatrices('y ~ x0 + x1', data)"
      ]
    },
    {
      "cell_type": "code",
      "execution_count": null,
      "metadata": {
        "id": "ulPCbg7sCJWd"
      },
      "outputs": [],
      "source": [
        "y\n",
        "X"
      ]
    },
    {
      "cell_type": "code",
      "execution_count": null,
      "metadata": {
        "id": "2H2KyThDCJWe"
      },
      "outputs": [],
      "source": [
        "np.asarray(y)\n",
        "np.asarray(X)"
      ]
    },
    {
      "cell_type": "code",
      "execution_count": null,
      "metadata": {
        "id": "vU4rU_LcCJWe"
      },
      "outputs": [],
      "source": [
        "patsy.dmatrices('y ~ x0 + x1 + 0', data)[1]"
      ]
    },
    {
      "cell_type": "code",
      "execution_count": null,
      "metadata": {
        "id": "oVv_Jr1eCJWf"
      },
      "outputs": [],
      "source": [
        "coef, resid, _, _ = np.linalg.lstsq(X, y, rcond=None)"
      ]
    },
    {
      "cell_type": "code",
      "execution_count": null,
      "metadata": {
        "id": "sfmgshjeCJWf"
      },
      "outputs": [],
      "source": [
        "coef\n",
        "coef = pd.Series(coef.squeeze(), index=X.design_info.column_names)\n",
        "coef"
      ]
    },
    {
      "cell_type": "markdown",
      "source": [
        "###Data Transformations in Patsy Formulas"
      ],
      "metadata": {
        "id": "olgaCFvtDMSh"
      }
    },
    {
      "cell_type": "code",
      "execution_count": null,
      "metadata": {
        "id": "OXDAyNJ0CJWf"
      },
      "outputs": [],
      "source": [
        "y, X = patsy.dmatrices('y ~ x0 + np.log(np.abs(x1) + 1)', data)\n",
        "X"
      ]
    },
    {
      "cell_type": "code",
      "execution_count": null,
      "metadata": {
        "id": "x--BGuwBCJWf"
      },
      "outputs": [],
      "source": [
        "y, X = patsy.dmatrices('y ~ standardize(x0) + center(x1)', data)\n",
        "X"
      ]
    },
    {
      "cell_type": "code",
      "execution_count": null,
      "metadata": {
        "id": "1SAJxY4zCJWg"
      },
      "outputs": [],
      "source": [
        "new_data = pd.DataFrame({\n",
        "    'x0': [6, 7, 8, 9],\n",
        "    'x1': [3.1, -0.5, 0, 2.3],\n",
        "    'y': [1, 2, 3, 4]})\n",
        "new_X = patsy.build_design_matrices([X.design_info], new_data)\n",
        "new_X"
      ]
    },
    {
      "cell_type": "code",
      "execution_count": null,
      "metadata": {
        "id": "zK4MJA9zCJWg"
      },
      "outputs": [],
      "source": [
        "y, X = patsy.dmatrices('y ~ I(x0 + x1)', data)\n",
        "X"
      ]
    },
    {
      "cell_type": "markdown",
      "source": [
        "###Categorical Data and Patsy"
      ],
      "metadata": {
        "id": "h2F7331eDPoR"
      }
    },
    {
      "cell_type": "code",
      "execution_count": null,
      "metadata": {
        "id": "YakTxB6GCJWg"
      },
      "outputs": [],
      "source": [
        "data = pd.DataFrame({\n",
        "    'key1': ['a', 'a', 'b', 'b', 'a', 'b', 'a', 'b'],\n",
        "    'key2': [0, 1, 0, 1, 0, 1, 0, 0],\n",
        "    'v1': [1, 2, 3, 4, 5, 6, 7, 8],\n",
        "    'v2': [-1, 0, 2.5, -0.5, 4.0, -1.2, 0.2, -1.7]\n",
        "})\n",
        "y, X = patsy.dmatrices('v2 ~ key1', data)\n",
        "X"
      ]
    },
    {
      "cell_type": "code",
      "execution_count": null,
      "metadata": {
        "id": "w7PnNQLgCJWg"
      },
      "outputs": [],
      "source": [
        "y, X = patsy.dmatrices('v2 ~ key1 + 0', data)\n",
        "X"
      ]
    },
    {
      "cell_type": "code",
      "execution_count": null,
      "metadata": {
        "id": "Ne-o5JWOCJWh"
      },
      "outputs": [],
      "source": [
        "y, X = patsy.dmatrices('v2 ~ C(key2)', data)\n",
        "X"
      ]
    },
    {
      "cell_type": "code",
      "execution_count": null,
      "metadata": {
        "id": "zpxG-xfmCJWh"
      },
      "outputs": [],
      "source": [
        "data['key2'] = data['key2'].map({0: 'zero', 1: 'one'})\n",
        "data\n",
        "y, X = patsy.dmatrices('v2 ~ key1 + key2', data)\n",
        "X\n",
        "y, X = patsy.dmatrices('v2 ~ key1 + key2 + key1:key2', data)\n",
        "X"
      ]
    },
    {
      "cell_type": "markdown",
      "source": [
        "##12.3 Introduction to statsmodels"
      ],
      "metadata": {
        "id": "jGUddu5zDV3D"
      }
    },
    {
      "cell_type": "markdown",
      "source": [
        "###Estimating Linear Models"
      ],
      "metadata": {
        "id": "UNHFyuMUDXXP"
      }
    },
    {
      "cell_type": "code",
      "execution_count": null,
      "metadata": {
        "id": "6G11MdP1CJWh"
      },
      "outputs": [],
      "source": [
        "import statsmodels.api as sm\n",
        "import statsmodels.formula.api as smf"
      ]
    },
    {
      "cell_type": "code",
      "execution_count": null,
      "metadata": {
        "id": "T2LpECe-CJWh"
      },
      "outputs": [],
      "source": [
        "# To make the example reproducible\n",
        "rng = np.random.default_rng(seed=12345)\n",
        "\n",
        "def dnorm(mean, variance, size=1):\n",
        "    if isinstance(size, int):\n",
        "        size = size,\n",
        "    return mean + np.sqrt(variance) * rng.standard_normal(*size)\n",
        "\n",
        "N = 100\n",
        "X = np.c_[dnorm(0, 0.4, size=N),\n",
        "          dnorm(0, 0.6, size=N),\n",
        "          dnorm(0, 0.2, size=N)]\n",
        "eps = dnorm(0, 0.1, size=N)\n",
        "beta = [0.1, 0.3, 0.5]\n",
        "\n",
        "y = np.dot(X, beta) + eps"
      ]
    },
    {
      "cell_type": "code",
      "execution_count": null,
      "metadata": {
        "id": "OCLTsh-9CJWi"
      },
      "outputs": [],
      "source": [
        "X[:5]\n",
        "y[:5]"
      ]
    },
    {
      "cell_type": "code",
      "execution_count": null,
      "metadata": {
        "id": "zSCEV699CJWi"
      },
      "outputs": [],
      "source": [
        "X_model = sm.add_constant(X)\n",
        "X_model[:5]"
      ]
    },
    {
      "cell_type": "code",
      "execution_count": null,
      "metadata": {
        "id": "NMvSiYKuCJWi"
      },
      "outputs": [],
      "source": [
        "model = sm.OLS(y, X)"
      ]
    },
    {
      "cell_type": "code",
      "execution_count": null,
      "metadata": {
        "id": "-aT0mzmfCJWi"
      },
      "outputs": [],
      "source": [
        "results = model.fit()\n",
        "results.params"
      ]
    },
    {
      "cell_type": "code",
      "execution_count": null,
      "metadata": {
        "id": "2_QZhn1cCJWj"
      },
      "outputs": [],
      "source": [
        "print(results.summary())"
      ]
    },
    {
      "cell_type": "code",
      "execution_count": null,
      "metadata": {
        "id": "HiNxXgdHCJWj"
      },
      "outputs": [],
      "source": [
        "data = pd.DataFrame(X, columns=['col0', 'col1', 'col2'])\n",
        "data['y'] = y\n",
        "data[:5]"
      ]
    },
    {
      "cell_type": "code",
      "execution_count": null,
      "metadata": {
        "id": "kb35FAiaCJWj"
      },
      "outputs": [],
      "source": [
        "results = smf.ols('y ~ col0 + col1 + col2', data=data).fit()\n",
        "results.params\n",
        "results.tvalues"
      ]
    },
    {
      "cell_type": "code",
      "execution_count": null,
      "metadata": {
        "id": "E5ir5HrSCJWk"
      },
      "outputs": [],
      "source": [
        "results.predict(data[:5])"
      ]
    },
    {
      "cell_type": "markdown",
      "source": [
        "###Estimating Time Series Processes"
      ],
      "metadata": {
        "id": "zbQjrt70DeKF"
      }
    },
    {
      "cell_type": "code",
      "execution_count": null,
      "metadata": {
        "id": "v4AlyFi5CJWl"
      },
      "outputs": [],
      "source": [
        "init_x = 4\n",
        "\n",
        "values = [init_x, init_x]\n",
        "N = 1000\n",
        "\n",
        "b0 = 0.8\n",
        "b1 = -0.4\n",
        "noise = dnorm(0, 0.1, N)\n",
        "for i in range(N):\n",
        "    new_x = values[-1] * b0 + values[-2] * b1 + noise[i]\n",
        "    values.append(new_x)"
      ]
    },
    {
      "cell_type": "markdown",
      "source": [
        "##12.4 Introduction to scikit-learn"
      ],
      "metadata": {
        "id": "n8N3tBRTDgdD"
      }
    },
    {
      "cell_type": "code",
      "execution_count": null,
      "metadata": {
        "id": "3HXzFSxjCJWl"
      },
      "outputs": [],
      "source": [
        "from statsmodels.tsa.ar_model import AutoReg\n",
        "MAXLAGS = 5\n",
        "model = AutoReg(values, MAXLAGS)\n",
        "results = model.fit()"
      ]
    },
    {
      "cell_type": "code",
      "execution_count": null,
      "metadata": {
        "id": "edo7mNztCJWm"
      },
      "outputs": [],
      "source": [
        "results.params"
      ]
    },
    {
      "cell_type": "code",
      "execution_count": null,
      "metadata": {
        "id": "CRDG2fo7CJWm"
      },
      "outputs": [],
      "source": [
        "train = pd.read_csv('datasets/titanic/train.csv')\n",
        "test = pd.read_csv('datasets/titanic/test.csv')\n",
        "train.head(4)"
      ]
    },
    {
      "cell_type": "code",
      "execution_count": null,
      "metadata": {
        "id": "0WtbLnHaCJWn"
      },
      "outputs": [],
      "source": [
        "train.isna().sum()\n",
        "test.isna().sum()"
      ]
    },
    {
      "cell_type": "code",
      "execution_count": null,
      "metadata": {
        "id": "JW_un50pCJWn"
      },
      "outputs": [],
      "source": [
        "impute_value = train['Age'].median()\n",
        "train['Age'] = train['Age'].fillna(impute_value)\n",
        "test['Age'] = test['Age'].fillna(impute_value)"
      ]
    },
    {
      "cell_type": "code",
      "execution_count": null,
      "metadata": {
        "id": "zUJzEfQrCJWo"
      },
      "outputs": [],
      "source": [
        "train['IsFemale'] = (train['Sex'] == 'female').astype(int)\n",
        "test['IsFemale'] = (test['Sex'] == 'female').astype(int)"
      ]
    },
    {
      "cell_type": "code",
      "execution_count": null,
      "metadata": {
        "id": "of5SfASQCJWo"
      },
      "outputs": [],
      "source": [
        "predictors = ['Pclass', 'IsFemale', 'Age']\n",
        "\n",
        "X_train = train[predictors].to_numpy()\n",
        "X_test = test[predictors].to_numpy()\n",
        "y_train = train['Survived'].to_numpy()\n",
        "X_train[:5]\n",
        "y_train[:5]"
      ]
    },
    {
      "cell_type": "code",
      "execution_count": null,
      "metadata": {
        "id": "c-p1nnCdCJWw"
      },
      "outputs": [],
      "source": [
        "from sklearn.linear_model import LogisticRegression\n",
        "\n",
        "model = LogisticRegression()"
      ]
    },
    {
      "cell_type": "code",
      "execution_count": null,
      "metadata": {
        "id": "qtHHcqG_CJWx"
      },
      "outputs": [],
      "source": [
        "model.fit(X_train, y_train)"
      ]
    },
    {
      "cell_type": "code",
      "execution_count": null,
      "metadata": {
        "id": "IiBTXpEbCJWx"
      },
      "outputs": [],
      "source": [
        "y_predict = model.predict(X_test)\n",
        "y_predict[:10]"
      ]
    },
    {
      "cell_type": "code",
      "execution_count": null,
      "metadata": {
        "id": "GCEQ3YteCJWy"
      },
      "outputs": [],
      "source": [
        "from sklearn.linear_model import LogisticRegressionCV\n",
        "model_cv = LogisticRegressionCV(Cs=10)\n",
        "model_cv.fit(X_train, y_train)"
      ]
    },
    {
      "cell_type": "code",
      "execution_count": null,
      "metadata": {
        "id": "K_lgGQ3TCJWy"
      },
      "outputs": [],
      "source": [
        "from sklearn.model_selection import cross_val_score\n",
        "model = LogisticRegression(C=10)\n",
        "scores = cross_val_score(model, X_train, y_train, cv=4)\n",
        "scores"
      ]
    },
    {
      "cell_type": "code",
      "execution_count": null,
      "metadata": {
        "id": "avowel1NCJWy"
      },
      "outputs": [],
      "source": [
        "pd.options.display.max_rows = PREVIOUS_MAX_ROWS"
      ]
    },
    {
      "cell_type": "markdown",
      "source": [
        "#Kết thúc\n"
      ],
      "metadata": {
        "id": "kDMfVvD5EOfW"
      }
    }
  ],
  "metadata": {
    "kernelspec": {
      "display_name": "Python 3",
      "language": "python",
      "name": "python3"
    },
    "language_info": {
      "codemirror_mode": {
        "name": "ipython",
        "version": 3
      },
      "file_extension": ".py",
      "mimetype": "text/x-python",
      "name": "python",
      "nbconvert_exporter": "python",
      "pygments_lexer": "ipython3",
      "version": "3.7.6"
    },
    "colab": {
      "provenance": []
    }
  },
  "nbformat": 4,
  "nbformat_minor": 0
}