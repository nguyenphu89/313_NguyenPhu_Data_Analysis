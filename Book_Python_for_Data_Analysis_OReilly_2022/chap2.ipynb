{
  "nbformat": 4,
  "nbformat_minor": 0,
  "metadata": {
    "colab": {
      "provenance": []
    },
    "kernelspec": {
      "name": "python3",
      "display_name": "Python 3"
    },
    "language_info": {
      "name": "python"
    }
  },
  "cells": [
    {
      "cell_type": "markdown",
      "source": [
        "#Python for Data Analysis\n",
        "##Data Wrangling with pandas, NumPy & Jupyter"
      ],
      "metadata": {
        "id": "g5iEuX39eycY"
      }
    },
    {
      "cell_type": "markdown",
      "source": [
        "##CHAPTER 1 : Preliminaries"
      ],
      "metadata": {
        "id": "_x9GgJxTfavu"
      }
    },
    {
      "cell_type": "markdown",
      "source": [
        "###Navigating This Book"
      ],
      "metadata": {
        "id": "iQaoW1ePf74k"
      }
    },
    {
      "cell_type": "code",
      "execution_count": 1,
      "metadata": {
        "id": "gJj2FTvLdsbZ"
      },
      "outputs": [],
      "source": [
        "import numpy as np\n",
        "import pandas as pd\n",
        "import matplotlib.pyplot as plt\n",
        "plt.rc('figure', figsize=(10, 6))\n",
        "PREVIOUS_MAX_ROWS = pd.options.display.max_rows\n",
        "pd.options.display.max_columns = 20\n",
        "pd.options.display.max_rows = 20\n",
        "pd.options.display.max_colwidth = 80\n",
        "np.set_printoptions(precision=4, suppress=True)"
      ]
    },
    {
      "cell_type": "markdown",
      "source": [
        "##Chapter 2 : Python Language Basics, IPython, and Jupyter Notebooks"
      ],
      "metadata": {
        "id": "8M5AwXNDC_ug"
      }
    },
    {
      "cell_type": "markdown",
      "source": [
        "###IPython Basics\n"
      ],
      "metadata": {
        "id": "6Zd6QvUIDHkj"
      }
    },
    {
      "cell_type": "code",
      "source": [
        "\n",
        "import numpy as np\n",
        "np.random.seed(12345)\n",
        "np.set_printoptions(precision=4, suppress=True)"
      ],
      "metadata": {
        "id": "azWT0fOGCg4u"
      },
      "execution_count": 4,
      "outputs": []
    },
    {
      "cell_type": "code",
      "source": [
        "\n",
        "import numpy as np\n",
        "data = [np.random.standard_normal() for i in range(7)]\n",
        "data"
      ],
      "metadata": {
        "colab": {
          "base_uri": "https://localhost:8080/"
        },
        "id": "uXGCEAxADeuD",
        "outputId": "3f3a514b-f347-470d-8d83-28d56e63955d"
      },
      "execution_count": 5,
      "outputs": [
        {
          "output_type": "execute_result",
          "data": {
            "text/plain": [
              "[-0.20470765948471295,\n",
              " 0.47894333805754824,\n",
              " -0.5194387150567381,\n",
              " -0.55573030434749,\n",
              " 1.9657805725027142,\n",
              " 1.3934058329729904,\n",
              " 0.09290787674371767]"
            ]
          },
          "metadata": {},
          "execution_count": 5
        }
      ]
    },
    {
      "cell_type": "code",
      "source": [
        "a = [1, 2, 3]"
      ],
      "metadata": {
        "id": "GqpMlb2YDtLZ"
      },
      "execution_count": 6,
      "outputs": []
    },
    {
      "cell_type": "code",
      "source": [
        "\n",
        "b = a\n",
        "b"
      ],
      "metadata": {
        "colab": {
          "base_uri": "https://localhost:8080/"
        },
        "id": "5IWO7f31DuTU",
        "outputId": "37af3f54-995d-4d98-964c-633b9d179bfc"
      },
      "execution_count": 7,
      "outputs": [
        {
          "output_type": "execute_result",
          "data": {
            "text/plain": [
              "[1, 2, 3]"
            ]
          },
          "metadata": {},
          "execution_count": 7
        }
      ]
    },
    {
      "cell_type": "code",
      "source": [
        "\n",
        "a.append(4)\n",
        "b"
      ],
      "metadata": {
        "colab": {
          "base_uri": "https://localhost:8080/"
        },
        "id": "hfBC1Us8Dvaq",
        "outputId": "883aef55-3d5a-4227-a6a0-a6ac1b386b5e"
      },
      "execution_count": 8,
      "outputs": [
        {
          "output_type": "execute_result",
          "data": {
            "text/plain": [
              "[1, 2, 3, 4]"
            ]
          },
          "metadata": {},
          "execution_count": 8
        }
      ]
    },
    {
      "cell_type": "markdown",
      "source": [
        "###Python Language Basics"
      ],
      "metadata": {
        "id": "GZd1SBwwE7k0"
      }
    },
    {
      "cell_type": "code",
      "source": [
        "\n",
        "def append_element(some_list, element):\n",
        "    some_list.append(element)"
      ],
      "metadata": {
        "id": "GR83qAuIEhvl"
      },
      "execution_count": 9,
      "outputs": []
    },
    {
      "cell_type": "code",
      "source": [
        "data = [1, 2, 3]\n",
        "append_element(data, 4)\n",
        "data"
      ],
      "metadata": {
        "colab": {
          "base_uri": "https://localhost:8080/"
        },
        "id": "BLGYcQJSEhst",
        "outputId": "a9014ec8-3d01-482d-e99a-e05a968eef4c"
      },
      "execution_count": 10,
      "outputs": [
        {
          "output_type": "execute_result",
          "data": {
            "text/plain": [
              "[1, 2, 3, 4]"
            ]
          },
          "metadata": {},
          "execution_count": 10
        }
      ]
    },
    {
      "cell_type": "code",
      "source": [
        "\n",
        "a = 5\n",
        "type(a)\n",
        "a = \"foo\"\n",
        "type(a)"
      ],
      "metadata": {
        "colab": {
          "base_uri": "https://localhost:8080/"
        },
        "id": "grqXMhINEhqQ",
        "outputId": "71a82e06-2c0b-4012-81ea-4f95ed0823c7"
      },
      "execution_count": 11,
      "outputs": [
        {
          "output_type": "execute_result",
          "data": {
            "text/plain": [
              "str"
            ]
          },
          "metadata": {},
          "execution_count": 11
        }
      ]
    },
    {
      "cell_type": "code",
      "source": [
        "\n",
        "\"5\" + 5"
      ],
      "metadata": {
        "id": "YPbAl3uOEhit"
      },
      "execution_count": null,
      "outputs": []
    },
    {
      "cell_type": "code",
      "source": [
        "a = 4.5\n",
        "b = 2\n",
        "# String formatting, to be visited later\n",
        "print(f\"a is {type(a)}, b is {type(b)}\")\n",
        "a / b"
      ],
      "metadata": {
        "colab": {
          "base_uri": "https://localhost:8080/"
        },
        "id": "fksm6X6eEhgN",
        "outputId": "c8b658e1-67ed-4304-d7f4-d1192d146bf7"
      },
      "execution_count": 13,
      "outputs": [
        {
          "output_type": "stream",
          "name": "stdout",
          "text": [
            "a is <class 'float'>, b is <class 'int'>\n"
          ]
        },
        {
          "output_type": "execute_result",
          "data": {
            "text/plain": [
              "2.25"
            ]
          },
          "metadata": {},
          "execution_count": 13
        }
      ]
    },
    {
      "cell_type": "code",
      "source": [
        "a = 5\n",
        "isinstance(a, int)"
      ],
      "metadata": {
        "colab": {
          "base_uri": "https://localhost:8080/"
        },
        "id": "Ps-qI0UPEhdI",
        "outputId": "7f65a960-72a7-44a3-e9c8-f48f72c553b8"
      },
      "execution_count": 14,
      "outputs": [
        {
          "output_type": "execute_result",
          "data": {
            "text/plain": [
              "True"
            ]
          },
          "metadata": {},
          "execution_count": 14
        }
      ]
    },
    {
      "cell_type": "code",
      "source": [
        "a = 5; b = 4.5\n",
        "isinstance(a, (int, float))\n",
        "isinstance(b, (int, float))"
      ],
      "metadata": {
        "colab": {
          "base_uri": "https://localhost:8080/"
        },
        "id": "W-8Qm1iOEhYk",
        "outputId": "d6b53f1c-74fd-435a-9e7f-a6ee42b3a552"
      },
      "execution_count": 15,
      "outputs": [
        {
          "output_type": "execute_result",
          "data": {
            "text/plain": [
              "True"
            ]
          },
          "metadata": {},
          "execution_count": 15
        }
      ]
    },
    {
      "cell_type": "code",
      "source": [
        "a = \"foo\""
      ],
      "metadata": {
        "id": "Fcd9WufbEhWG"
      },
      "execution_count": 17,
      "outputs": []
    },
    {
      "cell_type": "code",
      "source": [
        "getattr(a, \"split\")"
      ],
      "metadata": {
        "colab": {
          "base_uri": "https://localhost:8080/"
        },
        "id": "0tFOL3pREhT0",
        "outputId": "73ce45bc-5df6-4c8a-fbbf-5d2db5a7f96d"
      },
      "execution_count": 18,
      "outputs": [
        {
          "output_type": "execute_result",
          "data": {
            "text/plain": [
              "<function str.split(sep=None, maxsplit=-1)>"
            ]
          },
          "metadata": {},
          "execution_count": 18
        }
      ]
    },
    {
      "cell_type": "markdown",
      "source": [
        "####Duck typing"
      ],
      "metadata": {
        "id": "KV7X6v_VGrv5"
      }
    },
    {
      "cell_type": "code",
      "source": [
        "def isiterable(obj):\n",
        "    try:\n",
        "        iter(obj)\n",
        "        return True\n",
        "    except TypeError: # not iterable\n",
        "        return False"
      ],
      "metadata": {
        "id": "PMbqH3RnEhRE"
      },
      "execution_count": 19,
      "outputs": []
    },
    {
      "cell_type": "code",
      "source": [
        "isiterable(\"a string\")\n",
        "isiterable([1, 2, 3])\n",
        "isiterable(5)"
      ],
      "metadata": {
        "colab": {
          "base_uri": "https://localhost:8080/"
        },
        "id": "4rDY0MZvEhOM",
        "outputId": "c870b21f-78eb-4980-ee24-e41a34269fc3"
      },
      "execution_count": 20,
      "outputs": [
        {
          "output_type": "execute_result",
          "data": {
            "text/plain": [
              "False"
            ]
          },
          "metadata": {},
          "execution_count": 20
        }
      ]
    },
    {
      "cell_type": "code",
      "source": [
        "\n",
        "5 - 7\n",
        "12 + 21.5\n",
        "5 <= 2"
      ],
      "metadata": {
        "colab": {
          "base_uri": "https://localhost:8080/"
        },
        "id": "w-iUiYwaEhHQ",
        "outputId": "eb723a2a-e40f-4496-b01b-e11e5680f3cb"
      },
      "execution_count": 21,
      "outputs": [
        {
          "output_type": "execute_result",
          "data": {
            "text/plain": [
              "False"
            ]
          },
          "metadata": {},
          "execution_count": 21
        }
      ]
    },
    {
      "cell_type": "code",
      "source": [
        "a = [1, 2, 3]\n",
        "b = a\n",
        "c = list(a)\n",
        "a is b\n",
        "a is not c"
      ],
      "metadata": {
        "colab": {
          "base_uri": "https://localhost:8080/"
        },
        "id": "H6u5FIMXG8Pi",
        "outputId": "0c9296b9-fe37-420d-f11f-1c410718e4ca"
      },
      "execution_count": 22,
      "outputs": [
        {
          "output_type": "execute_result",
          "data": {
            "text/plain": [
              "True"
            ]
          },
          "metadata": {},
          "execution_count": 22
        }
      ]
    },
    {
      "cell_type": "markdown",
      "source": [
        "####Binary operators and comparisons"
      ],
      "metadata": {
        "id": "cruT_6-lHgAO"
      }
    },
    {
      "cell_type": "code",
      "source": [
        "a == c"
      ],
      "metadata": {
        "colab": {
          "base_uri": "https://localhost:8080/"
        },
        "id": "_7TtqaVsG8LT",
        "outputId": "dfd3c02a-284d-4ba7-8630-fb0a3de042ec"
      },
      "execution_count": 23,
      "outputs": [
        {
          "output_type": "execute_result",
          "data": {
            "text/plain": [
              "True"
            ]
          },
          "metadata": {},
          "execution_count": 23
        }
      ]
    },
    {
      "cell_type": "code",
      "source": [
        "a = None\n",
        "a is None"
      ],
      "metadata": {
        "colab": {
          "base_uri": "https://localhost:8080/"
        },
        "id": "R-dXCYlcG8Ih",
        "outputId": "4d7b0162-862b-453b-9de3-2e94f2022276"
      },
      "execution_count": 24,
      "outputs": [
        {
          "output_type": "execute_result",
          "data": {
            "text/plain": [
              "True"
            ]
          },
          "metadata": {},
          "execution_count": 24
        }
      ]
    },
    {
      "cell_type": "code",
      "source": [
        "a_list = [\"foo\", 2, [4, 5]]\n",
        "a_list[2] = (3, 4)\n",
        "a_list"
      ],
      "metadata": {
        "colab": {
          "base_uri": "https://localhost:8080/"
        },
        "id": "uM2zOYXYG8EZ",
        "outputId": "6506f37a-e5de-49af-d886-ef456d56e3f1"
      },
      "execution_count": 25,
      "outputs": [
        {
          "output_type": "execute_result",
          "data": {
            "text/plain": [
              "['foo', 2, (3, 4)]"
            ]
          },
          "metadata": {},
          "execution_count": 25
        }
      ]
    },
    {
      "cell_type": "code",
      "source": [
        "ival = 17239871\n",
        "ival ** 6"
      ],
      "metadata": {
        "colab": {
          "base_uri": "https://localhost:8080/"
        },
        "id": "GkJ6_RSXG7-k",
        "outputId": "9b24eacb-1eca-467b-b42f-e7e34aec06f4"
      },
      "execution_count": 28,
      "outputs": [
        {
          "output_type": "execute_result",
          "data": {
            "text/plain": [
              "26254519291092456596965462913230729701102721"
            ]
          },
          "metadata": {},
          "execution_count": 28
        }
      ]
    },
    {
      "cell_type": "code",
      "source": [
        "fval = 7.243\n",
        "fval2 = 6.78e-5"
      ],
      "metadata": {
        "id": "WxVs3Cq8G76K"
      },
      "execution_count": 29,
      "outputs": []
    },
    {
      "cell_type": "markdown",
      "source": [
        "####Scalar Types"
      ],
      "metadata": {
        "id": "bXRjFKRTHr6K"
      }
    },
    {
      "cell_type": "code",
      "source": [
        "\n",
        "3 / 2"
      ],
      "metadata": {
        "colab": {
          "base_uri": "https://localhost:8080/"
        },
        "id": "KbvGgUyoG73C",
        "outputId": "198d8ad1-591f-478e-e316-a37eb9aae3aa"
      },
      "execution_count": 30,
      "outputs": [
        {
          "output_type": "execute_result",
          "data": {
            "text/plain": [
              "1.5"
            ]
          },
          "metadata": {},
          "execution_count": 30
        }
      ]
    },
    {
      "cell_type": "code",
      "source": [
        "\n",
        "3 // 2"
      ],
      "metadata": {
        "colab": {
          "base_uri": "https://localhost:8080/"
        },
        "id": "Q5UdYTl4G70H",
        "outputId": "115ded8d-4578-4d11-b85d-90b2bfc3635d"
      },
      "execution_count": 31,
      "outputs": [
        {
          "output_type": "execute_result",
          "data": {
            "text/plain": [
              "1"
            ]
          },
          "metadata": {},
          "execution_count": 31
        }
      ]
    },
    {
      "cell_type": "code",
      "source": [
        "c = \"\"\"\n",
        "This is a longer string that\n",
        "spans multiple lines\n",
        "\"\"\""
      ],
      "metadata": {
        "id": "RJ18QZHjG7xR"
      },
      "execution_count": 32,
      "outputs": []
    },
    {
      "cell_type": "code",
      "source": [
        "\n",
        "c.count(\"\\n\")"
      ],
      "metadata": {
        "colab": {
          "base_uri": "https://localhost:8080/"
        },
        "id": "-wq_CS1ZG7uD",
        "outputId": "7a57f395-c0b1-45bf-e0de-5793981a50b7"
      },
      "execution_count": 33,
      "outputs": [
        {
          "output_type": "execute_result",
          "data": {
            "text/plain": [
              "3"
            ]
          },
          "metadata": {},
          "execution_count": 33
        }
      ]
    },
    {
      "cell_type": "code",
      "source": [
        "b = a.replace(\"string\", \"longer string\")\n",
        "b"
      ],
      "metadata": {
        "colab": {
          "base_uri": "https://localhost:8080/",
          "height": 36
        },
        "id": "9E5i8JyaHbqs",
        "outputId": "7eaa1248-43aa-49a5-ad15-8c4c27f12285"
      },
      "execution_count": 35,
      "outputs": [
        {
          "output_type": "execute_result",
          "data": {
            "text/plain": [
              "'this is a longer string'"
            ],
            "application/vnd.google.colaboratory.intrinsic+json": {
              "type": "string"
            }
          },
          "metadata": {},
          "execution_count": 35
        }
      ]
    },
    {
      "cell_type": "code",
      "source": [
        "a"
      ],
      "metadata": {
        "colab": {
          "base_uri": "https://localhost:8080/",
          "height": 36
        },
        "id": "aHJZsRDxHboM",
        "outputId": "21187665-4edb-4e7e-b546-92c4e3469d87"
      },
      "execution_count": 36,
      "outputs": [
        {
          "output_type": "execute_result",
          "data": {
            "text/plain": [
              "'this is a string'"
            ],
            "application/vnd.google.colaboratory.intrinsic+json": {
              "type": "string"
            }
          },
          "metadata": {},
          "execution_count": 36
        }
      ]
    },
    {
      "cell_type": "code",
      "source": [
        "a = 5.6"
      ],
      "metadata": {
        "id": "zDSfDnDPHblp"
      },
      "execution_count": 37,
      "outputs": []
    },
    {
      "cell_type": "code",
      "source": [
        "s = str(a)"
      ],
      "metadata": {
        "id": "YjhNV9O6HbjP"
      },
      "execution_count": 38,
      "outputs": []
    },
    {
      "cell_type": "code",
      "source": [
        "print(s)"
      ],
      "metadata": {
        "colab": {
          "base_uri": "https://localhost:8080/"
        },
        "id": "141KTuG-HbgR",
        "outputId": "e76cfa0a-3a3d-4930-f4d8-1d501595cc30"
      },
      "execution_count": 39,
      "outputs": [
        {
          "output_type": "stream",
          "name": "stdout",
          "text": [
            "5.6\n"
          ]
        }
      ]
    },
    {
      "cell_type": "code",
      "source": [
        "s = \"python\"\n",
        "list(s)\n",
        "s[:3]"
      ],
      "metadata": {
        "colab": {
          "base_uri": "https://localhost:8080/",
          "height": 36
        },
        "id": "pMOGp8QOIKDJ",
        "outputId": "749c9b90-7e57-48ec-d35c-6091e16f0e9b"
      },
      "execution_count": 40,
      "outputs": [
        {
          "output_type": "execute_result",
          "data": {
            "text/plain": [
              "'pyt'"
            ],
            "application/vnd.google.colaboratory.intrinsic+json": {
              "type": "string"
            }
          },
          "metadata": {},
          "execution_count": 40
        }
      ]
    },
    {
      "cell_type": "code",
      "source": [
        "s = \"12\\\\34\"\n",
        "print(s)"
      ],
      "metadata": {
        "colab": {
          "base_uri": "https://localhost:8080/"
        },
        "id": "pPhEXc_MIKAG",
        "outputId": "1fc1a288-867b-4512-d9a8-ec3918da410b"
      },
      "execution_count": 41,
      "outputs": [
        {
          "output_type": "stream",
          "name": "stdout",
          "text": [
            "12\\34\n"
          ]
        }
      ]
    },
    {
      "cell_type": "code",
      "source": [
        "s = r\"this\\has\\no\\special\\characters\"\n",
        "s"
      ],
      "metadata": {
        "colab": {
          "base_uri": "https://localhost:8080/",
          "height": 36
        },
        "id": "3y1nE9RFIJ9l",
        "outputId": "ca0b7c6f-8228-4331-dd16-f4f3d81f8af1"
      },
      "execution_count": 42,
      "outputs": [
        {
          "output_type": "execute_result",
          "data": {
            "text/plain": [
              "'this\\\\has\\\\no\\\\special\\\\characters'"
            ],
            "application/vnd.google.colaboratory.intrinsic+json": {
              "type": "string"
            }
          },
          "metadata": {},
          "execution_count": 42
        }
      ]
    },
    {
      "cell_type": "code",
      "source": [
        "a = \"this is the first half \"\n",
        "b = \"and this is the second half\"\n",
        "a + b"
      ],
      "metadata": {
        "colab": {
          "base_uri": "https://localhost:8080/",
          "height": 36
        },
        "id": "PLHGlOYJIJ6w",
        "outputId": "d05d8c65-b8ea-4201-be6a-0d5882b8c415"
      },
      "execution_count": 43,
      "outputs": [
        {
          "output_type": "execute_result",
          "data": {
            "text/plain": [
              "'this is the first half and this is the second half'"
            ],
            "application/vnd.google.colaboratory.intrinsic+json": {
              "type": "string"
            }
          },
          "metadata": {},
          "execution_count": 43
        }
      ]
    },
    {
      "cell_type": "code",
      "source": [
        "template = \"{0:.2f} {1:s} are worth US${2:d}\""
      ],
      "metadata": {
        "id": "Y55GpxWLIJ31"
      },
      "execution_count": 44,
      "outputs": []
    },
    {
      "cell_type": "code",
      "source": [
        "template.format(88.46, \"Argentine Pesos\", 1)"
      ],
      "metadata": {
        "colab": {
          "base_uri": "https://localhost:8080/",
          "height": 36
        },
        "id": "XF6BKCREIJ1A",
        "outputId": "2cc03693-c561-47fa-8bcc-595db6fbc44a"
      },
      "execution_count": 45,
      "outputs": [
        {
          "output_type": "execute_result",
          "data": {
            "text/plain": [
              "'88.46 Argentine Pesos are worth US$1'"
            ],
            "application/vnd.google.colaboratory.intrinsic+json": {
              "type": "string"
            }
          },
          "metadata": {},
          "execution_count": 45
        }
      ]
    },
    {
      "cell_type": "code",
      "source": [
        "amount = 10\n",
        "rate = 88.46\n",
        "currency = \"Pesos\"\n",
        "result = f\"{amount} {currency} is worth US${amount / rate}\""
      ],
      "metadata": {
        "id": "4PZ5FzzMIJwn"
      },
      "execution_count": 46,
      "outputs": []
    },
    {
      "cell_type": "code",
      "source": [
        "f\"{amount} {currency} is worth US${amount / rate:.2f}\""
      ],
      "metadata": {
        "colab": {
          "base_uri": "https://localhost:8080/",
          "height": 36
        },
        "id": "rFtkH1hiIJt6",
        "outputId": "e8d9db94-ee25-401e-f75d-fc9313d05055"
      },
      "execution_count": 47,
      "outputs": [
        {
          "output_type": "execute_result",
          "data": {
            "text/plain": [
              "'10 Pesos is worth US$0.11'"
            ],
            "application/vnd.google.colaboratory.intrinsic+json": {
              "type": "string"
            }
          },
          "metadata": {},
          "execution_count": 47
        }
      ]
    },
    {
      "cell_type": "markdown",
      "source": [
        "####Bytes and Unicode"
      ],
      "metadata": {
        "id": "m3x21pYxIgb2"
      }
    },
    {
      "cell_type": "code",
      "source": [
        "val = \"español\"\n",
        "val"
      ],
      "metadata": {
        "colab": {
          "base_uri": "https://localhost:8080/",
          "height": 36
        },
        "id": "e81K4h1qIJrC",
        "outputId": "6ba473b3-606d-40a1-ae7d-fcb0ac84a034"
      },
      "execution_count": 48,
      "outputs": [
        {
          "output_type": "execute_result",
          "data": {
            "text/plain": [
              "'español'"
            ],
            "application/vnd.google.colaboratory.intrinsic+json": {
              "type": "string"
            }
          },
          "metadata": {},
          "execution_count": 48
        }
      ]
    },
    {
      "cell_type": "code",
      "source": [
        "val_utf8 = val.encode(\"utf-8\")\n",
        "val_utf8\n",
        "type(val_utf8)"
      ],
      "metadata": {
        "colab": {
          "base_uri": "https://localhost:8080/"
        },
        "id": "gmocD_75Hbd7",
        "outputId": "ec4a3cc8-c3ed-4e95-de96-bce4667bbc3b"
      },
      "execution_count": 49,
      "outputs": [
        {
          "output_type": "execute_result",
          "data": {
            "text/plain": [
              "bytes"
            ]
          },
          "metadata": {},
          "execution_count": 49
        }
      ]
    },
    {
      "cell_type": "code",
      "source": [
        "val_utf8.decode(\"utf-8\")"
      ],
      "metadata": {
        "colab": {
          "base_uri": "https://localhost:8080/",
          "height": 36
        },
        "id": "Jegb-zN9Hbak",
        "outputId": "5c75191a-83b2-4ec1-b4c1-625b0af76ba8"
      },
      "execution_count": 50,
      "outputs": [
        {
          "output_type": "execute_result",
          "data": {
            "text/plain": [
              "'español'"
            ],
            "application/vnd.google.colaboratory.intrinsic+json": {
              "type": "string"
            }
          },
          "metadata": {},
          "execution_count": 50
        }
      ]
    },
    {
      "cell_type": "code",
      "source": [
        "val.encode(\"latin1\")\n",
        "val.encode(\"utf-16\")\n",
        "val.encode(\"utf-16le\")"
      ],
      "metadata": {
        "colab": {
          "base_uri": "https://localhost:8080/"
        },
        "id": "s0ea4V1fHbXW",
        "outputId": "a8919c52-c3d8-4a6b-ca80-0d3cb4dd7539"
      },
      "execution_count": 51,
      "outputs": [
        {
          "output_type": "execute_result",
          "data": {
            "text/plain": [
              "b'e\\x00s\\x00p\\x00a\\x00\\xf1\\x00o\\x00l\\x00'"
            ]
          },
          "metadata": {},
          "execution_count": 51
        }
      ]
    },
    {
      "cell_type": "markdown",
      "source": [
        "####Booleans"
      ],
      "metadata": {
        "id": "UbZl_NIQJR9r"
      }
    },
    {
      "cell_type": "code",
      "source": [
        "True and True\n",
        "False or True"
      ],
      "metadata": {
        "colab": {
          "base_uri": "https://localhost:8080/"
        },
        "id": "0ylTMtbxG7qP",
        "outputId": "3087b7d0-a7d9-46d4-d63f-20b390d84c27"
      },
      "execution_count": 52,
      "outputs": [
        {
          "output_type": "execute_result",
          "data": {
            "text/plain": [
              "True"
            ]
          },
          "metadata": {},
          "execution_count": 52
        }
      ]
    },
    {
      "cell_type": "code",
      "source": [
        "int(False)\n",
        "int(True)"
      ],
      "metadata": {
        "colab": {
          "base_uri": "https://localhost:8080/"
        },
        "id": "Ub5knI32JKlf",
        "outputId": "d1b52bfe-de27-4559-db6e-997ecead5d34"
      },
      "execution_count": 53,
      "outputs": [
        {
          "output_type": "execute_result",
          "data": {
            "text/plain": [
              "1"
            ]
          },
          "metadata": {},
          "execution_count": 53
        }
      ]
    },
    {
      "cell_type": "code",
      "source": [
        "\n",
        "a = True\n",
        "b = False\n",
        "not a\n",
        "not b"
      ],
      "metadata": {
        "colab": {
          "base_uri": "https://localhost:8080/"
        },
        "id": "qmbvovfkJKjS",
        "outputId": "08e2947f-e5b6-4b83-d237-704665f57e32"
      },
      "execution_count": 54,
      "outputs": [
        {
          "output_type": "execute_result",
          "data": {
            "text/plain": [
              "True"
            ]
          },
          "metadata": {},
          "execution_count": 54
        }
      ]
    },
    {
      "cell_type": "markdown",
      "source": [
        "####Type casting\n"
      ],
      "metadata": {
        "id": "VhbnSJ9yJzDT"
      }
    },
    {
      "cell_type": "code",
      "source": [
        "s = \"3.14159\"\n",
        "fval = float(s)\n",
        "type(fval)\n",
        "int(fval)\n",
        "bool(fval)\n",
        "bool(0)"
      ],
      "metadata": {
        "colab": {
          "base_uri": "https://localhost:8080/"
        },
        "id": "Zkr-a1M5JKgy",
        "outputId": "bbedd8c0-3623-4f88-f3c7-ed16dc9cb148"
      },
      "execution_count": 55,
      "outputs": [
        {
          "output_type": "execute_result",
          "data": {
            "text/plain": [
              "False"
            ]
          },
          "metadata": {},
          "execution_count": 55
        }
      ]
    },
    {
      "cell_type": "markdown",
      "source": [
        "####None"
      ],
      "metadata": {
        "id": "ILtgTaggJ12E"
      }
    },
    {
      "cell_type": "code",
      "source": [
        "a = None\n",
        "a is None\n",
        "b = 5\n",
        "b is not None"
      ],
      "metadata": {
        "colab": {
          "base_uri": "https://localhost:8080/"
        },
        "id": "ScWWCB2BJKfJ",
        "outputId": "437b1608-a503-4345-a897-a8f09bbeb78c"
      },
      "execution_count": 56,
      "outputs": [
        {
          "output_type": "execute_result",
          "data": {
            "text/plain": [
              "True"
            ]
          },
          "metadata": {},
          "execution_count": 56
        }
      ]
    },
    {
      "cell_type": "markdown",
      "source": [
        "####Dates and times"
      ],
      "metadata": {
        "id": "3x8D6lA-J4Q5"
      }
    },
    {
      "cell_type": "code",
      "source": [
        "from datetime import datetime, date, time\n",
        "dt = datetime(2011, 10, 29, 20, 30, 21)\n",
        "dt.day\n",
        "dt.minute"
      ],
      "metadata": {
        "colab": {
          "base_uri": "https://localhost:8080/"
        },
        "id": "0Lfk0bAIJKdA",
        "outputId": "b441c967-b5ac-49f2-9ecf-a603516153d9"
      },
      "execution_count": 57,
      "outputs": [
        {
          "output_type": "execute_result",
          "data": {
            "text/plain": [
              "30"
            ]
          },
          "metadata": {},
          "execution_count": 57
        }
      ]
    },
    {
      "cell_type": "code",
      "source": [
        "dt.date()\n",
        "dt.time()"
      ],
      "metadata": {
        "colab": {
          "base_uri": "https://localhost:8080/"
        },
        "id": "JPQ4mjPEJKaw",
        "outputId": "693cf55b-07d9-48ef-c638-654fcddf1fa1"
      },
      "execution_count": 58,
      "outputs": [
        {
          "output_type": "execute_result",
          "data": {
            "text/plain": [
              "datetime.time(20, 30, 21)"
            ]
          },
          "metadata": {},
          "execution_count": 58
        }
      ]
    },
    {
      "cell_type": "code",
      "source": [
        "dt.strftime(\"%Y-%m-%d %H:%M\")"
      ],
      "metadata": {
        "colab": {
          "base_uri": "https://localhost:8080/",
          "height": 36
        },
        "id": "mR_rKO2bJKYP",
        "outputId": "63a430bf-fc0f-40e6-e0fd-8b05dfade585"
      },
      "execution_count": 59,
      "outputs": [
        {
          "output_type": "execute_result",
          "data": {
            "text/plain": [
              "'2011-10-29 20:30'"
            ],
            "application/vnd.google.colaboratory.intrinsic+json": {
              "type": "string"
            }
          },
          "metadata": {},
          "execution_count": 59
        }
      ]
    },
    {
      "cell_type": "code",
      "source": [
        "\n",
        "datetime.strptime(\"20091031\", \"%Y%m%d\")"
      ],
      "metadata": {
        "colab": {
          "base_uri": "https://localhost:8080/"
        },
        "id": "l1uUtAiaJKVe",
        "outputId": "e206d70b-7735-4157-ac27-26ef90e8d88a"
      },
      "execution_count": 60,
      "outputs": [
        {
          "output_type": "execute_result",
          "data": {
            "text/plain": [
              "datetime.datetime(2009, 10, 31, 0, 0)"
            ]
          },
          "metadata": {},
          "execution_count": 60
        }
      ]
    },
    {
      "cell_type": "code",
      "source": [
        "dt_hour = dt.replace(minute=0, second=0)\n",
        "dt_hour"
      ],
      "metadata": {
        "colab": {
          "base_uri": "https://localhost:8080/"
        },
        "id": "a-SlfecxJKR6",
        "outputId": "b6c15ef2-9de9-4fb2-d93f-79142b9fdce9"
      },
      "execution_count": 61,
      "outputs": [
        {
          "output_type": "execute_result",
          "data": {
            "text/plain": [
              "datetime.datetime(2011, 10, 29, 20, 0)"
            ]
          },
          "metadata": {},
          "execution_count": 61
        }
      ]
    },
    {
      "cell_type": "code",
      "source": [
        "\n",
        "dt"
      ],
      "metadata": {
        "colab": {
          "base_uri": "https://localhost:8080/"
        },
        "id": "qdxLDk88JKPa",
        "outputId": "f39a3be3-f133-4d19-c4ec-b5c1990385e8"
      },
      "execution_count": 62,
      "outputs": [
        {
          "output_type": "execute_result",
          "data": {
            "text/plain": [
              "datetime.datetime(2011, 10, 29, 20, 30, 21)"
            ]
          },
          "metadata": {},
          "execution_count": 62
        }
      ]
    },
    {
      "cell_type": "code",
      "source": [
        "dt2 = datetime(2011, 11, 15, 22, 30)\n",
        "delta = dt2 - dt\n",
        "delta\n",
        "type(delta)"
      ],
      "metadata": {
        "colab": {
          "base_uri": "https://localhost:8080/"
        },
        "id": "BJq2etTRJKMj",
        "outputId": "f3b8a362-e4f8-4d9d-c188-07b5c23a52a7"
      },
      "execution_count": 63,
      "outputs": [
        {
          "output_type": "execute_result",
          "data": {
            "text/plain": [
              "datetime.timedelta"
            ]
          },
          "metadata": {},
          "execution_count": 63
        }
      ]
    },
    {
      "cell_type": "code",
      "source": [
        "dt\n",
        "dt + delta"
      ],
      "metadata": {
        "colab": {
          "base_uri": "https://localhost:8080/"
        },
        "id": "HUjWCPDlJizw",
        "outputId": "95a6ae04-ceb9-4efc-89d1-87d641c82800"
      },
      "execution_count": 64,
      "outputs": [
        {
          "output_type": "execute_result",
          "data": {
            "text/plain": [
              "datetime.datetime(2011, 11, 15, 22, 30)"
            ]
          },
          "metadata": {},
          "execution_count": 64
        }
      ]
    },
    {
      "cell_type": "markdown",
      "source": [
        "###Control Flow"
      ],
      "metadata": {
        "id": "46GXB0zqJ8mc"
      }
    },
    {
      "cell_type": "code",
      "source": [
        "a = 5; b = 7\n",
        "c = 8; d = 4\n",
        "if a < b or c > d:\n",
        "    print(\"Made it\")"
      ],
      "metadata": {
        "colab": {
          "base_uri": "https://localhost:8080/"
        },
        "id": "VChKeDcwJKKK",
        "outputId": "8ac33084-a971-4c15-928c-86b33e1182e5"
      },
      "execution_count": 65,
      "outputs": [
        {
          "output_type": "stream",
          "name": "stdout",
          "text": [
            "Made it\n"
          ]
        }
      ]
    },
    {
      "cell_type": "code",
      "source": [
        "\n",
        "4 > 3 > 2 > 1"
      ],
      "metadata": {
        "colab": {
          "base_uri": "https://localhost:8080/"
        },
        "id": "z99gu_aQJKHv",
        "outputId": "28d5a46c-df8c-47f4-f231-2151a8e1ee77"
      },
      "execution_count": 67,
      "outputs": [
        {
          "output_type": "execute_result",
          "data": {
            "text/plain": [
              "True"
            ]
          },
          "metadata": {},
          "execution_count": 67
        }
      ]
    },
    {
      "cell_type": "code",
      "source": [
        "x = -5\n",
        "if x < 0:\n",
        "  print(\"It's negative\")"
      ],
      "metadata": {
        "colab": {
          "base_uri": "https://localhost:8080/"
        },
        "id": "ScR52PfBKPQx",
        "outputId": "6db2db23-1fd9-422c-b9f4-8e7d604bcf30"
      },
      "execution_count": 66,
      "outputs": [
        {
          "output_type": "stream",
          "name": "stdout",
          "text": [
            "It's negative\n"
          ]
        }
      ]
    },
    {
      "cell_type": "code",
      "source": [
        "if x < 0:\n",
        "  print(\"It's negative\")\n",
        "elif x == 0:\n",
        "  print(\"Equal to zero\")\n",
        "elif 0 < x < 5:\n",
        "  print(\"Positive but smaller than 5\")\n",
        "else:\n",
        "  print(\"Positive and larger than or equal to 5\")"
      ],
      "metadata": {
        "colab": {
          "base_uri": "https://localhost:8080/"
        },
        "id": "31YXbOwrKJ6W",
        "outputId": "a11b425a-cea3-476b-abc6-5c2dfd2d7f11"
      },
      "execution_count": 68,
      "outputs": [
        {
          "output_type": "stream",
          "name": "stdout",
          "text": [
            "It's negative\n"
          ]
        }
      ]
    },
    {
      "cell_type": "markdown",
      "source": [
        "####for loops"
      ],
      "metadata": {
        "id": "qFTu1W6lKWnD"
      }
    },
    {
      "cell_type": "code",
      "source": [
        "for i in range(4):\n",
        "    for j in range(4):\n",
        "        if j > i:\n",
        "            break\n",
        "        print((i, j))"
      ],
      "metadata": {
        "colab": {
          "base_uri": "https://localhost:8080/"
        },
        "id": "sERef3xNJKE6",
        "outputId": "02236beb-594a-4e79-b64d-09bfca35d8ec"
      },
      "execution_count": 69,
      "outputs": [
        {
          "output_type": "stream",
          "name": "stdout",
          "text": [
            "(0, 0)\n",
            "(1, 0)\n",
            "(1, 1)\n",
            "(2, 0)\n",
            "(2, 1)\n",
            "(2, 2)\n",
            "(3, 0)\n",
            "(3, 1)\n",
            "(3, 2)\n",
            "(3, 3)\n"
          ]
        }
      ]
    },
    {
      "cell_type": "code",
      "source": [
        "range(10)\n",
        "list(range(10))"
      ],
      "metadata": {
        "colab": {
          "base_uri": "https://localhost:8080/"
        },
        "id": "QSIuzmCsJKCa",
        "outputId": "01b4d36a-bf00-452d-f39f-a5db382aaac2"
      },
      "execution_count": 70,
      "outputs": [
        {
          "output_type": "execute_result",
          "data": {
            "text/plain": [
              "[0, 1, 2, 3, 4, 5, 6, 7, 8, 9]"
            ]
          },
          "metadata": {},
          "execution_count": 70
        }
      ]
    },
    {
      "cell_type": "code",
      "source": [
        "list(range(0, 20, 2))\n",
        "list(range(5, 0, -1))"
      ],
      "metadata": {
        "colab": {
          "base_uri": "https://localhost:8080/"
        },
        "id": "6GHrxJlIJJ_5",
        "outputId": "6272b812-fe74-4271-ea3e-9c1f2de624c0"
      },
      "execution_count": 71,
      "outputs": [
        {
          "output_type": "execute_result",
          "data": {
            "text/plain": [
              "[5, 4, 3, 2, 1]"
            ]
          },
          "metadata": {},
          "execution_count": 71
        }
      ]
    },
    {
      "cell_type": "code",
      "source": [
        "seq = [1, 2, 3, 4]\n",
        "for i in range(len(seq)):\n",
        "    print(f\"element {i}: {seq[i]}\")"
      ],
      "metadata": {
        "colab": {
          "base_uri": "https://localhost:8080/"
        },
        "id": "9Q7kHzkGJJ84",
        "outputId": "b6344280-6e07-4c06-cbb6-423196e40d66"
      },
      "execution_count": 72,
      "outputs": [
        {
          "output_type": "stream",
          "name": "stdout",
          "text": [
            "element 0: 1\n",
            "element 1: 2\n",
            "element 2: 3\n",
            "element 3: 4\n"
          ]
        }
      ]
    },
    {
      "cell_type": "code",
      "source": [
        "total = 0\n",
        "for i in range(100_000):\n",
        "    # % is the modulo operator\n",
        "    if i % 3 == 0 or i % 5 == 0:\n",
        "        total += i\n",
        "print(total)"
      ],
      "metadata": {
        "colab": {
          "base_uri": "https://localhost:8080/"
        },
        "id": "PRKGeYXnJJ6T",
        "outputId": "b1f30bd9-e2fb-4eb1-ab53-eb57814b2edf"
      },
      "execution_count": 73,
      "outputs": [
        {
          "output_type": "stream",
          "name": "stdout",
          "text": [
            "2333316668\n"
          ]
        }
      ]
    },
    {
      "cell_type": "markdown",
      "source": [
        "####while loops"
      ],
      "metadata": {
        "id": "QjIltKNYKe3d"
      }
    },
    {
      "cell_type": "code",
      "source": [
        "x = 256\n",
        "total = 0\n",
        "while x > 0:\n",
        "  if total > 500:\n",
        "    break\n",
        "  total += x\n",
        "  x = x // 2"
      ],
      "metadata": {
        "id": "i_mGW-5wKdc8"
      },
      "execution_count": 74,
      "outputs": []
    },
    {
      "cell_type": "code",
      "source": [
        "if x < 0:\n",
        "  print(\"negative!\")\n",
        "elif x == 0:\n",
        "  # TODO: put something smart here\n",
        "  pass\n",
        "else:\n",
        "  print(\"positive!\")"
      ],
      "metadata": {
        "colab": {
          "base_uri": "https://localhost:8080/"
        },
        "id": "ZxHNaPrvKlRU",
        "outputId": "1b0f4ee5-c6b7-4982-909d-eb7252cf359b"
      },
      "execution_count": 75,
      "outputs": [
        {
          "output_type": "stream",
          "name": "stdout",
          "text": [
            "positive!\n"
          ]
        }
      ]
    },
    {
      "cell_type": "markdown",
      "source": [
        "#Kết Thúc"
      ],
      "metadata": {
        "id": "1-Lj3uRAe0eN"
      }
    },
    {
      "cell_type": "code",
      "source": [],
      "metadata": {
        "id": "I1SMdgfuCgaX"
      },
      "execution_count": null,
      "outputs": []
    }
  ]
}