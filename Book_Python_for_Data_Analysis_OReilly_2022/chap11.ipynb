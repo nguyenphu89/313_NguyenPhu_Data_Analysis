{
  "cells": [
    {
      "cell_type": "markdown",
      "source": [
        "#CHAPTER 11: Time Series"
      ],
      "metadata": {
        "id": "A_u2hz5f8jM_"
      }
    },
    {
      "cell_type": "markdown",
      "source": [
        "##11.1 Date and Time Data Types and Tools"
      ],
      "metadata": {
        "id": "xDdnkP1S8t8m"
      }
    },
    {
      "cell_type": "code",
      "execution_count": null,
      "metadata": {
        "id": "E8ly1Dj48gwE"
      },
      "outputs": [],
      "source": [
        "import numpy as np\n",
        "import pandas as pd\n",
        "np.random.seed(12345)\n",
        "import matplotlib.pyplot as plt\n",
        "plt.rc(\"figure\", figsize=(10, 6))\n",
        "PREVIOUS_MAX_ROWS = pd.options.display.max_rows\n",
        "pd.options.display.max_columns = 20\n",
        "pd.options.display.max_rows = 20\n",
        "pd.options.display.max_colwidth = 80\n",
        "np.set_printoptions(precision=4, suppress=True)"
      ]
    },
    {
      "cell_type": "code",
      "execution_count": null,
      "metadata": {
        "id": "QWNxZ21I8gwH"
      },
      "outputs": [],
      "source": [
        "import numpy as np\n",
        "import pandas as pd"
      ]
    },
    {
      "cell_type": "code",
      "execution_count": null,
      "metadata": {
        "id": "NO7QqEZw8gwI"
      },
      "outputs": [],
      "source": [
        "from datetime import datetime\n",
        "now = datetime.now()\n",
        "now\n",
        "now.year, now.month, now.day"
      ]
    },
    {
      "cell_type": "code",
      "execution_count": null,
      "metadata": {
        "id": "p3ijhgbX8gwI"
      },
      "outputs": [],
      "source": [
        "delta = datetime(2011, 1, 7) - datetime(2008, 6, 24, 8, 15)\n",
        "delta\n",
        "delta.days\n",
        "delta.seconds"
      ]
    },
    {
      "cell_type": "code",
      "execution_count": null,
      "metadata": {
        "id": "c2Lp29KB8gwJ"
      },
      "outputs": [],
      "source": [
        "from datetime import timedelta\n",
        "start = datetime(2011, 1, 7)\n",
        "start + timedelta(12)\n",
        "start - 2 * timedelta(12)"
      ]
    },
    {
      "cell_type": "markdown",
      "source": [
        "###Converting Between String and Datetime"
      ],
      "metadata": {
        "id": "WQDZ9Gnn9IeR"
      }
    },
    {
      "cell_type": "code",
      "execution_count": null,
      "metadata": {
        "id": "2kIidVN78gwK"
      },
      "outputs": [],
      "source": [
        "stamp = datetime(2011, 1, 3)\n",
        "str(stamp)\n",
        "stamp.strftime(\"%Y-%m-%d\")"
      ]
    },
    {
      "cell_type": "code",
      "execution_count": null,
      "metadata": {
        "id": "xNB444Pw8gwK"
      },
      "outputs": [],
      "source": [
        "value = \"2011-01-03\"\n",
        "datetime.strptime(value, \"%Y-%m-%d\")\n",
        "datestrs = [\"7/6/2011\", \"8/6/2011\"]\n",
        "[datetime.strptime(x, \"%m/%d/%Y\") for x in datestrs]"
      ]
    },
    {
      "cell_type": "code",
      "execution_count": null,
      "metadata": {
        "id": "GQqVpGlx8gwL"
      },
      "outputs": [],
      "source": [
        "datestrs = [\"2011-07-06 12:00:00\", \"2011-08-06 00:00:00\"]\n",
        "pd.to_datetime(datestrs)"
      ]
    },
    {
      "cell_type": "code",
      "execution_count": null,
      "metadata": {
        "id": "PJcQws2o8gwL"
      },
      "outputs": [],
      "source": [
        "idx = pd.to_datetime(datestrs + [None])\n",
        "idx\n",
        "idx[2]\n",
        "pd.isna(idx)"
      ]
    },
    {
      "cell_type": "markdown",
      "source": [
        "##11.2 Time Series Basics"
      ],
      "metadata": {
        "id": "7SCAw8V69WUp"
      }
    },
    {
      "cell_type": "code",
      "execution_count": null,
      "metadata": {
        "id": "8nWZqzXn8gwM"
      },
      "outputs": [],
      "source": [
        "dates = [datetime(2011, 1, 2), datetime(2011, 1, 5),\n",
        "         datetime(2011, 1, 7), datetime(2011, 1, 8),\n",
        "         datetime(2011, 1, 10), datetime(2011, 1, 12)]\n",
        "ts = pd.Series(np.random.standard_normal(6), index=dates)\n",
        "ts"
      ]
    },
    {
      "cell_type": "code",
      "execution_count": null,
      "metadata": {
        "id": "EOPygbAA8gwN"
      },
      "outputs": [],
      "source": [
        "ts.index"
      ]
    },
    {
      "cell_type": "code",
      "execution_count": null,
      "metadata": {
        "id": "E5ofU5LN8gwN"
      },
      "outputs": [],
      "source": [
        "ts + ts[::2]"
      ]
    },
    {
      "cell_type": "code",
      "execution_count": null,
      "metadata": {
        "id": "nbBNWvco8gwO"
      },
      "outputs": [],
      "source": [
        "ts.index.dtype"
      ]
    },
    {
      "cell_type": "code",
      "execution_count": null,
      "metadata": {
        "id": "2rMiXHvC8gwO"
      },
      "outputs": [],
      "source": [
        "stamp = ts.index[0]\n",
        "stamp"
      ]
    },
    {
      "cell_type": "markdown",
      "source": [
        "###Indexing, Selection, Subsetting"
      ],
      "metadata": {
        "id": "c8iz9K6f9ZkR"
      }
    },
    {
      "cell_type": "code",
      "execution_count": null,
      "metadata": {
        "id": "JP2zSPLR8gwO"
      },
      "outputs": [],
      "source": [
        "stamp = ts.index[2]\n",
        "ts[stamp]"
      ]
    },
    {
      "cell_type": "code",
      "execution_count": null,
      "metadata": {
        "id": "Ai5QaSKR8gwP"
      },
      "outputs": [],
      "source": [
        "ts[\"2011-01-10\"]"
      ]
    },
    {
      "cell_type": "code",
      "execution_count": null,
      "metadata": {
        "id": "b5_qCtlE8gwP"
      },
      "outputs": [],
      "source": [
        "longer_ts = pd.Series(np.random.standard_normal(1000),\n",
        "                      index=pd.date_range(\"2000-01-01\", periods=1000))\n",
        "longer_ts\n",
        "longer_ts[\"2001\"]"
      ]
    },
    {
      "cell_type": "code",
      "execution_count": null,
      "metadata": {
        "id": "m79NHrEf8gwP"
      },
      "outputs": [],
      "source": [
        "longer_ts[\"2001-05\"]"
      ]
    },
    {
      "cell_type": "code",
      "execution_count": null,
      "metadata": {
        "id": "--n5k4UL8gwQ"
      },
      "outputs": [],
      "source": [
        "ts[datetime(2011, 1, 7):]\n",
        "ts[datetime(2011, 1, 7):datetime(2011, 1, 10)]"
      ]
    },
    {
      "cell_type": "code",
      "execution_count": null,
      "metadata": {
        "id": "4IdY7wBo8gwQ"
      },
      "outputs": [],
      "source": [
        "ts\n",
        "ts[\"2011-01-06\":\"2011-01-11\"]"
      ]
    },
    {
      "cell_type": "code",
      "execution_count": null,
      "metadata": {
        "id": "hlMetuD58gwR"
      },
      "outputs": [],
      "source": [
        "ts.truncate(after=\"2011-01-09\")"
      ]
    },
    {
      "cell_type": "code",
      "execution_count": null,
      "metadata": {
        "id": "5aiElW6s8gwR"
      },
      "outputs": [],
      "source": [
        "dates = pd.date_range(\"2000-01-01\", periods=100, freq=\"W-WED\")\n",
        "long_df = pd.DataFrame(np.random.standard_normal((100, 4)),\n",
        "                       index=dates,\n",
        "                       columns=[\"Colorado\", \"Texas\",\n",
        "                                \"New York\", \"Ohio\"])\n",
        "long_df.loc[\"2001-05\"]"
      ]
    },
    {
      "cell_type": "markdown",
      "source": [
        "###Time Series with Duplicate Indices"
      ],
      "metadata": {
        "id": "axfpOb0p9vGt"
      }
    },
    {
      "cell_type": "code",
      "execution_count": null,
      "metadata": {
        "id": "Vy_F5fkl8gwR"
      },
      "outputs": [],
      "source": [
        "dates = pd.DatetimeIndex([\"2000-01-01\", \"2000-01-02\", \"2000-01-02\",\n",
        "                          \"2000-01-02\", \"2000-01-03\"])\n",
        "dup_ts = pd.Series(np.arange(5), index=dates)\n",
        "dup_ts"
      ]
    },
    {
      "cell_type": "code",
      "execution_count": null,
      "metadata": {
        "id": "nG5uqqy_8gwR"
      },
      "outputs": [],
      "source": [
        "dup_ts.index.is_unique"
      ]
    },
    {
      "cell_type": "code",
      "execution_count": null,
      "metadata": {
        "id": "2Y18hC9T8gwR"
      },
      "outputs": [],
      "source": [
        "dup_ts[\"2000-01-03\"]  # not duplicated\n",
        "dup_ts[\"2000-01-02\"]  # duplicated"
      ]
    },
    {
      "cell_type": "code",
      "execution_count": null,
      "metadata": {
        "id": "fksknlc58gwR"
      },
      "outputs": [],
      "source": [
        "grouped = dup_ts.groupby(level=0)\n",
        "grouped.mean()\n",
        "grouped.count()"
      ]
    },
    {
      "cell_type": "markdown",
      "source": [
        "##11.3 Date Ranges, Frequencies, and Shifting"
      ],
      "metadata": {
        "id": "rqXqcM8o-MOa"
      }
    },
    {
      "cell_type": "code",
      "execution_count": null,
      "metadata": {
        "id": "TRDy92_p8gwS"
      },
      "outputs": [],
      "source": [
        "ts\n",
        "resampler = ts.resample(\"D\")\n",
        "resampler"
      ]
    },
    {
      "cell_type": "markdown",
      "source": [
        "###Generating Date Ranges"
      ],
      "metadata": {
        "id": "h8lSsd8j-O2x"
      }
    },
    {
      "cell_type": "code",
      "execution_count": null,
      "metadata": {
        "id": "V-_GssJD8gwS"
      },
      "outputs": [],
      "source": [
        "index = pd.date_range(\"2012-04-01\", \"2012-06-01\")\n",
        "index"
      ]
    },
    {
      "cell_type": "code",
      "execution_count": null,
      "metadata": {
        "id": "pJwe-7n18gwS"
      },
      "outputs": [],
      "source": [
        "pd.date_range(start=\"2012-04-01\", periods=20)\n",
        "pd.date_range(end=\"2012-06-01\", periods=20)"
      ]
    },
    {
      "cell_type": "code",
      "execution_count": null,
      "metadata": {
        "id": "roi0wbDL8gwS"
      },
      "outputs": [],
      "source": [
        "pd.date_range(\"2000-01-01\", \"2000-12-01\", freq=\"BM\")"
      ]
    },
    {
      "cell_type": "code",
      "execution_count": null,
      "metadata": {
        "id": "vAS6g-vB8gwT"
      },
      "outputs": [],
      "source": [
        "pd.date_range(\"2012-05-02 12:56:31\", periods=5)"
      ]
    },
    {
      "cell_type": "code",
      "execution_count": null,
      "metadata": {
        "id": "O5bG49yq8gwT"
      },
      "outputs": [],
      "source": [
        "pd.date_range(\"2012-05-02 12:56:31\", periods=5, normalize=True)"
      ]
    },
    {
      "cell_type": "markdown",
      "source": [
        "###Frequencies and Date Offsets"
      ],
      "metadata": {
        "id": "fyeN9sfE-SRd"
      }
    },
    {
      "cell_type": "code",
      "execution_count": null,
      "metadata": {
        "id": "US8T-Vd68gwT"
      },
      "outputs": [],
      "source": [
        "from pandas.tseries.offsets import Hour, Minute\n",
        "hour = Hour()\n",
        "hour"
      ]
    },
    {
      "cell_type": "code",
      "execution_count": null,
      "metadata": {
        "id": "zbVWXwls8gwT"
      },
      "outputs": [],
      "source": [
        "four_hours = Hour(4)\n",
        "four_hours"
      ]
    },
    {
      "cell_type": "code",
      "execution_count": null,
      "metadata": {
        "id": "MCZPPKH78gwT"
      },
      "outputs": [],
      "source": [
        "pd.date_range(\"2000-01-01\", \"2000-01-03 23:59\", freq=\"4H\")"
      ]
    },
    {
      "cell_type": "code",
      "execution_count": null,
      "metadata": {
        "id": "xywd6Nni8gwU"
      },
      "outputs": [],
      "source": [
        "Hour(2) + Minute(30)"
      ]
    },
    {
      "cell_type": "code",
      "execution_count": null,
      "metadata": {
        "id": "bPw2KMRM8gwU"
      },
      "outputs": [],
      "source": [
        "pd.date_range(\"2000-01-01\", periods=10, freq=\"1h30min\")"
      ]
    },
    {
      "cell_type": "code",
      "execution_count": null,
      "metadata": {
        "id": "NY8JY4Mm8gwU"
      },
      "outputs": [],
      "source": [
        "monthly_dates = pd.date_range(\"2012-01-01\", \"2012-09-01\", freq=\"WOM-3FRI\")\n",
        "list(monthly_dates)"
      ]
    },
    {
      "cell_type": "markdown",
      "source": [
        "###Shifting (Leading and Lagging) Data"
      ],
      "metadata": {
        "id": "NIQ8grud-V2Y"
      }
    },
    {
      "cell_type": "code",
      "execution_count": null,
      "metadata": {
        "id": "gX867Zgi8gwU"
      },
      "outputs": [],
      "source": [
        "ts = pd.Series(np.random.standard_normal(4),\n",
        "               index=pd.date_range(\"2000-01-01\", periods=4, freq=\"M\"))\n",
        "ts\n",
        "ts.shift(2)\n",
        "ts.shift(-2)"
      ]
    },
    {
      "cell_type": "code",
      "execution_count": null,
      "metadata": {
        "id": "ML3ULTwp8gwg"
      },
      "outputs": [],
      "source": [
        "ts.shift(2, freq=\"M\")"
      ]
    },
    {
      "cell_type": "code",
      "execution_count": null,
      "metadata": {
        "id": "Q3FrZ42V8gwg"
      },
      "outputs": [],
      "source": [
        "ts.shift(3, freq=\"D\")\n",
        "ts.shift(1, freq=\"90T\")"
      ]
    },
    {
      "cell_type": "code",
      "execution_count": null,
      "metadata": {
        "id": "F-sUPcTg8gwg"
      },
      "outputs": [],
      "source": [
        "from pandas.tseries.offsets import Day, MonthEnd\n",
        "now = datetime(2011, 11, 17)\n",
        "now + 3 * Day()"
      ]
    },
    {
      "cell_type": "code",
      "execution_count": null,
      "metadata": {
        "id": "6-mTCNnn8gwg"
      },
      "outputs": [],
      "source": [
        "now + MonthEnd()\n",
        "now + MonthEnd(2)"
      ]
    },
    {
      "cell_type": "code",
      "execution_count": null,
      "metadata": {
        "id": "jbgs2mUv8gwh"
      },
      "outputs": [],
      "source": [
        "offset = MonthEnd()\n",
        "offset.rollforward(now)\n",
        "offset.rollback(now)"
      ]
    },
    {
      "cell_type": "code",
      "execution_count": null,
      "metadata": {
        "id": "GKHcxA338gwh"
      },
      "outputs": [],
      "source": [
        "ts = pd.Series(np.random.standard_normal(20),\n",
        "               index=pd.date_range(\"2000-01-15\", periods=20, freq=\"4D\"))\n",
        "ts\n",
        "ts.groupby(MonthEnd().rollforward).mean()"
      ]
    },
    {
      "cell_type": "code",
      "execution_count": null,
      "metadata": {
        "id": "nXlHRDwx8gwh"
      },
      "outputs": [],
      "source": [
        "ts.resample(\"M\").mean()"
      ]
    },
    {
      "cell_type": "markdown",
      "source": [
        "##11.4 Time Zone Handling"
      ],
      "metadata": {
        "id": "c6BDV559-mYy"
      }
    },
    {
      "cell_type": "code",
      "execution_count": null,
      "metadata": {
        "id": "aUjUdAOG8gwh"
      },
      "outputs": [],
      "source": [
        "import pytz\n",
        "pytz.common_timezones[-5:]"
      ]
    },
    {
      "cell_type": "code",
      "execution_count": null,
      "metadata": {
        "id": "LSwyqFOO8gwh"
      },
      "outputs": [],
      "source": [
        "tz = pytz.timezone(\"America/New_York\")\n",
        "tz"
      ]
    },
    {
      "cell_type": "markdown",
      "source": [
        "###Time Zone Localization and Conversion"
      ],
      "metadata": {
        "id": "u7onhtHV-pE3"
      }
    },
    {
      "cell_type": "code",
      "execution_count": null,
      "metadata": {
        "id": "ThB8xb3d8gwi"
      },
      "outputs": [],
      "source": [
        "dates = pd.date_range(\"2012-03-09 09:30\", periods=6)\n",
        "ts = pd.Series(np.random.standard_normal(len(dates)), index=dates)\n",
        "ts"
      ]
    },
    {
      "cell_type": "code",
      "execution_count": null,
      "metadata": {
        "id": "3qmK5yoy8gwi"
      },
      "outputs": [],
      "source": [
        "print(ts.index.tz)"
      ]
    },
    {
      "cell_type": "code",
      "execution_count": null,
      "metadata": {
        "id": "D5-Y_jmX8gwi"
      },
      "outputs": [],
      "source": [
        "pd.date_range(\"2012-03-09 09:30\", periods=10, tz=\"UTC\")"
      ]
    },
    {
      "cell_type": "code",
      "execution_count": null,
      "metadata": {
        "id": "89vudHN08gwi"
      },
      "outputs": [],
      "source": [
        "ts\n",
        "ts_utc = ts.tz_localize(\"UTC\")\n",
        "ts_utc\n",
        "ts_utc.index"
      ]
    },
    {
      "cell_type": "code",
      "execution_count": null,
      "metadata": {
        "id": "CcAXLcnQ8gwi"
      },
      "outputs": [],
      "source": [
        "ts_utc.tz_convert(\"America/New_York\")"
      ]
    },
    {
      "cell_type": "code",
      "execution_count": null,
      "metadata": {
        "id": "PleaITvc8gwj"
      },
      "outputs": [],
      "source": [
        "ts_eastern = ts.tz_localize(\"America/New_York\")\n",
        "ts_eastern.tz_convert(\"UTC\")\n",
        "ts_eastern.tz_convert(\"Europe/Berlin\")"
      ]
    },
    {
      "cell_type": "code",
      "execution_count": null,
      "metadata": {
        "id": "sJtv73Vj8gwj"
      },
      "outputs": [],
      "source": [
        "ts.index.tz_localize(\"Asia/Shanghai\")"
      ]
    },
    {
      "cell_type": "markdown",
      "source": [
        "###Operations with Time Zone-Aware Timestamp Objects"
      ],
      "metadata": {
        "id": "O5-eYGKi-uFi"
      }
    },
    {
      "cell_type": "code",
      "execution_count": null,
      "metadata": {
        "id": "IBwy7Htq8gwj"
      },
      "outputs": [],
      "source": [
        "stamp = pd.Timestamp(\"2011-03-12 04:00\")\n",
        "stamp_utc = stamp.tz_localize(\"utc\")\n",
        "stamp_utc.tz_convert(\"America/New_York\")"
      ]
    },
    {
      "cell_type": "code",
      "execution_count": null,
      "metadata": {
        "id": "pHo0-LQW8gwj"
      },
      "outputs": [],
      "source": [
        "stamp_moscow = pd.Timestamp(\"2011-03-12 04:00\", tz=\"Europe/Moscow\")\n",
        "stamp_moscow"
      ]
    },
    {
      "cell_type": "code",
      "execution_count": null,
      "metadata": {
        "id": "3mASHWdX8gwk"
      },
      "outputs": [],
      "source": [
        "stamp_utc.value\n",
        "stamp_utc.tz_convert(\"America/New_York\").value"
      ]
    },
    {
      "cell_type": "code",
      "execution_count": null,
      "metadata": {
        "id": "XLpx2PBv8gwk"
      },
      "outputs": [],
      "source": [
        "stamp = pd.Timestamp(\"2012-03-11 01:30\", tz=\"US/Eastern\")\n",
        "stamp\n",
        "stamp + Hour()"
      ]
    },
    {
      "cell_type": "code",
      "execution_count": null,
      "metadata": {
        "id": "66F-eVw28gwk"
      },
      "outputs": [],
      "source": [
        "stamp = pd.Timestamp(\"2012-11-04 00:30\", tz=\"US/Eastern\")\n",
        "stamp\n",
        "stamp + 2 * Hour()"
      ]
    },
    {
      "cell_type": "markdown",
      "source": [
        "###Operations Between Different Time Zones"
      ],
      "metadata": {
        "id": "b8wHTIt7-yi7"
      }
    },
    {
      "cell_type": "code",
      "execution_count": null,
      "metadata": {
        "id": "hOHRL_7y8gwk"
      },
      "outputs": [],
      "source": [
        "dates = pd.date_range(\"2012-03-07 09:30\", periods=10, freq=\"B\")\n",
        "ts = pd.Series(np.random.standard_normal(len(dates)), index=dates)\n",
        "ts\n",
        "ts1 = ts[:7].tz_localize(\"Europe/London\")\n",
        "ts2 = ts1[2:].tz_convert(\"Europe/Moscow\")\n",
        "result = ts1 + ts2\n",
        "result.index"
      ]
    },
    {
      "cell_type": "markdown",
      "source": [
        "##11.5 Periods and Period Arithmetic"
      ],
      "metadata": {
        "id": "FfhB0Pjj-7bM"
      }
    },
    {
      "cell_type": "code",
      "execution_count": null,
      "metadata": {
        "id": "v15npHhe8gwl"
      },
      "outputs": [],
      "source": [
        "p = pd.Period(\"2011\", freq=\"A-DEC\")\n",
        "p"
      ]
    },
    {
      "cell_type": "code",
      "execution_count": null,
      "metadata": {
        "id": "k2UBOaqd8gwl"
      },
      "outputs": [],
      "source": [
        "p + 5\n",
        "p - 2"
      ]
    },
    {
      "cell_type": "code",
      "execution_count": null,
      "metadata": {
        "id": "xfRsRX6Q8gwl"
      },
      "outputs": [],
      "source": [
        "pd.Period(\"2014\", freq=\"A-DEC\") - p"
      ]
    },
    {
      "cell_type": "code",
      "execution_count": null,
      "metadata": {
        "id": "aBv6JhTS8gwl"
      },
      "outputs": [],
      "source": [
        "periods = pd.period_range(\"2000-01-01\", \"2000-06-30\", freq=\"M\")\n",
        "periods"
      ]
    },
    {
      "cell_type": "code",
      "execution_count": null,
      "metadata": {
        "id": "zFs68gLn8gwm"
      },
      "outputs": [],
      "source": [
        "pd.Series(np.random.standard_normal(6), index=periods)"
      ]
    },
    {
      "cell_type": "code",
      "execution_count": null,
      "metadata": {
        "id": "dRPCtbfQ8gwm"
      },
      "outputs": [],
      "source": [
        "values = [\"2001Q3\", \"2002Q2\", \"2003Q1\"]\n",
        "index = pd.PeriodIndex(values, freq=\"Q-DEC\")\n",
        "index"
      ]
    },
    {
      "cell_type": "markdown",
      "source": [
        "###Period Frequency Conversion"
      ],
      "metadata": {
        "id": "1OFba_4W--Tz"
      }
    },
    {
      "cell_type": "code",
      "execution_count": null,
      "metadata": {
        "id": "N6n_s6m18gwm"
      },
      "outputs": [],
      "source": [
        "p = pd.Period(\"2011\", freq=\"A-DEC\")\n",
        "p\n",
        "p.asfreq(\"M\", how=\"start\")\n",
        "p.asfreq(\"M\", how=\"end\")\n",
        "p.asfreq(\"M\")"
      ]
    },
    {
      "cell_type": "code",
      "execution_count": null,
      "metadata": {
        "id": "odmeFXgq8gwm"
      },
      "outputs": [],
      "source": [
        "p = pd.Period(\"2011\", freq=\"A-JUN\")\n",
        "p\n",
        "p.asfreq(\"M\", how=\"start\")\n",
        "p.asfreq(\"M\", how=\"end\")"
      ]
    },
    {
      "cell_type": "code",
      "execution_count": null,
      "metadata": {
        "id": "2TE5euW-8gwn"
      },
      "outputs": [],
      "source": [
        "p = pd.Period(\"Aug-2011\", \"M\")\n",
        "p.asfreq(\"A-JUN\")"
      ]
    },
    {
      "cell_type": "code",
      "execution_count": null,
      "metadata": {
        "id": "H7Qs8e398gwn"
      },
      "outputs": [],
      "source": [
        "periods = pd.period_range(\"2006\", \"2009\", freq=\"A-DEC\")\n",
        "ts = pd.Series(np.random.standard_normal(len(periods)), index=periods)\n",
        "ts\n",
        "ts.asfreq(\"M\", how=\"start\")"
      ]
    },
    {
      "cell_type": "code",
      "execution_count": null,
      "metadata": {
        "id": "FaNpdESs8gwn"
      },
      "outputs": [],
      "source": [
        "ts.asfreq(\"B\", how=\"end\")"
      ]
    },
    {
      "cell_type": "markdown",
      "source": [
        "###Quarterly Period Frequencies"
      ],
      "metadata": {
        "id": "iB9uxIaf_Bci"
      }
    },
    {
      "cell_type": "code",
      "execution_count": null,
      "metadata": {
        "id": "YcfEFCXF8gwn"
      },
      "outputs": [],
      "source": [
        "p = pd.Period(\"2012Q4\", freq=\"Q-JAN\")\n",
        "p"
      ]
    },
    {
      "cell_type": "code",
      "execution_count": null,
      "metadata": {
        "id": "F9-YF9nJ8gwn"
      },
      "outputs": [],
      "source": [
        "p.asfreq(\"D\", how=\"start\")\n",
        "p.asfreq(\"D\", how=\"end\")"
      ]
    },
    {
      "cell_type": "code",
      "execution_count": null,
      "metadata": {
        "id": "krvIMogz8gwo"
      },
      "outputs": [],
      "source": [
        "p4pm = (p.asfreq(\"B\", how=\"end\") - 1).asfreq(\"T\", how=\"start\") + 16 * 60\n",
        "p4pm\n",
        "p4pm.to_timestamp()"
      ]
    },
    {
      "cell_type": "code",
      "execution_count": null,
      "metadata": {
        "id": "o3n5Fv1g8gwo"
      },
      "outputs": [],
      "source": [
        "periods = pd.period_range(\"2011Q3\", \"2012Q4\", freq=\"Q-JAN\")\n",
        "ts = pd.Series(np.arange(len(periods)), index=periods)\n",
        "ts\n",
        "new_periods = (periods.asfreq(\"B\", \"end\") - 1).asfreq(\"H\", \"start\") + 16\n",
        "ts.index = new_periods.to_timestamp()\n",
        "ts"
      ]
    },
    {
      "cell_type": "code",
      "execution_count": null,
      "metadata": {
        "id": "TlZKBGF_8gwo"
      },
      "outputs": [],
      "source": [
        "dates = pd.date_range(\"2000-01-01\", periods=3, freq=\"M\")\n",
        "ts = pd.Series(np.random.standard_normal(3), index=dates)\n",
        "ts\n",
        "pts = ts.to_period()\n",
        "pts"
      ]
    },
    {
      "cell_type": "code",
      "execution_count": null,
      "metadata": {
        "id": "OlwcyDre8gwo"
      },
      "outputs": [],
      "source": [
        "dates = pd.date_range(\"2000-01-29\", periods=6)\n",
        "ts2 = pd.Series(np.random.standard_normal(6), index=dates)\n",
        "ts2\n",
        "ts2.to_period(\"M\")"
      ]
    },
    {
      "cell_type": "code",
      "execution_count": null,
      "metadata": {
        "id": "-Oe48LQ18gwp"
      },
      "outputs": [],
      "source": [
        "pts = ts2.to_period()\n",
        "pts\n",
        "pts.to_timestamp(how=\"end\")"
      ]
    },
    {
      "cell_type": "code",
      "execution_count": null,
      "metadata": {
        "id": "UbrGv_Pg8gwp"
      },
      "outputs": [],
      "source": [
        "data = pd.read_csv(\"examples/macrodata.csv\")\n",
        "data.head(5)\n",
        "data[\"year\"]\n",
        "data[\"quarter\"]"
      ]
    },
    {
      "cell_type": "code",
      "execution_count": null,
      "metadata": {
        "id": "z2iXp2Q_8gwp"
      },
      "outputs": [],
      "source": [
        "index = pd.PeriodIndex(year=data[\"year\"], quarter=data[\"quarter\"],\n",
        "                       freq=\"Q-DEC\")\n",
        "index\n",
        "data.index = index\n",
        "data[\"infl\"]"
      ]
    },
    {
      "cell_type": "code",
      "execution_count": null,
      "metadata": {
        "id": "EAxkUEme8gwq"
      },
      "outputs": [],
      "source": [
        "dates = pd.date_range(\"2000-01-01\", periods=100)\n",
        "ts = pd.Series(np.random.standard_normal(len(dates)), index=dates)\n",
        "ts\n",
        "ts.resample(\"M\").mean()\n",
        "ts.resample(\"M\", kind=\"period\").mean()"
      ]
    },
    {
      "cell_type": "markdown",
      "source": [
        "###Converting Timestamps to Periods (and Back)"
      ],
      "metadata": {
        "id": "H9l6RcZt_GbQ"
      }
    },
    {
      "cell_type": "code",
      "execution_count": null,
      "metadata": {
        "id": "qeKowumJ8gwq"
      },
      "outputs": [],
      "source": [
        "dates = pd.date_range(\"2000-01-01\", periods=12, freq=\"T\")\n",
        "ts = pd.Series(np.arange(len(dates)), index=dates)\n",
        "ts"
      ]
    },
    {
      "cell_type": "code",
      "execution_count": null,
      "metadata": {
        "id": "lXLf-Ps08gwr"
      },
      "outputs": [],
      "source": [
        "ts.resample(\"5min\").sum()"
      ]
    },
    {
      "cell_type": "code",
      "execution_count": null,
      "metadata": {
        "id": "zZKrvJ-Q8gwr"
      },
      "outputs": [],
      "source": [
        "ts.resample(\"5min\", closed=\"right\").sum()"
      ]
    },
    {
      "cell_type": "code",
      "execution_count": null,
      "metadata": {
        "id": "IK4ryB7a8gws"
      },
      "outputs": [],
      "source": [
        "ts.resample(\"5min\", closed=\"right\", label=\"right\").sum()"
      ]
    },
    {
      "cell_type": "code",
      "execution_count": null,
      "metadata": {
        "id": "1PD7fpU18gws"
      },
      "outputs": [],
      "source": [
        "from pandas.tseries.frequencies import to_offset\n",
        "result = ts.resample(\"5min\", closed=\"right\", label=\"right\").sum()\n",
        "result.index = result.index + to_offset(\"-1s\")\n",
        "result"
      ]
    },
    {
      "cell_type": "code",
      "execution_count": null,
      "metadata": {
        "id": "LolAfn2b8gwt"
      },
      "outputs": [],
      "source": [
        "ts = pd.Series(np.random.permutation(np.arange(len(dates))), index=dates)\n",
        "ts.resample(\"5min\").ohlc()"
      ]
    },
    {
      "cell_type": "code",
      "execution_count": null,
      "metadata": {
        "id": "drot0tHx8gwt"
      },
      "outputs": [],
      "source": [
        "frame = pd.DataFrame(np.random.standard_normal((2, 4)),\n",
        "                     index=pd.date_range(\"2000-01-01\", periods=2,\n",
        "                                         freq=\"W-WED\"),\n",
        "                     columns=[\"Colorado\", \"Texas\", \"New York\", \"Ohio\"])\n",
        "frame"
      ]
    },
    {
      "cell_type": "code",
      "execution_count": null,
      "metadata": {
        "id": "2EOW5Hk78gwu"
      },
      "outputs": [],
      "source": [
        "df_daily = frame.resample(\"D\").asfreq()\n",
        "df_daily"
      ]
    },
    {
      "cell_type": "code",
      "execution_count": null,
      "metadata": {
        "id": "mWt6KE1-8gwu"
      },
      "outputs": [],
      "source": [
        "frame.resample(\"D\").ffill()"
      ]
    },
    {
      "cell_type": "code",
      "execution_count": null,
      "metadata": {
        "id": "pecUvrDX8gwu"
      },
      "outputs": [],
      "source": [
        "frame.resample(\"D\").ffill(limit=2)"
      ]
    },
    {
      "cell_type": "code",
      "execution_count": null,
      "metadata": {
        "id": "les_nLZC8gwu"
      },
      "outputs": [],
      "source": [
        "frame.resample(\"W-THU\").ffill()"
      ]
    },
    {
      "cell_type": "code",
      "execution_count": null,
      "metadata": {
        "id": "ujWtnMah8gwu"
      },
      "outputs": [],
      "source": [
        "frame = pd.DataFrame(np.random.standard_normal((24, 4)),\n",
        "                     index=pd.period_range(\"1-2000\", \"12-2001\",\n",
        "                                           freq=\"M\"),\n",
        "                     columns=[\"Colorado\", \"Texas\", \"New York\", \"Ohio\"])\n",
        "frame.head()\n",
        "annual_frame = frame.resample(\"A-DEC\").mean()\n",
        "annual_frame"
      ]
    },
    {
      "cell_type": "code",
      "execution_count": null,
      "metadata": {
        "id": "bH8JZSgb8gwv"
      },
      "outputs": [],
      "source": [
        "# Q-DEC: Quarterly, year ending in December\n",
        "annual_frame.resample(\"Q-DEC\").ffill()\n",
        "annual_frame.resample(\"Q-DEC\", convention=\"end\").asfreq()"
      ]
    },
    {
      "cell_type": "code",
      "execution_count": null,
      "metadata": {
        "id": "dISH20Bg8gwv"
      },
      "outputs": [],
      "source": [
        "annual_frame.resample(\"Q-MAR\").ffill()"
      ]
    },
    {
      "cell_type": "code",
      "execution_count": null,
      "metadata": {
        "id": "Ifk6xhjf8gwv"
      },
      "outputs": [],
      "source": [
        "N = 15\n",
        "times = pd.date_range(\"2017-05-20 00:00\", freq=\"1min\", periods=N)\n",
        "df = pd.DataFrame({\"time\": times,\n",
        "                   \"value\": np.arange(N)})\n",
        "df"
      ]
    },
    {
      "cell_type": "code",
      "execution_count": null,
      "metadata": {
        "id": "iJnuNvCn8gwv"
      },
      "outputs": [],
      "source": [
        "df.set_index(\"time\").resample(\"5min\").count()"
      ]
    },
    {
      "cell_type": "code",
      "execution_count": null,
      "metadata": {
        "id": "fxGO0LuT8gww"
      },
      "outputs": [],
      "source": [
        "df2 = pd.DataFrame({\"time\": times.repeat(3),\n",
        "                    \"key\": np.tile([\"a\", \"b\", \"c\"], N),\n",
        "                    \"value\": np.arange(N * 3.)})\n",
        "df2.head(7)"
      ]
    },
    {
      "cell_type": "code",
      "execution_count": null,
      "metadata": {
        "id": "87Wk8BkT8gww"
      },
      "outputs": [],
      "source": [
        "time_key = pd.Grouper(freq=\"5min\")"
      ]
    },
    {
      "cell_type": "code",
      "execution_count": null,
      "metadata": {
        "id": "PP0XJMNQ8gww"
      },
      "outputs": [],
      "source": [
        "resampled = (df2.set_index(\"time\")\n",
        "             .groupby([\"key\", time_key])\n",
        "             .sum())\n",
        "resampled\n",
        "resampled.reset_index()"
      ]
    },
    {
      "cell_type": "markdown",
      "source": [
        "##11.7 Moving Window Functions"
      ],
      "metadata": {
        "id": "umbsRvuU_sCU"
      }
    },
    {
      "cell_type": "code",
      "execution_count": null,
      "metadata": {
        "id": "6WRhG74l8gww"
      },
      "outputs": [],
      "source": [
        "close_px_all = pd.read_csv(\"examples/stock_px.csv\",\n",
        "                           parse_dates=True, index_col=0)\n",
        "close_px = close_px_all[[\"AAPL\", \"MSFT\", \"XOM\"]]\n",
        "close_px = close_px.resample(\"B\").ffill()"
      ]
    },
    {
      "cell_type": "code",
      "execution_count": null,
      "metadata": {
        "id": "eocmBYpq8gww"
      },
      "outputs": [],
      "source": [
        "close_px[\"AAPL\"].plot()\n",
        "close_px[\"AAPL\"].rolling(250).mean().plot()"
      ]
    },
    {
      "cell_type": "markdown",
      "source": [
        "###Exponentially Weighted Functions"
      ],
      "metadata": {
        "id": "_0-KKYJg_2cc"
      }
    },
    {
      "cell_type": "code",
      "execution_count": null,
      "metadata": {
        "id": "Z4LaBjMj8gwx"
      },
      "outputs": [],
      "source": [
        "plt.figure()\n",
        "std250 = close_px[\"AAPL\"].pct_change().rolling(250, min_periods=10).std()\n",
        "std250[5:12]\n",
        "std250.plot()"
      ]
    },
    {
      "cell_type": "markdown",
      "source": [
        "###Binary Moving Window Functions"
      ],
      "metadata": {
        "id": "YcLXj_83_9zq"
      }
    },
    {
      "cell_type": "code",
      "execution_count": null,
      "metadata": {
        "id": "ZRNi8Aff8gwx"
      },
      "outputs": [],
      "source": [
        "expanding_mean = std250.expanding().mean()"
      ]
    },
    {
      "cell_type": "code",
      "execution_count": null,
      "metadata": {
        "id": "k11-qI5u8gwx"
      },
      "outputs": [],
      "source": [
        "plt.figure()"
      ]
    },
    {
      "cell_type": "code",
      "execution_count": null,
      "metadata": {
        "id": "8kChL75_8gwx"
      },
      "outputs": [],
      "source": [
        "plt.style.use('grayscale')\n",
        "close_px.rolling(60).mean().plot(logy=True)"
      ]
    },
    {
      "cell_type": "code",
      "execution_count": null,
      "metadata": {
        "id": "TIkz0Unk8gwx"
      },
      "outputs": [],
      "source": [
        "close_px.rolling(\"20D\").mean()"
      ]
    },
    {
      "cell_type": "code",
      "execution_count": null,
      "metadata": {
        "id": "miyheiyE8gwy"
      },
      "outputs": [],
      "source": [
        "plt.figure()"
      ]
    },
    {
      "cell_type": "markdown",
      "source": [
        "###Exponentially Weighted Functions"
      ],
      "metadata": {
        "id": "2G7RLDcxAIAq"
      }
    },
    {
      "cell_type": "code",
      "execution_count": null,
      "metadata": {
        "id": "6ojyue3e8gwz"
      },
      "outputs": [],
      "source": [
        "aapl_px = close_px[\"AAPL\"][\"2006\":\"2007\"]\n",
        "\n",
        "ma30 = aapl_px.rolling(30, min_periods=20).mean()\n",
        "ewma30 = aapl_px.ewm(span=30).mean()\n",
        "\n",
        "aapl_px.plot(style=\"k-\", label=\"Price\")\n",
        "ma30.plot(style=\"k--\", label=\"Simple Moving Avg\")\n",
        "ewma30.plot(style=\"k-\", label=\"EW MA\")\n",
        "plt.legend()"
      ]
    },
    {
      "cell_type": "code",
      "execution_count": null,
      "metadata": {
        "id": "XCsvjCh68gwz"
      },
      "outputs": [],
      "source": [
        "plt.figure()"
      ]
    },
    {
      "cell_type": "code",
      "execution_count": null,
      "metadata": {
        "id": "0KgVKe3j8gwz"
      },
      "outputs": [],
      "source": [
        "spx_px = close_px_all[\"SPX\"]\n",
        "spx_rets = spx_px.pct_change()\n",
        "returns = close_px.pct_change()"
      ]
    },
    {
      "cell_type": "code",
      "execution_count": null,
      "metadata": {
        "id": "x--Ek92I8gwz"
      },
      "outputs": [],
      "source": [
        "corr = returns[\"AAPL\"].rolling(125, min_periods=100).corr(spx_rets)\n",
        "corr.plot()"
      ]
    },
    {
      "cell_type": "code",
      "execution_count": null,
      "metadata": {
        "id": "FB28rG0A8gw0"
      },
      "outputs": [],
      "source": [
        "plt.figure()"
      ]
    },
    {
      "cell_type": "code",
      "execution_count": null,
      "metadata": {
        "id": "SWmfJjhm8gw0"
      },
      "outputs": [],
      "source": [
        "corr = returns.rolling(125, min_periods=100).corr(spx_rets)\n",
        "corr.plot()"
      ]
    },
    {
      "cell_type": "code",
      "execution_count": null,
      "metadata": {
        "id": "141eytRr8gw0"
      },
      "outputs": [],
      "source": [
        "plt.figure()"
      ]
    },
    {
      "cell_type": "code",
      "execution_count": null,
      "metadata": {
        "id": "OE9bz1x98gw0"
      },
      "outputs": [],
      "source": [
        "from scipy.stats import percentileofscore\n",
        "def score_at_2percent(x):\n",
        "    return percentileofscore(x, 0.02)\n",
        "\n",
        "result = returns[\"AAPL\"].rolling(250).apply(score_at_2percent)\n",
        "result.plot()"
      ]
    },
    {
      "cell_type": "code",
      "execution_count": null,
      "metadata": {
        "id": "7W7IpTKA8gw1"
      },
      "outputs": [],
      "source": [
        "pd.options.display.max_rows = PREVIOUS_MAX_ROWS"
      ]
    },
    {
      "cell_type": "markdown",
      "source": [
        "#Kết thúc"
      ],
      "metadata": {
        "id": "zBvqv5J9_isW"
      }
    }
  ],
  "metadata": {
    "kernelspec": {
      "display_name": "Python 3",
      "language": "python",
      "name": "python3"
    },
    "language_info": {
      "codemirror_mode": {
        "name": "ipython",
        "version": 3
      },
      "file_extension": ".py",
      "mimetype": "text/x-python",
      "name": "python",
      "nbconvert_exporter": "python",
      "pygments_lexer": "ipython3",
      "version": "3.7.6"
    },
    "colab": {
      "provenance": []
    }
  },
  "nbformat": 4,
  "nbformat_minor": 0
}