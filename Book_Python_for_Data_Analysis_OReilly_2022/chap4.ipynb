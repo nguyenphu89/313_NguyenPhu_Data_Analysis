{
  "nbformat": 4,
  "nbformat_minor": 0,
  "metadata": {
    "colab": {
      "provenance": []
    },
    "kernelspec": {
      "name": "python3",
      "display_name": "Python 3"
    },
    "language_info": {
      "name": "python"
    }
  },
  "cells": [
    {
      "cell_type": "markdown",
      "source": [
        "##CHAPTER 4 : NumPy Basics: Arrays and Vectorized Computation"
      ],
      "metadata": {
        "id": "wfoYr1Y7HOMR"
      }
    },
    {
      "cell_type": "markdown",
      "source": [
        "##The NumPy ndarray: A Multidimensional Array Object"
      ],
      "metadata": {
        "id": "Au0pSBRVR0wd"
      }
    },
    {
      "cell_type": "code",
      "execution_count": 2,
      "metadata": {
        "id": "4SJG8nJnGUh8"
      },
      "outputs": [],
      "source": [
        "import numpy as np\n",
        "np.random.seed(12345)\n",
        "import matplotlib.pyplot as plt\n",
        "plt.rc(\"figure\", figsize=(10, 6))\n",
        "np.set_printoptions(precision=4, suppress=True)"
      ]
    },
    {
      "cell_type": "code",
      "source": [
        "import numpy as np\n",
        "\n",
        "my_arr = np.arange(1_000_000)\n",
        "my_list = list(range(1_000_000))"
      ],
      "metadata": {
        "id": "gF96JgbdHLYQ"
      },
      "execution_count": 3,
      "outputs": []
    },
    {
      "cell_type": "code",
      "source": [
        "%timeit my_arr2 = my_arr * 2\n",
        "%timeit my_list2 = [x * 2 for x in my_list]"
      ],
      "metadata": {
        "colab": {
          "base_uri": "https://localhost:8080/"
        },
        "id": "s3j7wokYJyDY",
        "outputId": "d3ae7b46-e37c-4bee-8c38-4ca426389729"
      },
      "execution_count": 4,
      "outputs": [
        {
          "output_type": "stream",
          "name": "stdout",
          "text": [
            "1.1 ms ± 119 µs per loop (mean ± std. dev. of 7 runs, 1000 loops each)\n",
            "56.3 ms ± 1.96 ms per loop (mean ± std. dev. of 7 runs, 10 loops each)\n"
          ]
        }
      ]
    },
    {
      "cell_type": "code",
      "source": [
        "import numpy as np\n",
        "data = np.array([[1.5, -0.1, 3], [0, -3, 6.5]])\n",
        "data"
      ],
      "metadata": {
        "colab": {
          "base_uri": "https://localhost:8080/"
        },
        "id": "qe_AsEckJzs3",
        "outputId": "a5e852d0-450a-44fd-b8b4-1fae29941b3e"
      },
      "execution_count": 5,
      "outputs": [
        {
          "output_type": "execute_result",
          "data": {
            "text/plain": [
              "array([[ 1.5, -0.1,  3. ],\n",
              "       [ 0. , -3. ,  6.5]])"
            ]
          },
          "metadata": {},
          "execution_count": 5
        }
      ]
    },
    {
      "cell_type": "code",
      "source": [
        "data * 10\n",
        "data + data"
      ],
      "metadata": {
        "colab": {
          "base_uri": "https://localhost:8080/"
        },
        "id": "IAKCfCJjJzo4",
        "outputId": "e2431c1f-1efe-4d58-a79c-9b52cbfa8606"
      },
      "execution_count": 6,
      "outputs": [
        {
          "output_type": "execute_result",
          "data": {
            "text/plain": [
              "array([[ 3. , -0.2,  6. ],\n",
              "       [ 0. , -6. , 13. ]])"
            ]
          },
          "metadata": {},
          "execution_count": 6
        }
      ]
    },
    {
      "cell_type": "code",
      "source": [
        "data.shape\n",
        "data.dtype"
      ],
      "metadata": {
        "colab": {
          "base_uri": "https://localhost:8080/"
        },
        "id": "65kGjXJYJzmY",
        "outputId": "ccf6ffd4-ab87-415b-978b-d9125e5c09ca"
      },
      "execution_count": 7,
      "outputs": [
        {
          "output_type": "execute_result",
          "data": {
            "text/plain": [
              "dtype('float64')"
            ]
          },
          "metadata": {},
          "execution_count": 7
        }
      ]
    },
    {
      "cell_type": "markdown",
      "source": [
        "###Creating ndarrays"
      ],
      "metadata": {
        "id": "_LHzvWLxSC6U"
      }
    },
    {
      "cell_type": "code",
      "source": [
        "data1 = [6, 7.5, 8, 0, 1]\n",
        "arr1 = np.array(data1)\n",
        "arr1"
      ],
      "metadata": {
        "colab": {
          "base_uri": "https://localhost:8080/"
        },
        "id": "yhZe9k_ZJzjS",
        "outputId": "43a5b287-657d-430b-afc2-9ed18d37697d"
      },
      "execution_count": 8,
      "outputs": [
        {
          "output_type": "execute_result",
          "data": {
            "text/plain": [
              "array([6. , 7.5, 8. , 0. , 1. ])"
            ]
          },
          "metadata": {},
          "execution_count": 8
        }
      ]
    },
    {
      "cell_type": "code",
      "source": [
        "data2 = [[1, 2, 3, 4], [5, 6, 7, 8]]\n",
        "arr2 = np.array(data2)\n",
        "arr2"
      ],
      "metadata": {
        "colab": {
          "base_uri": "https://localhost:8080/"
        },
        "id": "kydPikQ7JzgO",
        "outputId": "0f19e7b1-87e8-4fbb-ddf8-3a8ccb0b42ad"
      },
      "execution_count": 10,
      "outputs": [
        {
          "output_type": "execute_result",
          "data": {
            "text/plain": [
              "array([[1, 2, 3, 4],\n",
              "       [5, 6, 7, 8]])"
            ]
          },
          "metadata": {},
          "execution_count": 10
        }
      ]
    },
    {
      "cell_type": "code",
      "source": [
        "arr2.ndim\n",
        "arr2.shape"
      ],
      "metadata": {
        "colab": {
          "base_uri": "https://localhost:8080/"
        },
        "id": "kGnTRYlbJzdZ",
        "outputId": "35ee9b85-66ab-4c53-a3f2-d2ca23009069"
      },
      "execution_count": 11,
      "outputs": [
        {
          "output_type": "execute_result",
          "data": {
            "text/plain": [
              "(2, 4)"
            ]
          },
          "metadata": {},
          "execution_count": 11
        }
      ]
    },
    {
      "cell_type": "code",
      "source": [
        "arr1.dtype\n",
        "arr2.dtype"
      ],
      "metadata": {
        "colab": {
          "base_uri": "https://localhost:8080/"
        },
        "id": "mvfzo-AUJzah",
        "outputId": "68b3f367-7304-407c-dd6c-c15c184a39b3"
      },
      "execution_count": 12,
      "outputs": [
        {
          "output_type": "execute_result",
          "data": {
            "text/plain": [
              "dtype('int64')"
            ]
          },
          "metadata": {},
          "execution_count": 12
        }
      ]
    },
    {
      "cell_type": "code",
      "source": [
        "np.zeros(10)\n",
        "np.zeros((3, 6))\n",
        "np.empty((2, 3, 2))"
      ],
      "metadata": {
        "colab": {
          "base_uri": "https://localhost:8080/"
        },
        "id": "s48a1UjuJzXr",
        "outputId": "8f4ddfc9-c3f3-4698-ea04-c6251e30280f"
      },
      "execution_count": 13,
      "outputs": [
        {
          "output_type": "execute_result",
          "data": {
            "text/plain": [
              "array([[[1.1433e-318, 0.0000e+000],\n",
              "        [8.9124e-313, 1.0398e-312],\n",
              "        [2.1220e-313, 2.0583e-312]],\n",
              "\n",
              "       [[2.0583e-312, 9.1246e-313],\n",
              "        [2.1220e-312, 2.4615e-312],\n",
              "        [4.1946e+228, 1.5554e+161]]])"
            ]
          },
          "metadata": {},
          "execution_count": 13
        }
      ]
    },
    {
      "cell_type": "code",
      "source": [
        "np.arange(15)"
      ],
      "metadata": {
        "colab": {
          "base_uri": "https://localhost:8080/"
        },
        "id": "BqDlFAyKJzUw",
        "outputId": "98ee71aa-5c61-4d4d-f1a0-3f66c33ba464"
      },
      "execution_count": 14,
      "outputs": [
        {
          "output_type": "execute_result",
          "data": {
            "text/plain": [
              "array([ 0,  1,  2,  3,  4,  5,  6,  7,  8,  9, 10, 11, 12, 13, 14])"
            ]
          },
          "metadata": {},
          "execution_count": 14
        }
      ]
    },
    {
      "cell_type": "markdown",
      "source": [
        "###Data Types for ndarrays"
      ],
      "metadata": {
        "id": "591uo8eBSXZk"
      }
    },
    {
      "cell_type": "code",
      "source": [
        "arr1 = np.array([1, 2, 3], dtype=np.float64)\n",
        "arr2 = np.array([1, 2, 3], dtype=np.int32)\n",
        "arr1.dtype\n",
        "arr2.dtype"
      ],
      "metadata": {
        "colab": {
          "base_uri": "https://localhost:8080/"
        },
        "id": "cmUKa02dJzRM",
        "outputId": "86ee3db4-259a-4fb5-bbf8-e27a53a19c95"
      },
      "execution_count": 15,
      "outputs": [
        {
          "output_type": "execute_result",
          "data": {
            "text/plain": [
              "dtype('int32')"
            ]
          },
          "metadata": {},
          "execution_count": 15
        }
      ]
    },
    {
      "cell_type": "code",
      "source": [
        "arr = np.array([1, 2, 3, 4, 5])\n",
        "arr.dtype\n",
        "float_arr = arr.astype(np.float64)\n",
        "float_arr\n",
        "float_arr.dtype"
      ],
      "metadata": {
        "colab": {
          "base_uri": "https://localhost:8080/"
        },
        "id": "_UvQ_mGxJzOp",
        "outputId": "7f7cff58-57f3-46d3-a2c2-b7df1414cc3a"
      },
      "execution_count": 16,
      "outputs": [
        {
          "output_type": "execute_result",
          "data": {
            "text/plain": [
              "dtype('float64')"
            ]
          },
          "metadata": {},
          "execution_count": 16
        }
      ]
    },
    {
      "cell_type": "code",
      "source": [
        "arr = np.array([3.7, -1.2, -2.6, 0.5, 12.9, 10.1])\n",
        "arr\n",
        "arr.astype(np.int32)"
      ],
      "metadata": {
        "colab": {
          "base_uri": "https://localhost:8080/"
        },
        "id": "cmbybHiiJzLj",
        "outputId": "7e4c1031-70ea-4d8e-a150-82f12722d00c"
      },
      "execution_count": 17,
      "outputs": [
        {
          "output_type": "execute_result",
          "data": {
            "text/plain": [
              "array([ 3, -1, -2,  0, 12, 10], dtype=int32)"
            ]
          },
          "metadata": {},
          "execution_count": 17
        }
      ]
    },
    {
      "cell_type": "code",
      "source": [
        "\n",
        "numeric_strings = np.array([\"1.25\", \"-9.6\", \"42\"], dtype=np.string_)\n",
        "numeric_strings.astype(float)"
      ],
      "metadata": {
        "colab": {
          "base_uri": "https://localhost:8080/",
          "height": 292
        },
        "id": "f9pnCLQ5JzIy",
        "outputId": "2da95bcf-5a06-4e17-c9eb-6327a821a70c"
      },
      "execution_count": 18,
      "outputs": [
        {
          "output_type": "error",
          "ename": "AttributeError",
          "evalue": "`np.string_` was removed in the NumPy 2.0 release. Use `np.bytes_` instead.",
          "traceback": [
            "\u001b[0;31m---------------------------------------------------------------------------\u001b[0m",
            "\u001b[0;31mAttributeError\u001b[0m                            Traceback (most recent call last)",
            "\u001b[0;32m/tmp/ipython-input-1644535342.py\u001b[0m in \u001b[0;36m<cell line: 0>\u001b[0;34m()\u001b[0m\n\u001b[0;32m----> 1\u001b[0;31m \u001b[0mnumeric_strings\u001b[0m \u001b[0;34m=\u001b[0m \u001b[0mnp\u001b[0m\u001b[0;34m.\u001b[0m\u001b[0marray\u001b[0m\u001b[0;34m(\u001b[0m\u001b[0;34m[\u001b[0m\u001b[0;34m\"1.25\"\u001b[0m\u001b[0;34m,\u001b[0m \u001b[0;34m\"-9.6\"\u001b[0m\u001b[0;34m,\u001b[0m \u001b[0;34m\"42\"\u001b[0m\u001b[0;34m]\u001b[0m\u001b[0;34m,\u001b[0m \u001b[0mdtype\u001b[0m\u001b[0;34m=\u001b[0m\u001b[0mnp\u001b[0m\u001b[0;34m.\u001b[0m\u001b[0mstring_\u001b[0m\u001b[0;34m)\u001b[0m\u001b[0;34m\u001b[0m\u001b[0;34m\u001b[0m\u001b[0m\n\u001b[0m\u001b[1;32m      2\u001b[0m \u001b[0mnumeric_strings\u001b[0m\u001b[0;34m.\u001b[0m\u001b[0mastype\u001b[0m\u001b[0;34m(\u001b[0m\u001b[0mfloat\u001b[0m\u001b[0;34m)\u001b[0m\u001b[0;34m\u001b[0m\u001b[0;34m\u001b[0m\u001b[0m\n",
            "\u001b[0;32m/usr/local/lib/python3.12/dist-packages/numpy/__init__.py\u001b[0m in \u001b[0;36m__getattr__\u001b[0;34m(attr)\u001b[0m\n\u001b[1;32m    395\u001b[0m \u001b[0;34m\u001b[0m\u001b[0m\n\u001b[1;32m    396\u001b[0m         \u001b[0;32mif\u001b[0m \u001b[0mattr\u001b[0m \u001b[0;32min\u001b[0m \u001b[0m__expired_attributes__\u001b[0m\u001b[0;34m:\u001b[0m\u001b[0;34m\u001b[0m\u001b[0;34m\u001b[0m\u001b[0m\n\u001b[0;32m--> 397\u001b[0;31m             raise AttributeError(\n\u001b[0m\u001b[1;32m    398\u001b[0m                 \u001b[0;34mf\"`np.{attr}` was removed in the NumPy 2.0 release. \"\u001b[0m\u001b[0;34m\u001b[0m\u001b[0;34m\u001b[0m\u001b[0m\n\u001b[1;32m    399\u001b[0m                 \u001b[0;34mf\"{__expired_attributes__[attr]}\"\u001b[0m\u001b[0;34m\u001b[0m\u001b[0;34m\u001b[0m\u001b[0m\n",
            "\u001b[0;31mAttributeError\u001b[0m: `np.string_` was removed in the NumPy 2.0 release. Use `np.bytes_` instead."
          ]
        }
      ]
    },
    {
      "cell_type": "code",
      "source": [
        "int_array = np.arange(10)\n",
        "calibers = np.array([.22, .270, .357, .380, .44, .50], dtype=np.float64)\n",
        "int_array.astype(calibers.dtype)"
      ],
      "metadata": {
        "colab": {
          "base_uri": "https://localhost:8080/"
        },
        "id": "l2aLxPjHJzF8",
        "outputId": "cd6e9feb-5e7a-4f1d-c96c-c68c9866b1e0"
      },
      "execution_count": 19,
      "outputs": [
        {
          "output_type": "execute_result",
          "data": {
            "text/plain": [
              "array([0., 1., 2., 3., 4., 5., 6., 7., 8., 9.])"
            ]
          },
          "metadata": {},
          "execution_count": 19
        }
      ]
    },
    {
      "cell_type": "code",
      "source": [
        "zeros_uint32 = np.zeros(8, dtype=\"u4\")\n",
        "zeros_uint32"
      ],
      "metadata": {
        "colab": {
          "base_uri": "https://localhost:8080/"
        },
        "id": "BCDA0JegJzDI",
        "outputId": "f22e296c-1e3c-49c1-9e55-a35b92350544"
      },
      "execution_count": 20,
      "outputs": [
        {
          "output_type": "execute_result",
          "data": {
            "text/plain": [
              "array([0, 0, 0, 0, 0, 0, 0, 0], dtype=uint32)"
            ]
          },
          "metadata": {},
          "execution_count": 20
        }
      ]
    },
    {
      "cell_type": "markdown",
      "source": [
        "###Arithmetic with NumPy Arrays"
      ],
      "metadata": {
        "id": "HyB3PHxtSuBg"
      }
    },
    {
      "cell_type": "code",
      "source": [
        "arr = np.array([[1., 2., 3.], [4., 5., 6.]])\n",
        "arr\n",
        "arr * arr\n",
        "arr - arr"
      ],
      "metadata": {
        "colab": {
          "base_uri": "https://localhost:8080/"
        },
        "id": "46fdu2DDJzAs",
        "outputId": "c86b05d6-8767-4395-ac8d-97eb32e36865"
      },
      "execution_count": 21,
      "outputs": [
        {
          "output_type": "execute_result",
          "data": {
            "text/plain": [
              "array([[0., 0., 0.],\n",
              "       [0., 0., 0.]])"
            ]
          },
          "metadata": {},
          "execution_count": 21
        }
      ]
    },
    {
      "cell_type": "code",
      "source": [
        "1 / arr\n",
        "arr ** 2"
      ],
      "metadata": {
        "colab": {
          "base_uri": "https://localhost:8080/"
        },
        "id": "PDNYOMqAJy9o",
        "outputId": "03b5b2b3-a5ce-433e-edb3-291ad60f3f82"
      },
      "execution_count": 22,
      "outputs": [
        {
          "output_type": "execute_result",
          "data": {
            "text/plain": [
              "array([[ 1.,  4.,  9.],\n",
              "       [16., 25., 36.]])"
            ]
          },
          "metadata": {},
          "execution_count": 22
        }
      ]
    },
    {
      "cell_type": "code",
      "source": [
        "arr2 = np.array([[0., 4., 1.], [7., 2., 12.]])\n",
        "arr2\n",
        "arr2 > arr"
      ],
      "metadata": {
        "colab": {
          "base_uri": "https://localhost:8080/"
        },
        "id": "l0pcsqUhJy6j",
        "outputId": "20b9eb13-8a60-4f6f-cc08-3d543cf43236"
      },
      "execution_count": 23,
      "outputs": [
        {
          "output_type": "execute_result",
          "data": {
            "text/plain": [
              "array([[False,  True, False],\n",
              "       [ True, False,  True]])"
            ]
          },
          "metadata": {},
          "execution_count": 23
        }
      ]
    },
    {
      "cell_type": "markdown",
      "source": [
        "###Basic Indexing and Slicing"
      ],
      "metadata": {
        "id": "VUnJHxP0S0q8"
      }
    },
    {
      "cell_type": "code",
      "source": [
        "arr = np.arange(10)\n",
        "arr\n",
        "arr[5]\n",
        "arr[5:8]\n",
        "arr[5:8] = 12\n",
        "arr"
      ],
      "metadata": {
        "colab": {
          "base_uri": "https://localhost:8080/"
        },
        "id": "8Y1zSU66Jy37",
        "outputId": "ff7f408e-dbc6-4257-a8ef-4ad6646e3e13"
      },
      "execution_count": 24,
      "outputs": [
        {
          "output_type": "execute_result",
          "data": {
            "text/plain": [
              "array([ 0,  1,  2,  3,  4, 12, 12, 12,  8,  9])"
            ]
          },
          "metadata": {},
          "execution_count": 24
        }
      ]
    },
    {
      "cell_type": "code",
      "source": [
        "arr_slice = arr[5:8]\n",
        "arr_slice"
      ],
      "metadata": {
        "colab": {
          "base_uri": "https://localhost:8080/"
        },
        "id": "NyuOhXAdJy1G",
        "outputId": "6f5f63aa-e17c-4304-82f8-78e311a9c443"
      },
      "execution_count": 25,
      "outputs": [
        {
          "output_type": "execute_result",
          "data": {
            "text/plain": [
              "array([12, 12, 12])"
            ]
          },
          "metadata": {},
          "execution_count": 25
        }
      ]
    },
    {
      "cell_type": "code",
      "source": [
        "arr_slice[1] = 12345\n",
        "arr"
      ],
      "metadata": {
        "colab": {
          "base_uri": "https://localhost:8080/"
        },
        "id": "_bNs3scvJyyC",
        "outputId": "5d67ac04-d5cf-4a1a-a405-52026fa942e3"
      },
      "execution_count": 26,
      "outputs": [
        {
          "output_type": "execute_result",
          "data": {
            "text/plain": [
              "array([    0,     1,     2,     3,     4,    12, 12345,    12,     8,\n",
              "           9])"
            ]
          },
          "metadata": {},
          "execution_count": 26
        }
      ]
    },
    {
      "cell_type": "code",
      "source": [
        "arr_slice[:] = 64\n",
        "arr"
      ],
      "metadata": {
        "colab": {
          "base_uri": "https://localhost:8080/"
        },
        "id": "fPJ3I0UeJyvY",
        "outputId": "f82d9c87-5e12-4a07-e57c-29584d2fe687"
      },
      "execution_count": 27,
      "outputs": [
        {
          "output_type": "execute_result",
          "data": {
            "text/plain": [
              "array([ 0,  1,  2,  3,  4, 64, 64, 64,  8,  9])"
            ]
          },
          "metadata": {},
          "execution_count": 27
        }
      ]
    },
    {
      "cell_type": "code",
      "source": [
        "arr2d = np.array([[1, 2, 3], [4, 5, 6], [7, 8, 9]])\n",
        "arr2d[2]"
      ],
      "metadata": {
        "colab": {
          "base_uri": "https://localhost:8080/"
        },
        "id": "R5I5RswdJysk",
        "outputId": "5518c5ca-085f-4639-8aa0-93a8a6643810"
      },
      "execution_count": 28,
      "outputs": [
        {
          "output_type": "execute_result",
          "data": {
            "text/plain": [
              "array([7, 8, 9])"
            ]
          },
          "metadata": {},
          "execution_count": 28
        }
      ]
    },
    {
      "cell_type": "code",
      "source": [
        "arr2d[0][2]\n",
        "arr2d[0, 2]"
      ],
      "metadata": {
        "colab": {
          "base_uri": "https://localhost:8080/"
        },
        "id": "3Mjon6bBJypp",
        "outputId": "5c16b4cd-f923-4cc8-d924-a3c4d0c1fb48"
      },
      "execution_count": 29,
      "outputs": [
        {
          "output_type": "execute_result",
          "data": {
            "text/plain": [
              "np.int64(3)"
            ]
          },
          "metadata": {},
          "execution_count": 29
        }
      ]
    },
    {
      "cell_type": "code",
      "source": [
        "arr3d = np.array([[[1, 2, 3], [4, 5, 6]], [[7, 8, 9], [10, 11, 12]]])\n",
        "arr3d"
      ],
      "metadata": {
        "colab": {
          "base_uri": "https://localhost:8080/"
        },
        "id": "Q-5Y_Q6dJym5",
        "outputId": "7067cf84-e6ef-48d6-d1bf-db58560ba81b"
      },
      "execution_count": 30,
      "outputs": [
        {
          "output_type": "execute_result",
          "data": {
            "text/plain": [
              "array([[[ 1,  2,  3],\n",
              "        [ 4,  5,  6]],\n",
              "\n",
              "       [[ 7,  8,  9],\n",
              "        [10, 11, 12]]])"
            ]
          },
          "metadata": {},
          "execution_count": 30
        }
      ]
    },
    {
      "cell_type": "code",
      "source": [
        "arr3d[0]"
      ],
      "metadata": {
        "colab": {
          "base_uri": "https://localhost:8080/"
        },
        "id": "nw3p6vIfJykB",
        "outputId": "72ce3397-52a1-473b-cd25-d9e03aa88021"
      },
      "execution_count": 31,
      "outputs": [
        {
          "output_type": "execute_result",
          "data": {
            "text/plain": [
              "array([[1, 2, 3],\n",
              "       [4, 5, 6]])"
            ]
          },
          "metadata": {},
          "execution_count": 31
        }
      ]
    },
    {
      "cell_type": "code",
      "source": [
        "old_values = arr3d[0].copy()\n",
        "arr3d[0] = 42\n",
        "arr3d\n",
        "arr3d[0] = old_values\n",
        "arr3d"
      ],
      "metadata": {
        "colab": {
          "base_uri": "https://localhost:8080/"
        },
        "id": "8V4dq0q8JyhP",
        "outputId": "bae14d3d-5bf8-4835-fcb3-f434c73bd8ae"
      },
      "execution_count": 32,
      "outputs": [
        {
          "output_type": "execute_result",
          "data": {
            "text/plain": [
              "array([[[ 1,  2,  3],\n",
              "        [ 4,  5,  6]],\n",
              "\n",
              "       [[ 7,  8,  9],\n",
              "        [10, 11, 12]]])"
            ]
          },
          "metadata": {},
          "execution_count": 32
        }
      ]
    },
    {
      "cell_type": "code",
      "source": [
        "arr3d[1, 0]"
      ],
      "metadata": {
        "colab": {
          "base_uri": "https://localhost:8080/"
        },
        "id": "AMPR7thhJyeH",
        "outputId": "0f926130-fa53-4a72-a59a-3dbe0baba2cd"
      },
      "execution_count": 33,
      "outputs": [
        {
          "output_type": "execute_result",
          "data": {
            "text/plain": [
              "array([7, 8, 9])"
            ]
          },
          "metadata": {},
          "execution_count": 33
        }
      ]
    },
    {
      "cell_type": "code",
      "source": [
        "x = arr3d[1]\n",
        "x\n",
        "x[0]"
      ],
      "metadata": {
        "colab": {
          "base_uri": "https://localhost:8080/"
        },
        "id": "TXugLj_gJybP",
        "outputId": "c2f3f29f-2386-4f6b-a64b-acd342ef28f2"
      },
      "execution_count": 34,
      "outputs": [
        {
          "output_type": "execute_result",
          "data": {
            "text/plain": [
              "array([7, 8, 9])"
            ]
          },
          "metadata": {},
          "execution_count": 34
        }
      ]
    },
    {
      "cell_type": "code",
      "source": [
        "arr\n",
        "arr[1:6]"
      ],
      "metadata": {
        "colab": {
          "base_uri": "https://localhost:8080/"
        },
        "id": "mRguggt_JyYX",
        "outputId": "be9b9024-e868-401e-df76-9f33c4dde395"
      },
      "execution_count": 35,
      "outputs": [
        {
          "output_type": "execute_result",
          "data": {
            "text/plain": [
              "array([ 1,  2,  3,  4, 64])"
            ]
          },
          "metadata": {},
          "execution_count": 35
        }
      ]
    },
    {
      "cell_type": "code",
      "source": [
        "arr2d\n",
        "arr2d[:2]"
      ],
      "metadata": {
        "colab": {
          "base_uri": "https://localhost:8080/"
        },
        "id": "TSp1FC7wJyVI",
        "outputId": "bc23a363-294c-444b-eb00-d02be17b01d6"
      },
      "execution_count": 36,
      "outputs": [
        {
          "output_type": "execute_result",
          "data": {
            "text/plain": [
              "array([[1, 2, 3],\n",
              "       [4, 5, 6]])"
            ]
          },
          "metadata": {},
          "execution_count": 36
        }
      ]
    },
    {
      "cell_type": "code",
      "source": [
        "arr2d[:2, 1:]"
      ],
      "metadata": {
        "colab": {
          "base_uri": "https://localhost:8080/"
        },
        "id": "Z8_wKXH2JySV",
        "outputId": "793056e0-ba04-440e-d0cc-8b4b4a4f36e0"
      },
      "execution_count": 37,
      "outputs": [
        {
          "output_type": "execute_result",
          "data": {
            "text/plain": [
              "array([[2, 3],\n",
              "       [5, 6]])"
            ]
          },
          "metadata": {},
          "execution_count": 37
        }
      ]
    },
    {
      "cell_type": "code",
      "source": [
        "lower_dim_slice = arr2d[1, :2]"
      ],
      "metadata": {
        "id": "axu2FL2XJyPr"
      },
      "execution_count": 38,
      "outputs": []
    },
    {
      "cell_type": "code",
      "source": [
        "lower_dim_slice.shape"
      ],
      "metadata": {
        "colab": {
          "base_uri": "https://localhost:8080/"
        },
        "id": "sxJHTmOxJyNH",
        "outputId": "4c4df93a-e522-42b1-9b8b-cd415ca2aa41"
      },
      "execution_count": 39,
      "outputs": [
        {
          "output_type": "execute_result",
          "data": {
            "text/plain": [
              "(2,)"
            ]
          },
          "metadata": {},
          "execution_count": 39
        }
      ]
    },
    {
      "cell_type": "code",
      "source": [
        "arr2d[:2, 2]"
      ],
      "metadata": {
        "colab": {
          "base_uri": "https://localhost:8080/"
        },
        "id": "NesuGjJTJx8s",
        "outputId": "0414254b-b381-4e5a-b38e-edf6e88d71cb"
      },
      "execution_count": 40,
      "outputs": [
        {
          "output_type": "execute_result",
          "data": {
            "text/plain": [
              "array([3, 6])"
            ]
          },
          "metadata": {},
          "execution_count": 40
        }
      ]
    },
    {
      "cell_type": "code",
      "source": [
        "arr2d[:, :1]"
      ],
      "metadata": {
        "colab": {
          "base_uri": "https://localhost:8080/"
        },
        "id": "sVvwtsOWJx5_",
        "outputId": "0e58f574-b39c-49a3-bf04-3390b0f4b64b"
      },
      "execution_count": 41,
      "outputs": [
        {
          "output_type": "execute_result",
          "data": {
            "text/plain": [
              "array([[1],\n",
              "       [4],\n",
              "       [7]])"
            ]
          },
          "metadata": {},
          "execution_count": 41
        }
      ]
    },
    {
      "cell_type": "code",
      "source": [
        "arr2d[:2, 1:] = 0\n",
        "arr2d"
      ],
      "metadata": {
        "colab": {
          "base_uri": "https://localhost:8080/"
        },
        "id": "lzLXYvpHJx28",
        "outputId": "f97062a8-39f8-40c9-8706-38153b765661"
      },
      "execution_count": 42,
      "outputs": [
        {
          "output_type": "execute_result",
          "data": {
            "text/plain": [
              "array([[1, 0, 0],\n",
              "       [4, 0, 0],\n",
              "       [7, 8, 9]])"
            ]
          },
          "metadata": {},
          "execution_count": 42
        }
      ]
    },
    {
      "cell_type": "markdown",
      "source": [
        "###Boolean Indexing"
      ],
      "metadata": {
        "id": "bSivvd9vTaM-"
      }
    },
    {
      "cell_type": "code",
      "source": [
        "names = np.array([\"Bob\", \"Joe\", \"Will\", \"Bob\", \"Will\", \"Joe\", \"Joe\"])\n",
        "data = np.array([[4, 7], [0, 2], [-5, 6], [0, 0], [1, 2],\n",
        "                 [-12, -4], [3, 4]])\n",
        "names\n",
        "data"
      ],
      "metadata": {
        "colab": {
          "base_uri": "https://localhost:8080/"
        },
        "id": "9Cj4xW3AJx0S",
        "outputId": "6a49db21-d969-43a0-e1b8-99803c7e2d80"
      },
      "execution_count": 43,
      "outputs": [
        {
          "output_type": "execute_result",
          "data": {
            "text/plain": [
              "array([[  4,   7],\n",
              "       [  0,   2],\n",
              "       [ -5,   6],\n",
              "       [  0,   0],\n",
              "       [  1,   2],\n",
              "       [-12,  -4],\n",
              "       [  3,   4]])"
            ]
          },
          "metadata": {},
          "execution_count": 43
        }
      ]
    },
    {
      "cell_type": "code",
      "source": [
        "names == \"Bob\""
      ],
      "metadata": {
        "colab": {
          "base_uri": "https://localhost:8080/"
        },
        "id": "HFQ4l8dTJxux",
        "outputId": "3fcdf3d1-695d-4721-9cb4-231a7d0dc587"
      },
      "execution_count": 44,
      "outputs": [
        {
          "output_type": "execute_result",
          "data": {
            "text/plain": [
              "array([ True, False, False,  True, False, False, False])"
            ]
          },
          "metadata": {},
          "execution_count": 44
        }
      ]
    },
    {
      "cell_type": "code",
      "source": [
        "data[names == \"Bob\"]"
      ],
      "metadata": {
        "colab": {
          "base_uri": "https://localhost:8080/"
        },
        "id": "neCpaI2XJxr6",
        "outputId": "4a223a91-cccf-4a03-e296-e7b5ab26c44a"
      },
      "execution_count": 45,
      "outputs": [
        {
          "output_type": "execute_result",
          "data": {
            "text/plain": [
              "array([[4, 7],\n",
              "       [0, 0]])"
            ]
          },
          "metadata": {},
          "execution_count": 45
        }
      ]
    },
    {
      "cell_type": "code",
      "source": [
        "data[names == \"Bob\", 1:]\n",
        "data[names == \"Bob\", 1]"
      ],
      "metadata": {
        "colab": {
          "base_uri": "https://localhost:8080/"
        },
        "id": "nLP2_GiEJxpd",
        "outputId": "17b0fc87-9229-4075-99cc-b5d8fd6d9303"
      },
      "execution_count": 46,
      "outputs": [
        {
          "output_type": "execute_result",
          "data": {
            "text/plain": [
              "array([7, 0])"
            ]
          },
          "metadata": {},
          "execution_count": 46
        }
      ]
    },
    {
      "cell_type": "code",
      "source": [
        "names != \"Bob\"\n",
        "~(names == \"Bob\")\n",
        "data[~(names == \"Bob\")]"
      ],
      "metadata": {
        "colab": {
          "base_uri": "https://localhost:8080/"
        },
        "id": "MFpc8Lw8Jxmo",
        "outputId": "97c1ab35-04a0-4728-d85a-de85a1c03764"
      },
      "execution_count": 47,
      "outputs": [
        {
          "output_type": "execute_result",
          "data": {
            "text/plain": [
              "array([[  0,   2],\n",
              "       [ -5,   6],\n",
              "       [  1,   2],\n",
              "       [-12,  -4],\n",
              "       [  3,   4]])"
            ]
          },
          "metadata": {},
          "execution_count": 47
        }
      ]
    },
    {
      "cell_type": "code",
      "source": [
        "cond = names == \"Bob\"\n",
        "data[~cond]"
      ],
      "metadata": {
        "colab": {
          "base_uri": "https://localhost:8080/"
        },
        "id": "RbqPO2EbJxju",
        "outputId": "632f1ec8-b493-41ee-e845-ad2edb283203"
      },
      "execution_count": 48,
      "outputs": [
        {
          "output_type": "execute_result",
          "data": {
            "text/plain": [
              "array([[  0,   2],\n",
              "       [ -5,   6],\n",
              "       [  1,   2],\n",
              "       [-12,  -4],\n",
              "       [  3,   4]])"
            ]
          },
          "metadata": {},
          "execution_count": 48
        }
      ]
    },
    {
      "cell_type": "code",
      "source": [
        "mask = (names == \"Bob\") | (names == \"Will\")\n",
        "mask\n",
        "data[mask]"
      ],
      "metadata": {
        "colab": {
          "base_uri": "https://localhost:8080/"
        },
        "id": "Hcbug_iKJxgz",
        "outputId": "dc7b4774-9331-4420-8ffd-c792b561b7c2"
      },
      "execution_count": 49,
      "outputs": [
        {
          "output_type": "execute_result",
          "data": {
            "text/plain": [
              "array([[ 4,  7],\n",
              "       [-5,  6],\n",
              "       [ 0,  0],\n",
              "       [ 1,  2]])"
            ]
          },
          "metadata": {},
          "execution_count": 49
        }
      ]
    },
    {
      "cell_type": "code",
      "source": [
        "data[data < 0] = 0\n",
        "data"
      ],
      "metadata": {
        "colab": {
          "base_uri": "https://localhost:8080/"
        },
        "id": "wNbKSdOJJxdm",
        "outputId": "7c7b7658-f700-475a-f629-11a8f36a1367"
      },
      "execution_count": 50,
      "outputs": [
        {
          "output_type": "execute_result",
          "data": {
            "text/plain": [
              "array([[4, 7],\n",
              "       [0, 2],\n",
              "       [0, 6],\n",
              "       [0, 0],\n",
              "       [1, 2],\n",
              "       [0, 0],\n",
              "       [3, 4]])"
            ]
          },
          "metadata": {},
          "execution_count": 50
        }
      ]
    },
    {
      "cell_type": "code",
      "source": [
        "data[names != \"Joe\"] = 7\n",
        "data"
      ],
      "metadata": {
        "colab": {
          "base_uri": "https://localhost:8080/"
        },
        "id": "rBhVFN_LJxSo",
        "outputId": "183d9bfb-10e0-4048-f577-50fc41185aa7"
      },
      "execution_count": 51,
      "outputs": [
        {
          "output_type": "execute_result",
          "data": {
            "text/plain": [
              "array([[7, 7],\n",
              "       [0, 2],\n",
              "       [7, 7],\n",
              "       [7, 7],\n",
              "       [7, 7],\n",
              "       [0, 0],\n",
              "       [3, 4]])"
            ]
          },
          "metadata": {},
          "execution_count": 51
        }
      ]
    },
    {
      "cell_type": "markdown",
      "source": [
        "###Fancy Indexing"
      ],
      "metadata": {
        "id": "P469bftLssTi"
      }
    },
    {
      "cell_type": "code",
      "source": [
        "arr = np.zeros((8, 4))\n",
        "for i in range(8):\n",
        "    arr[i] = i\n",
        "arr"
      ],
      "metadata": {
        "colab": {
          "base_uri": "https://localhost:8080/"
        },
        "id": "oGZw0HidLU26",
        "outputId": "ada6f5d5-9a3f-478f-80a8-eabcb2cb592a"
      },
      "execution_count": 52,
      "outputs": [
        {
          "output_type": "execute_result",
          "data": {
            "text/plain": [
              "array([[0., 0., 0., 0.],\n",
              "       [1., 1., 1., 1.],\n",
              "       [2., 2., 2., 2.],\n",
              "       [3., 3., 3., 3.],\n",
              "       [4., 4., 4., 4.],\n",
              "       [5., 5., 5., 5.],\n",
              "       [6., 6., 6., 6.],\n",
              "       [7., 7., 7., 7.]])"
            ]
          },
          "metadata": {},
          "execution_count": 52
        }
      ]
    },
    {
      "cell_type": "code",
      "source": [
        "arr[[4, 3, 0, 6]]"
      ],
      "metadata": {
        "colab": {
          "base_uri": "https://localhost:8080/"
        },
        "id": "Gve5NzT2LUzz",
        "outputId": "aae97a1a-6321-4d2e-c74a-2f3f11aa2a88"
      },
      "execution_count": 53,
      "outputs": [
        {
          "output_type": "execute_result",
          "data": {
            "text/plain": [
              "array([[4., 4., 4., 4.],\n",
              "       [3., 3., 3., 3.],\n",
              "       [0., 0., 0., 0.],\n",
              "       [6., 6., 6., 6.]])"
            ]
          },
          "metadata": {},
          "execution_count": 53
        }
      ]
    },
    {
      "cell_type": "code",
      "source": [
        "arr[[-3, -5, -7]]"
      ],
      "metadata": {
        "colab": {
          "base_uri": "https://localhost:8080/"
        },
        "id": "3aYDAkn7LUwa",
        "outputId": "abab57ab-6b5c-466d-d3d4-6acea6168afd"
      },
      "execution_count": 54,
      "outputs": [
        {
          "output_type": "execute_result",
          "data": {
            "text/plain": [
              "array([[5., 5., 5., 5.],\n",
              "       [3., 3., 3., 3.],\n",
              "       [1., 1., 1., 1.]])"
            ]
          },
          "metadata": {},
          "execution_count": 54
        }
      ]
    },
    {
      "cell_type": "markdown",
      "source": [
        "###Transposing Arrays and Swapping Axes"
      ],
      "metadata": {
        "id": "dnZkQIE1ubDw"
      }
    },
    {
      "cell_type": "code",
      "source": [
        "arr = np.arange(32).reshape((8, 4))\n",
        "arr\n",
        "arr[[1, 5, 7, 2], [0, 3, 1, 2]]"
      ],
      "metadata": {
        "colab": {
          "base_uri": "https://localhost:8080/"
        },
        "id": "FceUR_5oLUsv",
        "outputId": "dc93c1b3-9c98-4f62-e54c-4be6959f8b9e"
      },
      "execution_count": 55,
      "outputs": [
        {
          "output_type": "execute_result",
          "data": {
            "text/plain": [
              "array([ 4, 23, 29, 10])"
            ]
          },
          "metadata": {},
          "execution_count": 55
        }
      ]
    },
    {
      "cell_type": "code",
      "source": [
        "arr[[1, 5, 7, 2]][:, [0, 3, 1, 2]]"
      ],
      "metadata": {
        "colab": {
          "base_uri": "https://localhost:8080/"
        },
        "id": "YLhEeb2YLUpV",
        "outputId": "1bb99a42-5894-46c0-e4f9-d63b0c941dbc"
      },
      "execution_count": 56,
      "outputs": [
        {
          "output_type": "execute_result",
          "data": {
            "text/plain": [
              "array([[ 4,  7,  5,  6],\n",
              "       [20, 23, 21, 22],\n",
              "       [28, 31, 29, 30],\n",
              "       [ 8, 11,  9, 10]])"
            ]
          },
          "metadata": {},
          "execution_count": 56
        }
      ]
    },
    {
      "cell_type": "code",
      "source": [
        "arr[[1, 5, 7, 2], [0, 3, 1, 2]]\n",
        "arr[[1, 5, 7, 2], [0, 3, 1, 2]] = 0\n",
        "arr"
      ],
      "metadata": {
        "colab": {
          "base_uri": "https://localhost:8080/"
        },
        "id": "fA2WElP8LUl4",
        "outputId": "8905340d-574d-48c2-d68b-7fba0d8b72af"
      },
      "execution_count": 57,
      "outputs": [
        {
          "output_type": "execute_result",
          "data": {
            "text/plain": [
              "array([[ 0,  1,  2,  3],\n",
              "       [ 0,  5,  6,  7],\n",
              "       [ 8,  9,  0, 11],\n",
              "       [12, 13, 14, 15],\n",
              "       [16, 17, 18, 19],\n",
              "       [20, 21, 22,  0],\n",
              "       [24, 25, 26, 27],\n",
              "       [28,  0, 30, 31]])"
            ]
          },
          "metadata": {},
          "execution_count": 57
        }
      ]
    },
    {
      "cell_type": "code",
      "source": [
        "arr = np.arange(15).reshape((3, 5))\n",
        "arr\n",
        "arr.T"
      ],
      "metadata": {
        "colab": {
          "base_uri": "https://localhost:8080/"
        },
        "id": "E4I2FbR7LUil",
        "outputId": "fb2c2731-a908-4146-f814-0a4ec72bb29d"
      },
      "execution_count": 58,
      "outputs": [
        {
          "output_type": "execute_result",
          "data": {
            "text/plain": [
              "array([[ 0,  5, 10],\n",
              "       [ 1,  6, 11],\n",
              "       [ 2,  7, 12],\n",
              "       [ 3,  8, 13],\n",
              "       [ 4,  9, 14]])"
            ]
          },
          "metadata": {},
          "execution_count": 58
        }
      ]
    },
    {
      "cell_type": "code",
      "source": [
        "arr = np.array([[0, 1, 0], [1, 2, -2], [6, 3, 2], [-1, 0, -1], [1, 0, 1]])\n",
        "arr\n",
        "np.dot(arr.T, arr)"
      ],
      "metadata": {
        "colab": {
          "base_uri": "https://localhost:8080/"
        },
        "id": "aKvwAjcULUfE",
        "outputId": "e0de15a3-5ac0-4f4d-f08d-719acbc405da"
      },
      "execution_count": 59,
      "outputs": [
        {
          "output_type": "execute_result",
          "data": {
            "text/plain": [
              "array([[39, 20, 12],\n",
              "       [20, 14,  2],\n",
              "       [12,  2, 10]])"
            ]
          },
          "metadata": {},
          "execution_count": 59
        }
      ]
    },
    {
      "cell_type": "code",
      "source": [
        "arr.T @ arr"
      ],
      "metadata": {
        "colab": {
          "base_uri": "https://localhost:8080/"
        },
        "id": "rbVwqYHULUas",
        "outputId": "957f0d0c-d75c-40db-f50d-52ee4a90b25e"
      },
      "execution_count": 60,
      "outputs": [
        {
          "output_type": "execute_result",
          "data": {
            "text/plain": [
              "array([[39, 20, 12],\n",
              "       [20, 14,  2],\n",
              "       [12,  2, 10]])"
            ]
          },
          "metadata": {},
          "execution_count": 60
        }
      ]
    },
    {
      "cell_type": "code",
      "source": [
        "arr\n",
        "arr.swapaxes(0, 1)"
      ],
      "metadata": {
        "colab": {
          "base_uri": "https://localhost:8080/"
        },
        "id": "BLdiiMU1LUXY",
        "outputId": "f1684aaa-d938-4056-90c0-ff3e133aab3f"
      },
      "execution_count": 61,
      "outputs": [
        {
          "output_type": "execute_result",
          "data": {
            "text/plain": [
              "array([[ 0,  1,  6, -1,  1],\n",
              "       [ 1,  2,  3,  0,  0],\n",
              "       [ 0, -2,  2, -1,  1]])"
            ]
          },
          "metadata": {},
          "execution_count": 61
        }
      ]
    },
    {
      "cell_type": "markdown",
      "source": [
        "##Pseudorandom Number Generation"
      ],
      "metadata": {
        "id": "zuxk5qYIug8T"
      }
    },
    {
      "cell_type": "code",
      "source": [
        "samples = np.random.standard_normal(size=(4, 4))\n",
        "samples"
      ],
      "metadata": {
        "colab": {
          "base_uri": "https://localhost:8080/"
        },
        "id": "Qlx7U9Z3LUTL",
        "outputId": "da978228-ee93-4edd-e5f0-5331e2f3a138"
      },
      "execution_count": 62,
      "outputs": [
        {
          "output_type": "execute_result",
          "data": {
            "text/plain": [
              "array([[-0.2047,  0.4789, -0.5194, -0.5557],\n",
              "       [ 1.9658,  1.3934,  0.0929,  0.2817],\n",
              "       [ 0.769 ,  1.2464,  1.0072, -1.2962],\n",
              "       [ 0.275 ,  0.2289,  1.3529,  0.8864]])"
            ]
          },
          "metadata": {},
          "execution_count": 62
        }
      ]
    },
    {
      "cell_type": "code",
      "source": [
        "from random import normalvariate\n",
        "N = 1_000_000\n",
        "%timeit samples = [normalvariate(0, 1) for _ in range(N)]\n",
        "%timeit np.random.standard_normal(N)"
      ],
      "metadata": {
        "colab": {
          "base_uri": "https://localhost:8080/"
        },
        "id": "egH2KSjiLUP-",
        "outputId": "00f65e3e-2438-47a3-f6a3-81dd51c6d8c5"
      },
      "execution_count": 63,
      "outputs": [
        {
          "output_type": "stream",
          "name": "stdout",
          "text": [
            "733 ms ± 259 ms per loop (mean ± std. dev. of 7 runs, 1 loop each)\n",
            "32 ms ± 7.15 ms per loop (mean ± std. dev. of 7 runs, 10 loops each)\n"
          ]
        }
      ]
    },
    {
      "cell_type": "code",
      "source": [
        "rng = np.random.default_rng(seed=12345)\n",
        "data = rng.standard_normal((2, 3))"
      ],
      "metadata": {
        "id": "oIDOa9TKLUMz"
      },
      "execution_count": 64,
      "outputs": []
    },
    {
      "cell_type": "code",
      "source": [
        "type(rng)"
      ],
      "metadata": {
        "colab": {
          "base_uri": "https://localhost:8080/"
        },
        "id": "sBVR2FQOLUKA",
        "outputId": "5288d561-f23f-4601-9bde-02584e8382f5"
      },
      "execution_count": 65,
      "outputs": [
        {
          "output_type": "execute_result",
          "data": {
            "text/plain": [
              "numpy.random._generator.Generator"
            ]
          },
          "metadata": {},
          "execution_count": 65
        }
      ]
    },
    {
      "cell_type": "markdown",
      "source": [
        "##Universal Functions: Fast Element-Wise Array Functions"
      ],
      "metadata": {
        "id": "14yRJ5bOumlH"
      }
    },
    {
      "cell_type": "code",
      "source": [
        "arr = np.arange(10)\n",
        "arr\n",
        "np.sqrt(arr)\n",
        "np.exp(arr)"
      ],
      "metadata": {
        "colab": {
          "base_uri": "https://localhost:8080/"
        },
        "id": "a7sbQJoqLUGa",
        "outputId": "9058fced-fd2e-4cf5-b016-34a903a0372f"
      },
      "execution_count": 66,
      "outputs": [
        {
          "output_type": "execute_result",
          "data": {
            "text/plain": [
              "array([   1.    ,    2.7183,    7.3891,   20.0855,   54.5982,  148.4132,\n",
              "        403.4288, 1096.6332, 2980.958 , 8103.0839])"
            ]
          },
          "metadata": {},
          "execution_count": 66
        }
      ]
    },
    {
      "cell_type": "code",
      "source": [
        "x = rng.standard_normal(8)\n",
        "y = rng.standard_normal(8)\n",
        "x\n",
        "y\n",
        "np.maximum(x, y)"
      ],
      "metadata": {
        "colab": {
          "base_uri": "https://localhost:8080/"
        },
        "id": "FHEZRjlRLUB_",
        "outputId": "c2cba313-d3b1-4858-f879-b4ca56ff8fb7"
      },
      "execution_count": 67,
      "outputs": [
        {
          "output_type": "execute_result",
          "data": {
            "text/plain": [
              "array([-0.467 ,  0.6489,  0.7888, -1.2567,  2.3474,  1.399 ,  1.3223,\n",
              "        0.9022])"
            ]
          },
          "metadata": {},
          "execution_count": 67
        }
      ]
    },
    {
      "cell_type": "code",
      "source": [
        "arr = rng.standard_normal(7) * 5\n",
        "arr\n",
        "remainder, whole_part = np.modf(arr)\n",
        "remainder\n",
        "whole_part"
      ],
      "metadata": {
        "colab": {
          "base_uri": "https://localhost:8080/"
        },
        "id": "cYkpkAaULT8k",
        "outputId": "aed57753-8f45-4a64-9cf0-b78ae98a429e"
      },
      "execution_count": 68,
      "outputs": [
        {
          "output_type": "execute_result",
          "data": {
            "text/plain": [
              "array([ 4., -8., -0.,  2., -6., -0.,  8.])"
            ]
          },
          "metadata": {},
          "execution_count": 68
        }
      ]
    },
    {
      "cell_type": "code",
      "source": [
        "arr\n",
        "out = np.zeros_like(arr)\n",
        "np.add(arr, 1)\n",
        "np.add(arr, 1, out=out)\n",
        "out"
      ],
      "metadata": {
        "colab": {
          "base_uri": "https://localhost:8080/"
        },
        "id": "cU9Y7JTsLT5S",
        "outputId": "4a53f73b-13cc-49f9-f055-3f3b0a28f891"
      },
      "execution_count": 69,
      "outputs": [
        {
          "output_type": "execute_result",
          "data": {
            "text/plain": [
              "array([ 5.5146, -7.1079,  0.2091,  3.2474, -5.718 ,  0.5916,  9.6237])"
            ]
          },
          "metadata": {},
          "execution_count": 69
        }
      ]
    },
    {
      "cell_type": "markdown",
      "source": [
        "##Array-Oriented Programming with Arrays\n"
      ],
      "metadata": {
        "id": "QHgHvvbtu0Wa"
      }
    },
    {
      "cell_type": "code",
      "source": [
        "points = np.arange(-5, 5, 0.01) # 100 equally spaced points\n",
        "xs, ys = np.meshgrid(points, points)\n",
        "ys"
      ],
      "metadata": {
        "colab": {
          "base_uri": "https://localhost:8080/"
        },
        "id": "uZ25orH3LT12",
        "outputId": "cc6513d7-d2a1-41e0-cf34-c847d29fcf9c"
      },
      "execution_count": 70,
      "outputs": [
        {
          "output_type": "execute_result",
          "data": {
            "text/plain": [
              "array([[-5.  , -5.  , -5.  , ..., -5.  , -5.  , -5.  ],\n",
              "       [-4.99, -4.99, -4.99, ..., -4.99, -4.99, -4.99],\n",
              "       [-4.98, -4.98, -4.98, ..., -4.98, -4.98, -4.98],\n",
              "       ...,\n",
              "       [ 4.97,  4.97,  4.97, ...,  4.97,  4.97,  4.97],\n",
              "       [ 4.98,  4.98,  4.98, ...,  4.98,  4.98,  4.98],\n",
              "       [ 4.99,  4.99,  4.99, ...,  4.99,  4.99,  4.99]])"
            ]
          },
          "metadata": {},
          "execution_count": 70
        }
      ]
    },
    {
      "cell_type": "code",
      "source": [
        "z = np.sqrt(xs ** 2 + ys ** 2)\n",
        "z"
      ],
      "metadata": {
        "colab": {
          "base_uri": "https://localhost:8080/"
        },
        "id": "Mgq9msU0LTyh",
        "outputId": "fc855910-8db0-4566-8a86-5f3d2beecd6c"
      },
      "execution_count": 71,
      "outputs": [
        {
          "output_type": "execute_result",
          "data": {
            "text/plain": [
              "array([[7.0711, 7.064 , 7.0569, ..., 7.0499, 7.0569, 7.064 ],\n",
              "       [7.064 , 7.0569, 7.0499, ..., 7.0428, 7.0499, 7.0569],\n",
              "       [7.0569, 7.0499, 7.0428, ..., 7.0357, 7.0428, 7.0499],\n",
              "       ...,\n",
              "       [7.0499, 7.0428, 7.0357, ..., 7.0286, 7.0357, 7.0428],\n",
              "       [7.0569, 7.0499, 7.0428, ..., 7.0357, 7.0428, 7.0499],\n",
              "       [7.064 , 7.0569, 7.0499, ..., 7.0428, 7.0499, 7.0569]])"
            ]
          },
          "metadata": {},
          "execution_count": 71
        }
      ]
    },
    {
      "cell_type": "code",
      "source": [
        "import matplotlib.pyplot as plt\n",
        "plt.imshow(z, cmap=plt.cm.gray, extent=[-5, 5, -5, 5])\n",
        "plt.colorbar()\n",
        "plt.title(\"Image plot of $\\sqrt{x^2 + y^2}$ for a grid of values\")"
      ],
      "metadata": {
        "colab": {
          "base_uri": "https://localhost:8080/",
          "height": 646
        },
        "id": "njaOybEyLTuy",
        "outputId": "ba30e4db-dbd3-411d-ba48-407b6df34261"
      },
      "execution_count": 72,
      "outputs": [
        {
          "output_type": "stream",
          "name": "stderr",
          "text": [
            "<>:4: SyntaxWarning: invalid escape sequence '\\s'\n",
            "<>:4: SyntaxWarning: invalid escape sequence '\\s'\n",
            "/tmp/ipython-input-1149770671.py:4: SyntaxWarning: invalid escape sequence '\\s'\n",
            "  plt.title(\"Image plot of $\\sqrt{x^2 + y^2}$ for a grid of values\")\n"
          ]
        },
        {
          "output_type": "execute_result",
          "data": {
            "text/plain": [
              "Text(0.5, 1.0, 'Image plot of $\\\\sqrt{x^2 + y^2}$ for a grid of values')"
            ]
          },
          "metadata": {},
          "execution_count": 72
        },
        {
          "output_type": "display_data",
          "data": {
            "text/plain": [
              "<Figure size 1000x600 with 2 Axes>"
            ],
            "image/png": "[encoded data removed]"
          },
          "metadata": {}
        }
      ]
    },
    {
      "cell_type": "code",
      "source": [
        "plt.draw()"
      ],
      "metadata": {
        "colab": {
          "base_uri": "https://localhost:8080/",
          "height": 35
        },
        "id": "TaBOHTcZLTrL",
        "outputId": "af85791f-896c-43f2-8fea-ead11cfd4f08"
      },
      "execution_count": 73,
      "outputs": [
        {
          "output_type": "display_data",
          "data": {
            "text/plain": [
              "<Figure size 1000x600 with 0 Axes>"
            ]
          },
          "metadata": {}
        }
      ]
    },
    {
      "cell_type": "code",
      "source": [
        "plt.close(\"all\")"
      ],
      "metadata": {
        "id": "kWSmW1BfLTn8"
      },
      "execution_count": 74,
      "outputs": []
    },
    {
      "cell_type": "markdown",
      "source": [
        "###Expressing Conditional Logic as Array Operations"
      ],
      "metadata": {
        "id": "ieVInR7Fu8o0"
      }
    },
    {
      "cell_type": "code",
      "source": [
        "xarr = np.array([1.1, 1.2, 1.3, 1.4, 1.5])\n",
        "yarr = np.array([2.1, 2.2, 2.3, 2.4, 2.5])\n",
        "cond = np.array([True, False, True, True, False])"
      ],
      "metadata": {
        "id": "LNUKELSwLTk1"
      },
      "execution_count": 75,
      "outputs": []
    },
    {
      "cell_type": "code",
      "source": [
        "result = [(x if c else y)\n",
        "          for x, y, c in zip(xarr, yarr, cond)]\n",
        "result"
      ],
      "metadata": {
        "colab": {
          "base_uri": "https://localhost:8080/"
        },
        "id": "eFUVuPKXLTh6",
        "outputId": "94c7e2fb-4bc3-414b-b869-2c76e9aa0525"
      },
      "execution_count": 76,
      "outputs": [
        {
          "output_type": "execute_result",
          "data": {
            "text/plain": [
              "[np.float64(1.1),\n",
              " np.float64(2.2),\n",
              " np.float64(1.3),\n",
              " np.float64(1.4),\n",
              " np.float64(2.5)]"
            ]
          },
          "metadata": {},
          "execution_count": 76
        }
      ]
    },
    {
      "cell_type": "code",
      "source": [
        "result = np.where(cond, xarr, yarr)\n",
        "result"
      ],
      "metadata": {
        "colab": {
          "base_uri": "https://localhost:8080/"
        },
        "id": "_4O85LV6LTeg",
        "outputId": "7b7c053a-e77a-4fb8-b650-ab76c91133ce"
      },
      "execution_count": 77,
      "outputs": [
        {
          "output_type": "execute_result",
          "data": {
            "text/plain": [
              "array([1.1, 2.2, 1.3, 1.4, 2.5])"
            ]
          },
          "metadata": {},
          "execution_count": 77
        }
      ]
    },
    {
      "cell_type": "code",
      "source": [
        "arr = rng.standard_normal((4, 4))\n",
        "arr\n",
        "arr > 0\n",
        "np.where(arr > 0, 2, -2)"
      ],
      "metadata": {
        "colab": {
          "base_uri": "https://localhost:8080/"
        },
        "id": "XA17yBDZLTbb",
        "outputId": "6a8c2fda-a879-4a2a-b845-c6b0074cfdde"
      },
      "execution_count": 78,
      "outputs": [
        {
          "output_type": "execute_result",
          "data": {
            "text/plain": [
              "array([[ 2,  2,  2, -2],\n",
              "       [-2, -2,  2,  2],\n",
              "       [-2, -2,  2,  2],\n",
              "       [-2,  2, -2, -2]])"
            ]
          },
          "metadata": {},
          "execution_count": 78
        }
      ]
    },
    {
      "cell_type": "code",
      "source": [
        "np.where(arr > 0, 2, arr) # set only positive values to 2"
      ],
      "metadata": {
        "colab": {
          "base_uri": "https://localhost:8080/"
        },
        "id": "BbYnvPLbLTYL",
        "outputId": "f35c4435-b1d6-40c0-8b93-0a142dff7127"
      },
      "execution_count": 79,
      "outputs": [
        {
          "output_type": "execute_result",
          "data": {
            "text/plain": [
              "array([[ 2.    ,  2.    ,  2.    , -0.959 ],\n",
              "       [-1.2094, -1.4123,  2.    ,  2.    ],\n",
              "       [-0.6588, -1.2287,  2.    ,  2.    ],\n",
              "       [-0.1308,  2.    , -0.093 , -0.0662]])"
            ]
          },
          "metadata": {},
          "execution_count": 79
        }
      ]
    },
    {
      "cell_type": "markdown",
      "source": [
        "###Mathematical and Statistical Methods"
      ],
      "metadata": {
        "id": "pF7cGOStvEkq"
      }
    },
    {
      "cell_type": "code",
      "source": [
        "arr = rng.standard_normal((5, 4))\n",
        "arr\n",
        "arr.mean()\n",
        "np.mean(arr)\n",
        "arr.sum()"
      ],
      "metadata": {
        "colab": {
          "base_uri": "https://localhost:8080/"
        },
        "id": "H7HbKq0JLTVI",
        "outputId": "be71d9eb-bdb4-443a-e372-2e41ea6d9bbe"
      },
      "execution_count": 80,
      "outputs": [
        {
          "output_type": "execute_result",
          "data": {
            "text/plain": [
              "np.float64(-1.743948891486906)"
            ]
          },
          "metadata": {},
          "execution_count": 80
        }
      ]
    },
    {
      "cell_type": "code",
      "source": [
        "arr.mean(axis=1)\n",
        "arr.sum(axis=0)"
      ],
      "metadata": {
        "colab": {
          "base_uri": "https://localhost:8080/"
        },
        "id": "pxrZ_l5xLTRt",
        "outputId": "e0db5185-c802-4d4c-e2a1-c36488ef0408"
      },
      "execution_count": 81,
      "outputs": [
        {
          "output_type": "execute_result",
          "data": {
            "text/plain": [
              "array([-1.6292,  1.0399, -0.3344, -0.8203])"
            ]
          },
          "metadata": {},
          "execution_count": 81
        }
      ]
    },
    {
      "cell_type": "code",
      "source": [
        "arr = np.array([0, 1, 2, 3, 4, 5, 6, 7])\n",
        "arr.cumsum()"
      ],
      "metadata": {
        "colab": {
          "base_uri": "https://localhost:8080/"
        },
        "id": "1ZCAlOLOLTNk",
        "outputId": "ff65223e-83e8-449d-d2cb-f6de1b7169ec"
      },
      "execution_count": 82,
      "outputs": [
        {
          "output_type": "execute_result",
          "data": {
            "text/plain": [
              "array([ 0,  1,  3,  6, 10, 15, 21, 28])"
            ]
          },
          "metadata": {},
          "execution_count": 82
        }
      ]
    },
    {
      "cell_type": "code",
      "source": [
        "arr = np.array([[0, 1, 2], [3, 4, 5], [6, 7, 8]])\n",
        "arr"
      ],
      "metadata": {
        "colab": {
          "base_uri": "https://localhost:8080/"
        },
        "id": "PiYkTeNkLTKf",
        "outputId": "b5a27089-a682-45e2-dc64-97775c9b481e"
      },
      "execution_count": 83,
      "outputs": [
        {
          "output_type": "execute_result",
          "data": {
            "text/plain": [
              "array([[0, 1, 2],\n",
              "       [3, 4, 5],\n",
              "       [6, 7, 8]])"
            ]
          },
          "metadata": {},
          "execution_count": 83
        }
      ]
    },
    {
      "cell_type": "code",
      "source": [
        "arr.cumsum(axis=0)\n",
        "arr.cumsum(axis=1)"
      ],
      "metadata": {
        "colab": {
          "base_uri": "https://localhost:8080/"
        },
        "id": "ULANWlbDLTHQ",
        "outputId": "8b5ea56c-45c2-4f11-daae-36331060bb25"
      },
      "execution_count": 84,
      "outputs": [
        {
          "output_type": "execute_result",
          "data": {
            "text/plain": [
              "array([[ 0,  1,  3],\n",
              "       [ 3,  7, 12],\n",
              "       [ 6, 13, 21]])"
            ]
          },
          "metadata": {},
          "execution_count": 84
        }
      ]
    },
    {
      "cell_type": "markdown",
      "source": [
        "###Methods for Boolean Arrays"
      ],
      "metadata": {
        "id": "aVyfcKxmv9gF"
      }
    },
    {
      "cell_type": "code",
      "source": [
        "arr = rng.standard_normal(100)\n",
        "(arr > 0).sum() # Number of positive values\n",
        "(arr <= 0).sum() # Number of non-positive values"
      ],
      "metadata": {
        "colab": {
          "base_uri": "https://localhost:8080/"
        },
        "id": "-Y_sjUWQLTEa",
        "outputId": "60e2fce2-0675-4d3a-b066-8cfffda1e03f"
      },
      "execution_count": 85,
      "outputs": [
        {
          "output_type": "execute_result",
          "data": {
            "text/plain": [
              "np.int64(52)"
            ]
          },
          "metadata": {},
          "execution_count": 85
        }
      ]
    },
    {
      "cell_type": "code",
      "source": [
        "bools = np.array([False, False, True, False])\n",
        "bools.any()\n",
        "bools.all()"
      ],
      "metadata": {
        "colab": {
          "base_uri": "https://localhost:8080/"
        },
        "id": "Er9mvjaOLTBh",
        "outputId": "f5c670ec-0fb8-4630-8d16-7f69bd381f1f"
      },
      "execution_count": 86,
      "outputs": [
        {
          "output_type": "execute_result",
          "data": {
            "text/plain": [
              "np.False_"
            ]
          },
          "metadata": {},
          "execution_count": 86
        }
      ]
    },
    {
      "cell_type": "markdown",
      "source": [
        "###Sorting"
      ],
      "metadata": {
        "id": "SJkiZfrNwBR_"
      }
    },
    {
      "cell_type": "code",
      "source": [
        "arr = rng.standard_normal(6)\n",
        "arr\n",
        "arr.sort()\n",
        "arr"
      ],
      "metadata": {
        "colab": {
          "base_uri": "https://localhost:8080/"
        },
        "id": "qAHpEbcsLS-k",
        "outputId": "4491f904-e69d-490d-be3b-28a62e4906de"
      },
      "execution_count": 88,
      "outputs": [
        {
          "output_type": "execute_result",
          "data": {
            "text/plain": [
              "array([-2.0528, -0.0279,  0.3805,  0.6384,  0.7554,  1.3711])"
            ]
          },
          "metadata": {},
          "execution_count": 88
        }
      ]
    },
    {
      "cell_type": "code",
      "source": [
        "arr = rng.standard_normal((5, 3))\n",
        "arr"
      ],
      "metadata": {
        "colab": {
          "base_uri": "https://localhost:8080/"
        },
        "id": "cC2PstKhLS7J",
        "outputId": "79778ec6-76ed-4daa-e850-5b68c9a08c50"
      },
      "execution_count": 87,
      "outputs": [
        {
          "output_type": "execute_result",
          "data": {
            "text/plain": [
              "array([[ 0.0773, -0.6839, -0.7208],\n",
              "       [ 1.1206, -0.0548, -0.0824],\n",
              "       [ 0.936 ,  1.2385,  1.2728],\n",
              "       [ 0.4059, -0.0503,  0.2893],\n",
              "       [ 0.1793,  1.3975,  0.292 ]])"
            ]
          },
          "metadata": {},
          "execution_count": 87
        }
      ]
    },
    {
      "cell_type": "code",
      "source": [
        "arr.sort(axis=0)\n",
        "arr\n"
      ],
      "metadata": {
        "colab": {
          "base_uri": "https://localhost:8080/"
        },
        "id": "Xwj8EqcLLS4S",
        "outputId": "b4f310c9-4ca5-40c8-d064-9927579a58f4"
      },
      "execution_count": 90,
      "outputs": [
        {
          "output_type": "execute_result",
          "data": {
            "text/plain": [
              "array([-2.0528, -0.0279,  0.3805,  0.6384,  0.7554,  1.3711])"
            ]
          },
          "metadata": {},
          "execution_count": 90
        }
      ]
    },
    {
      "cell_type": "code",
      "source": [
        "arr2 = np.array([5, -10, 7, 1, 0, -3])\n",
        "sorted_arr2 = np.sort(arr2)\n",
        "sorted_arr2"
      ],
      "metadata": {
        "colab": {
          "base_uri": "https://localhost:8080/"
        },
        "id": "kA3EokWILS0q",
        "outputId": "8905d580-5f78-4fce-89e8-30f5a7184629"
      },
      "execution_count": 92,
      "outputs": [
        {
          "output_type": "execute_result",
          "data": {
            "text/plain": [
              "array([-10,  -3,   0,   1,   5,   7])"
            ]
          },
          "metadata": {},
          "execution_count": 92
        }
      ]
    },
    {
      "cell_type": "markdown",
      "source": [
        "###Unique and Other Set Logic"
      ],
      "metadata": {
        "id": "ark0UN_GwQGQ"
      }
    },
    {
      "cell_type": "code",
      "source": [
        "names = np.array([\"Bob\", \"Will\", \"Joe\", \"Bob\", \"Will\", \"Joe\", \"Joe\"])\n",
        "np.unique(names)\n",
        "ints = np.array([3, 3, 3, 2, 2, 1, 1, 4, 4])\n",
        "np.unique(ints)"
      ],
      "metadata": {
        "colab": {
          "base_uri": "https://localhost:8080/"
        },
        "id": "nrCfXao_LSxG",
        "outputId": "4bb0ed85-bfe5-459d-f6c4-2d8d20508dd4"
      },
      "execution_count": 93,
      "outputs": [
        {
          "output_type": "execute_result",
          "data": {
            "text/plain": [
              "array([1, 2, 3, 4])"
            ]
          },
          "metadata": {},
          "execution_count": 93
        }
      ]
    },
    {
      "cell_type": "code",
      "source": [
        "sorted(set(names))"
      ],
      "metadata": {
        "colab": {
          "base_uri": "https://localhost:8080/"
        },
        "id": "tdyb1m10LStO",
        "outputId": "4a6f1ffb-816f-4cbe-a97d-290c4b29af4e"
      },
      "execution_count": 94,
      "outputs": [
        {
          "output_type": "execute_result",
          "data": {
            "text/plain": [
              "[np.str_('Bob'), np.str_('Joe'), np.str_('Will')]"
            ]
          },
          "metadata": {},
          "execution_count": 94
        }
      ]
    },
    {
      "cell_type": "code",
      "source": [
        "values = np.array([6, 0, 0, 3, 2, 5, 6])\n",
        "np.in1d(values, [2, 3, 6])"
      ],
      "metadata": {
        "colab": {
          "base_uri": "https://localhost:8080/"
        },
        "id": "cuwElEODLSpY",
        "outputId": "e5157a1c-bf1a-4067-cb23-adafc5251d68"
      },
      "execution_count": 95,
      "outputs": [
        {
          "output_type": "stream",
          "name": "stderr",
          "text": [
            "/tmp/ipython-input-1293837718.py:2: DeprecationWarning: `in1d` is deprecated. Use `np.isin` instead.\n",
            "  np.in1d(values, [2, 3, 6])\n"
          ]
        },
        {
          "output_type": "execute_result",
          "data": {
            "text/plain": [
              "array([ True, False, False,  True,  True, False,  True])"
            ]
          },
          "metadata": {},
          "execution_count": 95
        }
      ]
    },
    {
      "cell_type": "markdown",
      "source": [
        "##File Input and Output with Arrays"
      ],
      "metadata": {
        "id": "qz3fsXmTwa5f"
      }
    },
    {
      "cell_type": "code",
      "source": [
        "arr = np.arange(10)\n",
        "np.save(\"some_array\", arr)"
      ],
      "metadata": {
        "id": "37HdhTj5LSl9"
      },
      "execution_count": 100,
      "outputs": []
    },
    {
      "cell_type": "code",
      "source": [
        "np.load(\"some_array.npy\")"
      ],
      "metadata": {
        "colab": {
          "base_uri": "https://localhost:8080/"
        },
        "id": "wwkULJDZLSiE",
        "outputId": "e93a1bc3-ae17-4788-d262-6ac3de2af1eb"
      },
      "execution_count": 97,
      "outputs": [
        {
          "output_type": "execute_result",
          "data": {
            "text/plain": [
              "array([0, 1, 2, 3, 4, 5, 6, 7, 8, 9])"
            ]
          },
          "metadata": {},
          "execution_count": 97
        }
      ]
    },
    {
      "cell_type": "code",
      "source": [
        "np.savez(\"array_archive.npz\", a=arr, b=arr)"
      ],
      "metadata": {
        "id": "h90AA2CALSc2"
      },
      "execution_count": 101,
      "outputs": []
    },
    {
      "cell_type": "code",
      "source": [
        "arch = np.load(\"array_archive.npz\")\n",
        "arch[\"b\"]"
      ],
      "metadata": {
        "colab": {
          "base_uri": "https://localhost:8080/"
        },
        "id": "YXThLwfMLSY0",
        "outputId": "01ee46bb-7374-4bb8-a09f-d8c3b1de2638"
      },
      "execution_count": 99,
      "outputs": [
        {
          "output_type": "execute_result",
          "data": {
            "text/plain": [
              "array([0, 1, 2, 3, 4, 5, 6, 7, 8, 9])"
            ]
          },
          "metadata": {},
          "execution_count": 99
        }
      ]
    },
    {
      "cell_type": "code",
      "source": [
        "np.savez_compressed(\"arrays_compressed.npz\", a=arr, b=arr)"
      ],
      "metadata": {
        "id": "6QcQvHzkLSU1"
      },
      "execution_count": 102,
      "outputs": []
    },
    {
      "cell_type": "code",
      "source": [
        "!rm some_array.npy\n",
        "!rm array_archive.npz\n",
        "!rm arrays_compressed.npz"
      ],
      "metadata": {
        "id": "FqtFPb_RLSLg"
      },
      "execution_count": null,
      "outputs": []
    },
    {
      "cell_type": "code",
      "source": [
        "np.dot(x, y)"
      ],
      "metadata": {
        "colab": {
          "base_uri": "https://localhost:8080/"
        },
        "id": "rKPhOh8TLSHm",
        "outputId": "18af3e34-5162-4b39-c369-88a7fb7d59d9"
      },
      "execution_count": 103,
      "outputs": [
        {
          "output_type": "execute_result",
          "data": {
            "text/plain": [
              "np.float64(4.770390217998285)"
            ]
          },
          "metadata": {},
          "execution_count": 103
        }
      ]
    },
    {
      "cell_type": "markdown",
      "source": [
        "##Linear Algebra"
      ],
      "metadata": {
        "id": "WprPFwRqxLm_"
      }
    },
    {
      "cell_type": "code",
      "source": [
        "from numpy.linalg import inv, qr\n",
        "X = rng.standard_normal((5, 5))\n",
        "mat = X.T @ X\n",
        "inv(mat)\n",
        "mat @ inv(mat)"
      ],
      "metadata": {
        "colab": {
          "base_uri": "https://localhost:8080/"
        },
        "id": "xUYiZru1LSA5",
        "outputId": "f7c9268c-7b74-4536-a47f-e5ea5973e885"
      },
      "execution_count": 106,
      "outputs": [
        {
          "output_type": "execute_result",
          "data": {
            "text/plain": [
              "array([[ 1.,  0., -0.,  0., -0.],\n",
              "       [ 0.,  1.,  0.,  0., -0.],\n",
              "       [ 0., -0.,  1., -0., -0.],\n",
              "       [ 0., -0.,  0.,  1., -0.],\n",
              "       [ 0., -0.,  0., -0.,  1.]])"
            ]
          },
          "metadata": {},
          "execution_count": 106
        }
      ]
    },
    {
      "cell_type": "markdown",
      "source": [
        "##Example: Random Walks"
      ],
      "metadata": {
        "id": "Di-63e1jwoh3"
      }
    },
    {
      "cell_type": "code",
      "source": [
        "import random\n",
        "position = 0\n",
        "walk = [position]\n",
        "nsteps = 1000\n",
        "for _ in range(nsteps):\n",
        "    step = 1 if random.randint(0, 1) else -1\n",
        "    position += step\n",
        "    walk.append(position)"
      ],
      "metadata": {
        "id": "8S_QXhs4LR9v"
      },
      "execution_count": 107,
      "outputs": []
    },
    {
      "cell_type": "code",
      "source": [
        "plt.figure()"
      ],
      "metadata": {
        "colab": {
          "base_uri": "https://localhost:8080/",
          "height": 53
        },
        "id": "NobTgQyZLR5z",
        "outputId": "c2c0fe00-945c-4487-8fb9-23d828843cf4"
      },
      "execution_count": 108,
      "outputs": [
        {
          "output_type": "execute_result",
          "data": {
            "text/plain": [
              "<Figure size 1000x600 with 0 Axes>"
            ]
          },
          "metadata": {},
          "execution_count": 108
        },
        {
          "output_type": "display_data",
          "data": {
            "text/plain": [
              "<Figure size 1000x600 with 0 Axes>"
            ]
          },
          "metadata": {}
        }
      ]
    },
    {
      "cell_type": "code",
      "source": [
        "plt.plot(walk[:100])"
      ],
      "metadata": {
        "colab": {
          "base_uri": "https://localhost:8080/",
          "height": 540
        },
        "id": "bpt4y_BKLR3A",
        "outputId": "14a120b3-2661-4bf8-a869-3bbb72282581"
      },
      "execution_count": 109,
      "outputs": [
        {
          "output_type": "execute_result",
          "data": {
            "text/plain": [
              "[<matplotlib.lines.Line2D at 0x7c726a692fc0>]"
            ]
          },
          "metadata": {},
          "execution_count": 109
        },
        {
          "output_type": "display_data",
          "data": {
            "text/plain": [
              "<Figure size 1000x600 with 1 Axes>"
            ],
            "image/png": "[encoded data removed]"
          },
          "metadata": {}
        }
      ]
    },
    {
      "cell_type": "code",
      "source": [
        "nsteps = 1000\n",
        "rng = np.random.default_rng(seed=12345)  # fresh random generator\n",
        "draws = rng.integers(0, 2, size=nsteps)\n",
        "steps = np.where(draws == 0, 1, -1)\n",
        "walk = steps.cumsum()"
      ],
      "metadata": {
        "id": "i7lFK19vLRzP"
      },
      "execution_count": 110,
      "outputs": []
    },
    {
      "cell_type": "code",
      "source": [
        "walk.min()\n",
        "walk.max()"
      ],
      "metadata": {
        "colab": {
          "base_uri": "https://localhost:8080/"
        },
        "id": "R4JBT7lwLRwA",
        "outputId": "59648dbc-bd6a-42d8-f117-6e0255ff81ec"
      },
      "execution_count": 111,
      "outputs": [
        {
          "output_type": "execute_result",
          "data": {
            "text/plain": [
              "np.int64(50)"
            ]
          },
          "metadata": {},
          "execution_count": 111
        }
      ]
    },
    {
      "cell_type": "code",
      "source": [
        "(np.abs(walk) >= 10).argmax()"
      ],
      "metadata": {
        "colab": {
          "base_uri": "https://localhost:8080/"
        },
        "id": "7EU483mnLRtT",
        "outputId": "4633e5dd-b034-46ca-8d13-ffb257e4c775"
      },
      "execution_count": 112,
      "outputs": [
        {
          "output_type": "execute_result",
          "data": {
            "text/plain": [
              "np.int64(155)"
            ]
          },
          "metadata": {},
          "execution_count": 112
        }
      ]
    },
    {
      "cell_type": "markdown",
      "source": [
        "###Simulating Many Random Walks at Once"
      ],
      "metadata": {
        "id": "foilhV7fxZa9"
      }
    },
    {
      "cell_type": "code",
      "source": [
        "nwalks = 5000\n",
        "nsteps = 1000\n",
        "draws = rng.integers(0, 2, size=(nwalks, nsteps)) # 0 or 1\n",
        "steps = np.where(draws > 0, 1, -1)\n",
        "walks = steps.cumsum(axis=1)\n",
        "walks"
      ],
      "metadata": {
        "colab": {
          "base_uri": "https://localhost:8080/"
        },
        "id": "qIoxOvVtLRps",
        "outputId": "018c6ed5-f3ea-4980-f8cc-aa636cfdf4ad"
      },
      "execution_count": 113,
      "outputs": [
        {
          "output_type": "execute_result",
          "data": {
            "text/plain": [
              "array([[  1,   2,   3, ...,  22,  23,  22],\n",
              "       [  1,   0,  -1, ..., -50, -49, -48],\n",
              "       [  1,   2,   3, ...,  50,  49,  48],\n",
              "       ...,\n",
              "       [ -1,  -2,  -1, ..., -10,  -9, -10],\n",
              "       [ -1,  -2,  -3, ...,   8,   9,   8],\n",
              "       [ -1,   0,   1, ...,  -4,  -3,  -2]])"
            ]
          },
          "metadata": {},
          "execution_count": 113
        }
      ]
    },
    {
      "cell_type": "code",
      "source": [
        "walks.max()\n",
        "walks.min()"
      ],
      "metadata": {
        "colab": {
          "base_uri": "https://localhost:8080/"
        },
        "id": "TM5xPvGPLRmP",
        "outputId": "8ac1ef23-0e01-4da3-aec8-0d158c58765d"
      },
      "execution_count": 114,
      "outputs": [
        {
          "output_type": "execute_result",
          "data": {
            "text/plain": [
              "np.int64(-120)"
            ]
          },
          "metadata": {},
          "execution_count": 114
        }
      ]
    },
    {
      "cell_type": "code",
      "source": [
        "hits30 = (np.abs(walks) >= 30).any(axis=1)\n",
        "hits30\n",
        "hits30.sum() # Number that hit 30 or -30"
      ],
      "metadata": {
        "colab": {
          "base_uri": "https://localhost:8080/"
        },
        "id": "3bZQKzEWLRRs",
        "outputId": "60bcd7bc-eb2e-4b62-e485-f3862761d315"
      },
      "execution_count": 115,
      "outputs": [
        {
          "output_type": "execute_result",
          "data": {
            "text/plain": [
              "np.int64(3395)"
            ]
          },
          "metadata": {},
          "execution_count": 115
        }
      ]
    },
    {
      "cell_type": "code",
      "source": [
        "crossing_times = (np.abs(walks[hits30]) >= 30).argmax(axis=1)\n",
        "crossing_times"
      ],
      "metadata": {
        "colab": {
          "base_uri": "https://localhost:8080/"
        },
        "id": "gKBeJIPNQcs-",
        "outputId": "878cfec5-d320-4f2c-b64b-e0b8e77a65b8"
      },
      "execution_count": 116,
      "outputs": [
        {
          "output_type": "execute_result",
          "data": {
            "text/plain": [
              "array([201, 491, 283, ..., 219, 259, 541])"
            ]
          },
          "metadata": {},
          "execution_count": 116
        }
      ]
    },
    {
      "cell_type": "code",
      "source": [
        "crossing_times.mean()"
      ],
      "metadata": {
        "colab": {
          "base_uri": "https://localhost:8080/"
        },
        "id": "wyZpdUlOQcpF",
        "outputId": "554bd3b4-74ce-46f6-bee0-4eb302119603"
      },
      "execution_count": 117,
      "outputs": [
        {
          "output_type": "execute_result",
          "data": {
            "text/plain": [
              "np.float64(500.5699558173785)"
            ]
          },
          "metadata": {},
          "execution_count": 117
        }
      ]
    },
    {
      "cell_type": "code",
      "source": [
        "draws = 0.25 * rng.standard_normal((nwalks, nsteps))"
      ],
      "metadata": {
        "id": "eogcjotIQck1"
      },
      "execution_count": 118,
      "outputs": []
    },
    {
      "cell_type": "markdown",
      "source": [
        "#Kết thúc\n"
      ],
      "metadata": {
        "id": "Z6y-JVCbHSeg"
      }
    }
  ]
}